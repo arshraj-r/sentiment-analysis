{
 "cells": [
  {
   "cell_type": "markdown",
   "id": "c40bd117",
   "metadata": {},
   "source": [
    "### Topic Modeling using BerTopic\n",
    "\n",
    "- https://maartengr.github.io/BERTopic/algorithm/algorithm.html\n",
    "- https://maartengr.github.io/BERTopic/getting_started/quickstart/quickstart.html"
   ]
  },
  {
   "cell_type": "markdown",
   "id": "67793b97",
   "metadata": {},
   "source": [
    "#### Reading the data from CSV"
   ]
  },
  {
   "cell_type": "code",
   "execution_count": null,
   "id": "394b95de",
   "metadata": {},
   "outputs": [
    {
     "name": "stdout",
     "output_type": "stream",
     "text": [
      "(1000, 2)\n"
     ]
    },
    {
     "data": {
      "text/html": [
       "<div>\n",
       "<style scoped>\n",
       "    .dataframe tbody tr th:only-of-type {\n",
       "        vertical-align: middle;\n",
       "    }\n",
       "\n",
       "    .dataframe tbody tr th {\n",
       "        vertical-align: top;\n",
       "    }\n",
       "\n",
       "    .dataframe thead th {\n",
       "        text-align: right;\n",
       "    }\n",
       "</style>\n",
       "<table border=\"1\" class=\"dataframe\">\n",
       "  <thead>\n",
       "    <tr style=\"text-align: right;\">\n",
       "      <th></th>\n",
       "      <th>text</th>\n",
       "      <th>label</th>\n",
       "    </tr>\n",
       "  </thead>\n",
       "  <tbody>\n",
       "    <tr>\n",
       "      <th>0</th>\n",
       "      <td>Last session of the day  http://twitpic.com/67ezh</td>\n",
       "      <td>1</td>\n",
       "    </tr>\n",
       "    <tr>\n",
       "      <th>1</th>\n",
       "      <td>Shanghai is also really exciting (precisely -...</td>\n",
       "      <td>2</td>\n",
       "    </tr>\n",
       "    <tr>\n",
       "      <th>2</th>\n",
       "      <td>Recession hit Veronique Branquinho, she has to...</td>\n",
       "      <td>0</td>\n",
       "    </tr>\n",
       "    <tr>\n",
       "      <th>3</th>\n",
       "      <td>happy bday!</td>\n",
       "      <td>2</td>\n",
       "    </tr>\n",
       "    <tr>\n",
       "      <th>4</th>\n",
       "      <td>http://twitpic.com/4w75p - I like it!!</td>\n",
       "      <td>2</td>\n",
       "    </tr>\n",
       "  </tbody>\n",
       "</table>\n",
       "</div>"
      ],
      "text/plain": [
       "                                                text  label\n",
       "0  Last session of the day  http://twitpic.com/67ezh      1\n",
       "1   Shanghai is also really exciting (precisely -...      2\n",
       "2  Recession hit Veronique Branquinho, she has to...      0\n",
       "3                                        happy bday!      2\n",
       "4             http://twitpic.com/4w75p - I like it!!      2"
      ]
     },
     "execution_count": 12,
     "metadata": {},
     "output_type": "execute_result"
    }
   ],
   "source": [
    "import pandas as pd\n",
    "df=pd.read_csv(\"data/train.csv\") #chanage your path here\n",
    "df=df[:1000].copy()  #filtering the first 1000 rows- just for testing purposes - to be commented in main code\n",
    "docs=df[\"text\"].to_list()  #select your text column here - topic modeling will run on this column\n",
    "print(df.shape)\n",
    "df.head()"
   ]
  },
  {
   "cell_type": "markdown",
   "id": "24e58601",
   "metadata": {},
   "source": [
    "#### Bertopic code\n",
    "Refer to documentation for learning each component :\n",
    "https://maartengr.github.io/BERTopic/algorithm/algorithm.html\n"
   ]
  },
  {
   "cell_type": "code",
   "execution_count": null,
   "id": "7ec02c7d",
   "metadata": {},
   "outputs": [],
   "source": [
    "from umap import UMAP\n",
    "from hdbscan import HDBSCAN\n",
    "from sentence_transformers import SentenceTransformer\n",
    "from sklearn.feature_extraction.text import CountVectorizer\n",
    "\n",
    "from bertopic import BERTopic\n",
    "from bertopic.representation import KeyBERTInspired\n",
    "from bertopic.vectorizers import ClassTfidfTransformer\n",
    "\n",
    "\n",
    "# Step 1 - Extract embeddings\n",
    "embedding_model = SentenceTransformer(\"all-MiniLM-L6-v2\")\n",
    "\n",
    "# Step 2 - Reduce dimensionality\n",
    "umap_model = UMAP(n_neighbors=15, n_components=5, min_dist=0.0, metric='cosine')\n",
    "\n",
    "# Step 3 - Cluster reduced embeddings\n",
    "hdbscan_model = HDBSCAN(min_cluster_size=20, metric='euclidean', cluster_selection_method='eom', prediction_data=True)\n",
    "\n",
    "# Step 4 - Tokenize topics\n",
    "vectorizer_model = CountVectorizer(stop_words=\"english\")\n",
    "\n",
    "# Step 5 - Create topic representation\n",
    "ctfidf_model = ClassTfidfTransformer()\n",
    "\n",
    "# Step 6 - (Optional) Fine-tune topic representations with\n",
    "# a `bertopic.representation` model\n",
    "representation_model = KeyBERTInspired()\n",
    "\n",
    "# All steps together\n",
    "topic_model = BERTopic(\n",
    "  embedding_model=embedding_model,          # Step 1 - Extract embeddings\n",
    "  umap_model=umap_model,                    # Step 2 - Reduce dimensionality\n",
    "  hdbscan_model=hdbscan_model,              # Step 3 - Cluster reduced embeddings\n",
    "  vectorizer_model=vectorizer_model,        # Step 4 - Tokenize topics\n",
    "  ctfidf_model=ctfidf_model,                # Step 5 - Extract topic words\n",
    "  representation_model=representation_model # Step 6 - (Optional) Fine-tune topic representations\n",
    "\n",
    "\n",
    ")"
   ]
  },
  {
   "cell_type": "code",
   "execution_count": 63,
   "id": "1747ba71",
   "metadata": {},
   "outputs": [
    {
     "data": {
      "application/vnd.jupyter.widget-view+json": {
       "model_id": "9bbb6f1274244353927e5912402d1a04",
       "version_major": 2,
       "version_minor": 0
      },
      "text/plain": [
       "Batches:   0%|          | 0/32 [00:00<?, ?it/s]"
      ]
     },
     "metadata": {},
     "output_type": "display_data"
    }
   ],
   "source": [
    "embeddings = embedding_model.encode(docs, show_progress_bar=True)\n",
    "topics , probs=topic_model.fit_transform(docs)\n",
    "df[\"Predicted_Topic\"]=topics\n",
    "df[\"Probablity\"]=probs"
   ]
  },
  {
   "cell_type": "markdown",
   "id": "f981afa1",
   "metadata": {},
   "source": [
    "#### Creating topic modeling results and saving in CSV"
   ]
  },
  {
   "cell_type": "code",
   "execution_count": 42,
   "id": "b118077a",
   "metadata": {},
   "outputs": [
    {
     "name": "stdout",
     "output_type": "stream",
     "text": [
      "Total Topics :10\n"
     ]
    },
    {
     "data": {
      "text/html": [
       "<div>\n",
       "<style scoped>\n",
       "    .dataframe tbody tr th:only-of-type {\n",
       "        vertical-align: middle;\n",
       "    }\n",
       "\n",
       "    .dataframe tbody tr th {\n",
       "        vertical-align: top;\n",
       "    }\n",
       "\n",
       "    .dataframe thead th {\n",
       "        text-align: right;\n",
       "    }\n",
       "</style>\n",
       "<table border=\"1\" class=\"dataframe\">\n",
       "  <thead>\n",
       "    <tr style=\"text-align: right;\">\n",
       "      <th></th>\n",
       "      <th>Topic</th>\n",
       "      <th>Count</th>\n",
       "      <th>Name</th>\n",
       "      <th>Representation</th>\n",
       "      <th>Representative_Docs</th>\n",
       "    </tr>\n",
       "  </thead>\n",
       "  <tbody>\n",
       "    <tr>\n",
       "      <th>0</th>\n",
       "      <td>-1</td>\n",
       "      <td>506</td>\n",
       "      <td>-1_happy_love_morning_bye</td>\n",
       "      <td>[happy, love, morning, bye, glad, hey, yay, da...</td>\n",
       "      <td>[http://twitpic.com/4ja8r - Tell me, how can y...</td>\n",
       "    </tr>\n",
       "    <tr>\n",
       "      <th>1</th>\n",
       "      <td>0</td>\n",
       "      <td>117</td>\n",
       "      <td>0_twitter_tweet_tweets_twitterland</td>\n",
       "      <td>[twitter, tweet, tweets, twitterland, tweetdec...</td>\n",
       "      <td>[ look who I found just for you  ---&gt;  http://...</td>\n",
       "    </tr>\n",
       "    <tr>\n",
       "      <th>2</th>\n",
       "      <td>1</td>\n",
       "      <td>80</td>\n",
       "      <td>1_hollyoaks_cried_concert_watch</td>\n",
       "      <td>[hollyoaks, cried, concert, watch, bgt, watche...</td>\n",
       "      <td>[Just listened to condre scr and got an invita...</td>\n",
       "    </tr>\n",
       "    <tr>\n",
       "      <th>3</th>\n",
       "      <td>2</td>\n",
       "      <td>67</td>\n",
       "      <td>2_morning_goodnight_night_asleep</td>\n",
       "      <td>[morning, goodnight, night, asleep, sleep, wak...</td>\n",
       "      <td>[Good morning everyone,  Good night, Rob. Slee...</td>\n",
       "    </tr>\n",
       "    <tr>\n",
       "      <th>4</th>\n",
       "      <td>3</td>\n",
       "      <td>64</td>\n",
       "      <td>3_sunshine_sun_raining_monsoon</td>\n",
       "      <td>[sunshine, sun, raining, monsoon, sunscreen, w...</td>\n",
       "      <td>[Got caught in the rain. Sand Monsoon all the ...</td>\n",
       "    </tr>\n",
       "    <tr>\n",
       "      <th>5</th>\n",
       "      <td>4</td>\n",
       "      <td>61</td>\n",
       "      <td>4_sick_nauseous_hungry_flu</td>\n",
       "      <td>[sick, nauseous, hungry, flu, bread, breakfast...</td>\n",
       "      <td>[All of a sudden I`m craving broccoli and chee...</td>\n",
       "    </tr>\n",
       "    <tr>\n",
       "      <th>6</th>\n",
       "      <td>5</td>\n",
       "      <td>29</td>\n",
       "      <td>5_life_depressed_miserable_happy</td>\n",
       "      <td>[life, depressed, miserable, happy, feeling, f...</td>\n",
       "      <td>[the best things in life are free  x,  Thank y...</td>\n",
       "    </tr>\n",
       "    <tr>\n",
       "      <th>7</th>\n",
       "      <td>6</td>\n",
       "      <td>29</td>\n",
       "      <td>6_mothers_mother_mama_mom</td>\n",
       "      <td>[mothers, mother, mama, mom, mum, mommy, moms,...</td>\n",
       "      <td>[Happy mothers day mom  ?,  Happy Mothers Day,...</td>\n",
       "    </tr>\n",
       "    <tr>\n",
       "      <th>8</th>\n",
       "      <td>7</td>\n",
       "      <td>27</td>\n",
       "      <td>7_photos_zoo_photo_outfit</td>\n",
       "      <td>[photos, zoo, photo, outfit, stuffed, tyrannos...</td>\n",
       "      <td>[ I could, but that would require today not to...</td>\n",
       "    </tr>\n",
       "    <tr>\n",
       "      <th>9</th>\n",
       "      <td>8</td>\n",
       "      <td>20</td>\n",
       "      <td>8_thanks_welcome_following_chtx7e</td>\n",
       "      <td>[thanks, welcome, following, chtx7e, tinyurl, ...</td>\n",
       "      <td>[ Thanks for the hint.  http://tinyurl.com/cht...</td>\n",
       "    </tr>\n",
       "  </tbody>\n",
       "</table>\n",
       "</div>"
      ],
      "text/plain": [
       "   Topic  Count                                Name  \\\n",
       "0     -1    506           -1_happy_love_morning_bye   \n",
       "1      0    117  0_twitter_tweet_tweets_twitterland   \n",
       "2      1     80     1_hollyoaks_cried_concert_watch   \n",
       "3      2     67    2_morning_goodnight_night_asleep   \n",
       "4      3     64      3_sunshine_sun_raining_monsoon   \n",
       "5      4     61          4_sick_nauseous_hungry_flu   \n",
       "6      5     29    5_life_depressed_miserable_happy   \n",
       "7      6     29           6_mothers_mother_mama_mom   \n",
       "8      7     27           7_photos_zoo_photo_outfit   \n",
       "9      8     20   8_thanks_welcome_following_chtx7e   \n",
       "\n",
       "                                      Representation  \\\n",
       "0  [happy, love, morning, bye, glad, hey, yay, da...   \n",
       "1  [twitter, tweet, tweets, twitterland, tweetdec...   \n",
       "2  [hollyoaks, cried, concert, watch, bgt, watche...   \n",
       "3  [morning, goodnight, night, asleep, sleep, wak...   \n",
       "4  [sunshine, sun, raining, monsoon, sunscreen, w...   \n",
       "5  [sick, nauseous, hungry, flu, bread, breakfast...   \n",
       "6  [life, depressed, miserable, happy, feeling, f...   \n",
       "7  [mothers, mother, mama, mom, mum, mommy, moms,...   \n",
       "8  [photos, zoo, photo, outfit, stuffed, tyrannos...   \n",
       "9  [thanks, welcome, following, chtx7e, tinyurl, ...   \n",
       "\n",
       "                                 Representative_Docs  \n",
       "0  [http://twitpic.com/4ja8r - Tell me, how can y...  \n",
       "1  [ look who I found just for you  --->  http://...  \n",
       "2  [Just listened to condre scr and got an invita...  \n",
       "3  [Good morning everyone,  Good night, Rob. Slee...  \n",
       "4  [Got caught in the rain. Sand Monsoon all the ...  \n",
       "5  [All of a sudden I`m craving broccoli and chee...  \n",
       "6  [the best things in life are free  x,  Thank y...  \n",
       "7  [Happy mothers day mom  ?,  Happy Mothers Day,...  \n",
       "8  [ I could, but that would require today not to...  \n",
       "9  [ Thanks for the hint.  http://tinyurl.com/cht...  "
      ]
     },
     "execution_count": 42,
     "metadata": {},
     "output_type": "execute_result"
    }
   ],
   "source": [
    "df_topic_info=pd.DataFrame(topic_model.get_topic_info())\n",
    "df_topic_info.to_csv(\"topic_info.csv\",index=False)\n",
    "print(f\"Total Topics :{df_topic_info.shape[0]}\")\n",
    "df_topic_info"
   ]
  },
  {
   "cell_type": "code",
   "execution_count": 53,
   "id": "75783666",
   "metadata": {},
   "outputs": [
    {
     "data": {
      "text/html": [
       "<div>\n",
       "<style scoped>\n",
       "    .dataframe tbody tr th:only-of-type {\n",
       "        vertical-align: middle;\n",
       "    }\n",
       "\n",
       "    .dataframe tbody tr th {\n",
       "        vertical-align: top;\n",
       "    }\n",
       "\n",
       "    .dataframe thead th {\n",
       "        text-align: right;\n",
       "    }\n",
       "</style>\n",
       "<table border=\"1\" class=\"dataframe\">\n",
       "  <thead>\n",
       "    <tr style=\"text-align: right;\">\n",
       "      <th></th>\n",
       "      <th>Document</th>\n",
       "      <th>Topic</th>\n",
       "      <th>Name</th>\n",
       "      <th>Representation</th>\n",
       "      <th>Representative_Docs</th>\n",
       "      <th>Top_n_words</th>\n",
       "      <th>Probability</th>\n",
       "      <th>Representative_document</th>\n",
       "    </tr>\n",
       "  </thead>\n",
       "  <tbody>\n",
       "    <tr>\n",
       "      <th>0</th>\n",
       "      <td>Last session of the day  http://twitpic.com/67ezh</td>\n",
       "      <td>-1</td>\n",
       "      <td>-1_happy_love_morning_bye</td>\n",
       "      <td>[happy, love, morning, bye, glad, hey, yay, da...</td>\n",
       "      <td>[http://twitpic.com/4ja8r - Tell me, how can y...</td>\n",
       "      <td>happy - love - morning - bye - glad - hey - ya...</td>\n",
       "      <td>0.000000</td>\n",
       "      <td>False</td>\n",
       "    </tr>\n",
       "    <tr>\n",
       "      <th>1</th>\n",
       "      <td>Shanghai is also really exciting (precisely -...</td>\n",
       "      <td>0</td>\n",
       "      <td>0_twitter_tweet_tweets_twitterland</td>\n",
       "      <td>[twitter, tweet, tweets, twitterland, tweetdec...</td>\n",
       "      <td>[ look who I found just for you  ---&gt;  http://...</td>\n",
       "      <td>twitter - tweet - tweets - twitterland - tweet...</td>\n",
       "      <td>0.521174</td>\n",
       "      <td>False</td>\n",
       "    </tr>\n",
       "    <tr>\n",
       "      <th>2</th>\n",
       "      <td>Recession hit Veronique Branquinho, she has to...</td>\n",
       "      <td>1</td>\n",
       "      <td>1_hollyoaks_cried_concert_watch</td>\n",
       "      <td>[hollyoaks, cried, concert, watch, bgt, watche...</td>\n",
       "      <td>[Just listened to condre scr and got an invita...</td>\n",
       "      <td>hollyoaks - cried - concert - watch - bgt - wa...</td>\n",
       "      <td>0.579041</td>\n",
       "      <td>False</td>\n",
       "    </tr>\n",
       "  </tbody>\n",
       "</table>\n",
       "</div>"
      ],
      "text/plain": [
       "                                            Document  Topic  \\\n",
       "0  Last session of the day  http://twitpic.com/67ezh     -1   \n",
       "1   Shanghai is also really exciting (precisely -...      0   \n",
       "2  Recession hit Veronique Branquinho, she has to...      1   \n",
       "\n",
       "                                 Name  \\\n",
       "0           -1_happy_love_morning_bye   \n",
       "1  0_twitter_tweet_tweets_twitterland   \n",
       "2     1_hollyoaks_cried_concert_watch   \n",
       "\n",
       "                                      Representation  \\\n",
       "0  [happy, love, morning, bye, glad, hey, yay, da...   \n",
       "1  [twitter, tweet, tweets, twitterland, tweetdec...   \n",
       "2  [hollyoaks, cried, concert, watch, bgt, watche...   \n",
       "\n",
       "                                 Representative_Docs  \\\n",
       "0  [http://twitpic.com/4ja8r - Tell me, how can y...   \n",
       "1  [ look who I found just for you  --->  http://...   \n",
       "2  [Just listened to condre scr and got an invita...   \n",
       "\n",
       "                                         Top_n_words  Probability  \\\n",
       "0  happy - love - morning - bye - glad - hey - ya...     0.000000   \n",
       "1  twitter - tweet - tweets - twitterland - tweet...     0.521174   \n",
       "2  hollyoaks - cried - concert - watch - bgt - wa...     0.579041   \n",
       "\n",
       "   Representative_document  \n",
       "0                    False  \n",
       "1                    False  \n",
       "2                    False  "
      ]
     },
     "execution_count": 53,
     "metadata": {},
     "output_type": "execute_result"
    }
   ],
   "source": [
    "df_document_info=pd.DataFrame(topic_model.get_document_info(docs))\n",
    "df_document_info.to_csv(\"document_info.csv\",index=False)\n",
    "df_document_info.head(3)"
   ]
  },
  {
   "cell_type": "code",
   "execution_count": null,
   "id": "44a08200",
   "metadata": {},
   "outputs": [],
   "source": [
    "topic_model.get_topic(2)"
   ]
  },
  {
   "cell_type": "markdown",
   "id": "0c4decf5",
   "metadata": {},
   "source": [
    "### Creating Visulization"
   ]
  },
  {
   "cell_type": "code",
   "execution_count": 56,
   "id": "fd1d0d5b",
   "metadata": {},
   "outputs": [
    {
     "data": {
      "application/vnd.plotly.v1+json": {
       "config": {
        "plotlyServerURL": "https://plot.ly"
       },
       "data": [
        {
         "customdata": [
          [
           0,
           "morning | goodnight | night | bed | awake",
           169
          ],
          [
           1,
           "tweet | twitter | tweets | tweetdeck | twitterland",
           118
          ],
          [
           2,
           "watched | concert | bgt | watch | movie",
           85
          ],
          [
           3,
           "sick | nauseous | craving | hungry | flu",
           64
          ],
          [
           4,
           "depressed | feel | life | cares | im",
           44
          ],
          [
           5,
           "thanks | welcome | thank | following | got",
           27
          ],
          [
           6,
           "mothers | mother | mama | mom | mum",
           24
          ],
          [
           7,
           "photos | zoo | photo | stuffed | outfit",
           21
          ]
         ],
         "hovertemplate": "<b>Topic %{customdata[0]}</b><br>%{customdata[1]}<br>Size: %{customdata[2]}",
         "legendgroup": "",
         "marker": {
          "color": "#B0BEC5",
          "line": {
           "color": "DarkSlateGrey",
           "width": 2
          },
          "size": {
           "bdata": "qQB2AFUAQAAsABsAGAAVAA==",
           "dtype": "i2"
          },
          "sizemode": "area",
          "sizeref": 0.105625,
          "symbol": "circle"
         },
         "mode": "markers",
         "name": "",
         "orientation": "v",
         "showlegend": false,
         "type": "scatter",
         "x": {
          "bdata": "Lq2IQZweX7+At3pBBB6EQfBtgUF4uhC/eISDQTr9iUE=",
          "dtype": "f4"
         },
         "xaxis": "x",
         "y": {
          "bdata": "zU6HP2H71j+znPu+bD+CPvOdjL4dxq8/cei4P/QtzT8=",
          "dtype": "f4"
         },
         "yaxis": "y"
        }
       ],
       "layout": {
        "annotations": [
         {
          "showarrow": false,
          "text": "D1",
          "x": -1.002294933795929,
          "y": 0.6831670336425305,
          "yshift": 10
         },
         {
          "showarrow": false,
          "text": "D2",
          "x": 9.416823858022688,
          "xshift": 10,
          "y": 1.9314784467220307
         }
        ],
        "height": 650,
        "hoverlabel": {
         "bgcolor": "white",
         "font": {
          "family": "Rockwell",
          "size": 16
         }
        },
        "legend": {
         "itemsizing": "constant",
         "tracegroupgap": 0
        },
        "margin": {
         "t": 60
        },
        "shapes": [
         {
          "line": {
           "color": "#CFD8DC",
           "width": 2
          },
          "type": "line",
          "x0": 9.416823858022688,
          "x1": 9.416823858022688,
          "y0": -0.5651443794369697,
          "y1": 1.9314784467220307
         },
         {
          "line": {
           "color": "#9E9E9E",
           "width": 2
          },
          "type": "line",
          "x0": -1.002294933795929,
          "x1": 19.835942649841307,
          "y0": 0.6831670336425305,
          "y1": 0.6831670336425305
         }
        ],
        "sliders": [
         {
          "active": 0,
          "pad": {
           "t": 50
          },
          "steps": [
           {
            "args": [
             {
              "marker.color": [
               [
                "red",
                "#B0BEC5",
                "#B0BEC5",
                "#B0BEC5",
                "#B0BEC5",
                "#B0BEC5",
                "#B0BEC5",
                "#B0BEC5"
               ]
              ]
             }
            ],
            "label": "Topic 0",
            "method": "update"
           },
           {
            "args": [
             {
              "marker.color": [
               [
                "#B0BEC5",
                "red",
                "#B0BEC5",
                "#B0BEC5",
                "#B0BEC5",
                "#B0BEC5",
                "#B0BEC5",
                "#B0BEC5"
               ]
              ]
             }
            ],
            "label": "Topic 1",
            "method": "update"
           },
           {
            "args": [
             {
              "marker.color": [
               [
                "#B0BEC5",
                "#B0BEC5",
                "red",
                "#B0BEC5",
                "#B0BEC5",
                "#B0BEC5",
                "#B0BEC5",
                "#B0BEC5"
               ]
              ]
             }
            ],
            "label": "Topic 2",
            "method": "update"
           },
           {
            "args": [
             {
              "marker.color": [
               [
                "#B0BEC5",
                "#B0BEC5",
                "#B0BEC5",
                "red",
                "#B0BEC5",
                "#B0BEC5",
                "#B0BEC5",
                "#B0BEC5"
               ]
              ]
             }
            ],
            "label": "Topic 3",
            "method": "update"
           },
           {
            "args": [
             {
              "marker.color": [
               [
                "#B0BEC5",
                "#B0BEC5",
                "#B0BEC5",
                "#B0BEC5",
                "red",
                "#B0BEC5",
                "#B0BEC5",
                "#B0BEC5"
               ]
              ]
             }
            ],
            "label": "Topic 4",
            "method": "update"
           },
           {
            "args": [
             {
              "marker.color": [
               [
                "#B0BEC5",
                "#B0BEC5",
                "#B0BEC5",
                "#B0BEC5",
                "#B0BEC5",
                "red",
                "#B0BEC5",
                "#B0BEC5"
               ]
              ]
             }
            ],
            "label": "Topic 5",
            "method": "update"
           },
           {
            "args": [
             {
              "marker.color": [
               [
                "#B0BEC5",
                "#B0BEC5",
                "#B0BEC5",
                "#B0BEC5",
                "#B0BEC5",
                "#B0BEC5",
                "red",
                "#B0BEC5"
               ]
              ]
             }
            ],
            "label": "Topic 6",
            "method": "update"
           },
           {
            "args": [
             {
              "marker.color": [
               [
                "#B0BEC5",
                "#B0BEC5",
                "#B0BEC5",
                "#B0BEC5",
                "#B0BEC5",
                "#B0BEC5",
                "#B0BEC5",
                "red"
               ]
              ]
             }
            ],
            "label": "Topic 7",
            "method": "update"
           }
          ]
         }
        ],
        "template": {
         "data": {
          "bar": [
           {
            "error_x": {
             "color": "rgb(36,36,36)"
            },
            "error_y": {
             "color": "rgb(36,36,36)"
            },
            "marker": {
             "line": {
              "color": "white",
              "width": 0.5
             },
             "pattern": {
              "fillmode": "overlay",
              "size": 10,
              "solidity": 0.2
             }
            },
            "type": "bar"
           }
          ],
          "barpolar": [
           {
            "marker": {
             "line": {
              "color": "white",
              "width": 0.5
             },
             "pattern": {
              "fillmode": "overlay",
              "size": 10,
              "solidity": 0.2
             }
            },
            "type": "barpolar"
           }
          ],
          "carpet": [
           {
            "aaxis": {
             "endlinecolor": "rgb(36,36,36)",
             "gridcolor": "white",
             "linecolor": "white",
             "minorgridcolor": "white",
             "startlinecolor": "rgb(36,36,36)"
            },
            "baxis": {
             "endlinecolor": "rgb(36,36,36)",
             "gridcolor": "white",
             "linecolor": "white",
             "minorgridcolor": "white",
             "startlinecolor": "rgb(36,36,36)"
            },
            "type": "carpet"
           }
          ],
          "choropleth": [
           {
            "colorbar": {
             "outlinewidth": 1,
             "tickcolor": "rgb(36,36,36)",
             "ticks": "outside"
            },
            "type": "choropleth"
           }
          ],
          "contour": [
           {
            "colorbar": {
             "outlinewidth": 1,
             "tickcolor": "rgb(36,36,36)",
             "ticks": "outside"
            },
            "colorscale": [
             [
              0,
              "#440154"
             ],
             [
              0.1111111111111111,
              "#482878"
             ],
             [
              0.2222222222222222,
              "#3e4989"
             ],
             [
              0.3333333333333333,
              "#31688e"
             ],
             [
              0.4444444444444444,
              "#26828e"
             ],
             [
              0.5555555555555556,
              "#1f9e89"
             ],
             [
              0.6666666666666666,
              "#35b779"
             ],
             [
              0.7777777777777778,
              "#6ece58"
             ],
             [
              0.8888888888888888,
              "#b5de2b"
             ],
             [
              1,
              "#fde725"
             ]
            ],
            "type": "contour"
           }
          ],
          "contourcarpet": [
           {
            "colorbar": {
             "outlinewidth": 1,
             "tickcolor": "rgb(36,36,36)",
             "ticks": "outside"
            },
            "type": "contourcarpet"
           }
          ],
          "heatmap": [
           {
            "colorbar": {
             "outlinewidth": 1,
             "tickcolor": "rgb(36,36,36)",
             "ticks": "outside"
            },
            "colorscale": [
             [
              0,
              "#440154"
             ],
             [
              0.1111111111111111,
              "#482878"
             ],
             [
              0.2222222222222222,
              "#3e4989"
             ],
             [
              0.3333333333333333,
              "#31688e"
             ],
             [
              0.4444444444444444,
              "#26828e"
             ],
             [
              0.5555555555555556,
              "#1f9e89"
             ],
             [
              0.6666666666666666,
              "#35b779"
             ],
             [
              0.7777777777777778,
              "#6ece58"
             ],
             [
              0.8888888888888888,
              "#b5de2b"
             ],
             [
              1,
              "#fde725"
             ]
            ],
            "type": "heatmap"
           }
          ],
          "histogram": [
           {
            "marker": {
             "line": {
              "color": "white",
              "width": 0.6
             }
            },
            "type": "histogram"
           }
          ],
          "histogram2d": [
           {
            "colorbar": {
             "outlinewidth": 1,
             "tickcolor": "rgb(36,36,36)",
             "ticks": "outside"
            },
            "colorscale": [
             [
              0,
              "#440154"
             ],
             [
              0.1111111111111111,
              "#482878"
             ],
             [
              0.2222222222222222,
              "#3e4989"
             ],
             [
              0.3333333333333333,
              "#31688e"
             ],
             [
              0.4444444444444444,
              "#26828e"
             ],
             [
              0.5555555555555556,
              "#1f9e89"
             ],
             [
              0.6666666666666666,
              "#35b779"
             ],
             [
              0.7777777777777778,
              "#6ece58"
             ],
             [
              0.8888888888888888,
              "#b5de2b"
             ],
             [
              1,
              "#fde725"
             ]
            ],
            "type": "histogram2d"
           }
          ],
          "histogram2dcontour": [
           {
            "colorbar": {
             "outlinewidth": 1,
             "tickcolor": "rgb(36,36,36)",
             "ticks": "outside"
            },
            "colorscale": [
             [
              0,
              "#440154"
             ],
             [
              0.1111111111111111,
              "#482878"
             ],
             [
              0.2222222222222222,
              "#3e4989"
             ],
             [
              0.3333333333333333,
              "#31688e"
             ],
             [
              0.4444444444444444,
              "#26828e"
             ],
             [
              0.5555555555555556,
              "#1f9e89"
             ],
             [
              0.6666666666666666,
              "#35b779"
             ],
             [
              0.7777777777777778,
              "#6ece58"
             ],
             [
              0.8888888888888888,
              "#b5de2b"
             ],
             [
              1,
              "#fde725"
             ]
            ],
            "type": "histogram2dcontour"
           }
          ],
          "mesh3d": [
           {
            "colorbar": {
             "outlinewidth": 1,
             "tickcolor": "rgb(36,36,36)",
             "ticks": "outside"
            },
            "type": "mesh3d"
           }
          ],
          "parcoords": [
           {
            "line": {
             "colorbar": {
              "outlinewidth": 1,
              "tickcolor": "rgb(36,36,36)",
              "ticks": "outside"
             }
            },
            "type": "parcoords"
           }
          ],
          "pie": [
           {
            "automargin": true,
            "type": "pie"
           }
          ],
          "scatter": [
           {
            "fillpattern": {
             "fillmode": "overlay",
             "size": 10,
             "solidity": 0.2
            },
            "type": "scatter"
           }
          ],
          "scatter3d": [
           {
            "line": {
             "colorbar": {
              "outlinewidth": 1,
              "tickcolor": "rgb(36,36,36)",
              "ticks": "outside"
             }
            },
            "marker": {
             "colorbar": {
              "outlinewidth": 1,
              "tickcolor": "rgb(36,36,36)",
              "ticks": "outside"
             }
            },
            "type": "scatter3d"
           }
          ],
          "scattercarpet": [
           {
            "marker": {
             "colorbar": {
              "outlinewidth": 1,
              "tickcolor": "rgb(36,36,36)",
              "ticks": "outside"
             }
            },
            "type": "scattercarpet"
           }
          ],
          "scattergeo": [
           {
            "marker": {
             "colorbar": {
              "outlinewidth": 1,
              "tickcolor": "rgb(36,36,36)",
              "ticks": "outside"
             }
            },
            "type": "scattergeo"
           }
          ],
          "scattergl": [
           {
            "marker": {
             "colorbar": {
              "outlinewidth": 1,
              "tickcolor": "rgb(36,36,36)",
              "ticks": "outside"
             }
            },
            "type": "scattergl"
           }
          ],
          "scattermap": [
           {
            "marker": {
             "colorbar": {
              "outlinewidth": 1,
              "tickcolor": "rgb(36,36,36)",
              "ticks": "outside"
             }
            },
            "type": "scattermap"
           }
          ],
          "scattermapbox": [
           {
            "marker": {
             "colorbar": {
              "outlinewidth": 1,
              "tickcolor": "rgb(36,36,36)",
              "ticks": "outside"
             }
            },
            "type": "scattermapbox"
           }
          ],
          "scatterpolar": [
           {
            "marker": {
             "colorbar": {
              "outlinewidth": 1,
              "tickcolor": "rgb(36,36,36)",
              "ticks": "outside"
             }
            },
            "type": "scatterpolar"
           }
          ],
          "scatterpolargl": [
           {
            "marker": {
             "colorbar": {
              "outlinewidth": 1,
              "tickcolor": "rgb(36,36,36)",
              "ticks": "outside"
             }
            },
            "type": "scatterpolargl"
           }
          ],
          "scatterternary": [
           {
            "marker": {
             "colorbar": {
              "outlinewidth": 1,
              "tickcolor": "rgb(36,36,36)",
              "ticks": "outside"
             }
            },
            "type": "scatterternary"
           }
          ],
          "surface": [
           {
            "colorbar": {
             "outlinewidth": 1,
             "tickcolor": "rgb(36,36,36)",
             "ticks": "outside"
            },
            "colorscale": [
             [
              0,
              "#440154"
             ],
             [
              0.1111111111111111,
              "#482878"
             ],
             [
              0.2222222222222222,
              "#3e4989"
             ],
             [
              0.3333333333333333,
              "#31688e"
             ],
             [
              0.4444444444444444,
              "#26828e"
             ],
             [
              0.5555555555555556,
              "#1f9e89"
             ],
             [
              0.6666666666666666,
              "#35b779"
             ],
             [
              0.7777777777777778,
              "#6ece58"
             ],
             [
              0.8888888888888888,
              "#b5de2b"
             ],
             [
              1,
              "#fde725"
             ]
            ],
            "type": "surface"
           }
          ],
          "table": [
           {
            "cells": {
             "fill": {
              "color": "rgb(237,237,237)"
             },
             "line": {
              "color": "white"
             }
            },
            "header": {
             "fill": {
              "color": "rgb(217,217,217)"
             },
             "line": {
              "color": "white"
             }
            },
            "type": "table"
           }
          ]
         },
         "layout": {
          "annotationdefaults": {
           "arrowhead": 0,
           "arrowwidth": 1
          },
          "autotypenumbers": "strict",
          "coloraxis": {
           "colorbar": {
            "outlinewidth": 1,
            "tickcolor": "rgb(36,36,36)",
            "ticks": "outside"
           }
          },
          "colorscale": {
           "diverging": [
            [
             0,
             "rgb(103,0,31)"
            ],
            [
             0.1,
             "rgb(178,24,43)"
            ],
            [
             0.2,
             "rgb(214,96,77)"
            ],
            [
             0.3,
             "rgb(244,165,130)"
            ],
            [
             0.4,
             "rgb(253,219,199)"
            ],
            [
             0.5,
             "rgb(247,247,247)"
            ],
            [
             0.6,
             "rgb(209,229,240)"
            ],
            [
             0.7,
             "rgb(146,197,222)"
            ],
            [
             0.8,
             "rgb(67,147,195)"
            ],
            [
             0.9,
             "rgb(33,102,172)"
            ],
            [
             1,
             "rgb(5,48,97)"
            ]
           ],
           "sequential": [
            [
             0,
             "#440154"
            ],
            [
             0.1111111111111111,
             "#482878"
            ],
            [
             0.2222222222222222,
             "#3e4989"
            ],
            [
             0.3333333333333333,
             "#31688e"
            ],
            [
             0.4444444444444444,
             "#26828e"
            ],
            [
             0.5555555555555556,
             "#1f9e89"
            ],
            [
             0.6666666666666666,
             "#35b779"
            ],
            [
             0.7777777777777778,
             "#6ece58"
            ],
            [
             0.8888888888888888,
             "#b5de2b"
            ],
            [
             1,
             "#fde725"
            ]
           ],
           "sequentialminus": [
            [
             0,
             "#440154"
            ],
            [
             0.1111111111111111,
             "#482878"
            ],
            [
             0.2222222222222222,
             "#3e4989"
            ],
            [
             0.3333333333333333,
             "#31688e"
            ],
            [
             0.4444444444444444,
             "#26828e"
            ],
            [
             0.5555555555555556,
             "#1f9e89"
            ],
            [
             0.6666666666666666,
             "#35b779"
            ],
            [
             0.7777777777777778,
             "#6ece58"
            ],
            [
             0.8888888888888888,
             "#b5de2b"
            ],
            [
             1,
             "#fde725"
            ]
           ]
          },
          "colorway": [
           "#1F77B4",
           "#FF7F0E",
           "#2CA02C",
           "#D62728",
           "#9467BD",
           "#8C564B",
           "#E377C2",
           "#7F7F7F",
           "#BCBD22",
           "#17BECF"
          ],
          "font": {
           "color": "rgb(36,36,36)"
          },
          "geo": {
           "bgcolor": "white",
           "lakecolor": "white",
           "landcolor": "white",
           "showlakes": true,
           "showland": true,
           "subunitcolor": "white"
          },
          "hoverlabel": {
           "align": "left"
          },
          "hovermode": "closest",
          "mapbox": {
           "style": "light"
          },
          "paper_bgcolor": "white",
          "plot_bgcolor": "white",
          "polar": {
           "angularaxis": {
            "gridcolor": "rgb(232,232,232)",
            "linecolor": "rgb(36,36,36)",
            "showgrid": false,
            "showline": true,
            "ticks": "outside"
           },
           "bgcolor": "white",
           "radialaxis": {
            "gridcolor": "rgb(232,232,232)",
            "linecolor": "rgb(36,36,36)",
            "showgrid": false,
            "showline": true,
            "ticks": "outside"
           }
          },
          "scene": {
           "xaxis": {
            "backgroundcolor": "white",
            "gridcolor": "rgb(232,232,232)",
            "gridwidth": 2,
            "linecolor": "rgb(36,36,36)",
            "showbackground": true,
            "showgrid": false,
            "showline": true,
            "ticks": "outside",
            "zeroline": false,
            "zerolinecolor": "rgb(36,36,36)"
           },
           "yaxis": {
            "backgroundcolor": "white",
            "gridcolor": "rgb(232,232,232)",
            "gridwidth": 2,
            "linecolor": "rgb(36,36,36)",
            "showbackground": true,
            "showgrid": false,
            "showline": true,
            "ticks": "outside",
            "zeroline": false,
            "zerolinecolor": "rgb(36,36,36)"
           },
           "zaxis": {
            "backgroundcolor": "white",
            "gridcolor": "rgb(232,232,232)",
            "gridwidth": 2,
            "linecolor": "rgb(36,36,36)",
            "showbackground": true,
            "showgrid": false,
            "showline": true,
            "ticks": "outside",
            "zeroline": false,
            "zerolinecolor": "rgb(36,36,36)"
           }
          },
          "shapedefaults": {
           "fillcolor": "black",
           "line": {
            "width": 0
           },
           "opacity": 0.3
          },
          "ternary": {
           "aaxis": {
            "gridcolor": "rgb(232,232,232)",
            "linecolor": "rgb(36,36,36)",
            "showgrid": false,
            "showline": true,
            "ticks": "outside"
           },
           "baxis": {
            "gridcolor": "rgb(232,232,232)",
            "linecolor": "rgb(36,36,36)",
            "showgrid": false,
            "showline": true,
            "ticks": "outside"
           },
           "bgcolor": "white",
           "caxis": {
            "gridcolor": "rgb(232,232,232)",
            "linecolor": "rgb(36,36,36)",
            "showgrid": false,
            "showline": true,
            "ticks": "outside"
           }
          },
          "title": {
           "x": 0.05
          },
          "xaxis": {
           "automargin": true,
           "gridcolor": "rgb(232,232,232)",
           "linecolor": "rgb(36,36,36)",
           "showgrid": false,
           "showline": true,
           "ticks": "outside",
           "title": {
            "standoff": 15
           },
           "zeroline": false,
           "zerolinecolor": "rgb(36,36,36)"
          },
          "yaxis": {
           "automargin": true,
           "gridcolor": "rgb(232,232,232)",
           "linecolor": "rgb(36,36,36)",
           "showgrid": false,
           "showline": true,
           "ticks": "outside",
           "title": {
            "standoff": 15
           },
           "zeroline": false,
           "zerolinecolor": "rgb(36,36,36)"
          }
         }
        },
        "title": {
         "font": {
          "color": "Black",
          "size": 22
         },
         "text": "<b>Intertopic Distance Map</b>",
         "x": 0.5,
         "xanchor": "center",
         "y": 0.95,
         "yanchor": "top"
        },
        "width": 650,
        "xaxis": {
         "anchor": "y",
         "domain": [
          0,
          1
         ],
         "range": [
          -1.002294933795929,
          19.835942649841307
         ],
         "title": {
          "text": ""
         },
         "visible": false
        },
        "yaxis": {
         "anchor": "x",
         "domain": [
          0,
          1
         ],
         "range": [
          -0.5651443794369697,
          1.9314784467220307
         ],
         "title": {
          "text": ""
         },
         "visible": false
        }
       }
      }
     },
     "metadata": {},
     "output_type": "display_data"
    }
   ],
   "source": [
    "topic_model.visualize_topics()"
   ]
  },
  {
   "cell_type": "code",
   "execution_count": 57,
   "id": "3bbad8ba",
   "metadata": {},
   "outputs": [
    {
     "data": {
      "application/vnd.plotly.v1+json": {
       "config": {
        "plotlyServerURL": "https://plot.ly"
       },
       "data": [
        {
         "coloraxis": "coloraxis",
         "hovertemplate": "x: %{x}<br>y: %{y}<br>Similarity Score: %{z}<extra></extra>",
         "name": "0",
         "type": "heatmap",
         "x": [
          "0_morning_goodnight_night",
          "1_tweet_twitter_tweets",
          "2_watched_concert_bgt",
          "3_sick_nauseous_craving",
          "4_depressed_feel_life",
          "5_thanks_welcome_thank",
          "6_mothers_mother_mama",
          "7_photos_zoo_photo"
         ],
         "xaxis": "x",
         "y": [
          "0_morning_goodnight_night",
          "1_tweet_twitter_tweets",
          "2_watched_concert_bgt",
          "3_sick_nauseous_craving",
          "4_depressed_feel_life",
          "5_thanks_welcome_thank",
          "6_mothers_mother_mama",
          "7_photos_zoo_photo"
         ],
         "yaxis": "y",
         "z": {
          "bdata": "AACAP5O9AD/KMAc/+tAcPypaDj+Uau0+jA/yPuylAT+TvQA/AACAPzTX1D56KsA+7vHpPheCCj+ZOY0+gO7XPsowBz8019Q+AACAP1Ox2T7gAQo/ow/TPvkquj5Vvc8++tAcP3oqwD5Tsdk+AACAP1N1Dz8EDKY+nbfGPgK25j4qWg4/7vHpPuABCj9TdQ8///9/P3F22z7OM94+gNvrPpRq7T4Xggo/ow/TPgQMpj5xdts+/v9/P77kiz42cgA/jA/yPpk5jT75Kro+nbfGPs4z3j6+5Is+AACAPw4jxz7spQE/gO7XPlW9zz4CtuY+gNvrPjZyAD8OI8c+AACAPw==",
          "dtype": "f4",
          "shape": "8, 8"
         }
        }
       ],
       "layout": {
        "coloraxis": {
         "colorbar": {
          "title": {
           "text": "Similarity Score"
          }
         },
         "colorscale": [
          [
           0,
           "rgb(247,252,240)"
          ],
          [
           0.125,
           "rgb(224,243,219)"
          ],
          [
           0.25,
           "rgb(204,235,197)"
          ],
          [
           0.375,
           "rgb(168,221,181)"
          ],
          [
           0.5,
           "rgb(123,204,196)"
          ],
          [
           0.625,
           "rgb(78,179,211)"
          ],
          [
           0.75,
           "rgb(43,140,190)"
          ],
          [
           0.875,
           "rgb(8,104,172)"
          ],
          [
           1,
           "rgb(8,64,129)"
          ]
         ]
        },
        "height": 800,
        "hoverlabel": {
         "bgcolor": "white",
         "font": {
          "family": "Rockwell",
          "size": 16
         }
        },
        "legend": {
         "title": {
          "text": "Trend"
         }
        },
        "margin": {
         "t": 60
        },
        "showlegend": true,
        "template": {
         "data": {
          "bar": [
           {
            "error_x": {
             "color": "#2a3f5f"
            },
            "error_y": {
             "color": "#2a3f5f"
            },
            "marker": {
             "line": {
              "color": "#E5ECF6",
              "width": 0.5
             },
             "pattern": {
              "fillmode": "overlay",
              "size": 10,
              "solidity": 0.2
             }
            },
            "type": "bar"
           }
          ],
          "barpolar": [
           {
            "marker": {
             "line": {
              "color": "#E5ECF6",
              "width": 0.5
             },
             "pattern": {
              "fillmode": "overlay",
              "size": 10,
              "solidity": 0.2
             }
            },
            "type": "barpolar"
           }
          ],
          "carpet": [
           {
            "aaxis": {
             "endlinecolor": "#2a3f5f",
             "gridcolor": "white",
             "linecolor": "white",
             "minorgridcolor": "white",
             "startlinecolor": "#2a3f5f"
            },
            "baxis": {
             "endlinecolor": "#2a3f5f",
             "gridcolor": "white",
             "linecolor": "white",
             "minorgridcolor": "white",
             "startlinecolor": "#2a3f5f"
            },
            "type": "carpet"
           }
          ],
          "choropleth": [
           {
            "colorbar": {
             "outlinewidth": 0,
             "ticks": ""
            },
            "type": "choropleth"
           }
          ],
          "contour": [
           {
            "colorbar": {
             "outlinewidth": 0,
             "ticks": ""
            },
            "colorscale": [
             [
              0,
              "#0d0887"
             ],
             [
              0.1111111111111111,
              "#46039f"
             ],
             [
              0.2222222222222222,
              "#7201a8"
             ],
             [
              0.3333333333333333,
              "#9c179e"
             ],
             [
              0.4444444444444444,
              "#bd3786"
             ],
             [
              0.5555555555555556,
              "#d8576b"
             ],
             [
              0.6666666666666666,
              "#ed7953"
             ],
             [
              0.7777777777777778,
              "#fb9f3a"
             ],
             [
              0.8888888888888888,
              "#fdca26"
             ],
             [
              1,
              "#f0f921"
             ]
            ],
            "type": "contour"
           }
          ],
          "contourcarpet": [
           {
            "colorbar": {
             "outlinewidth": 0,
             "ticks": ""
            },
            "type": "contourcarpet"
           }
          ],
          "heatmap": [
           {
            "colorbar": {
             "outlinewidth": 0,
             "ticks": ""
            },
            "colorscale": [
             [
              0,
              "#0d0887"
             ],
             [
              0.1111111111111111,
              "#46039f"
             ],
             [
              0.2222222222222222,
              "#7201a8"
             ],
             [
              0.3333333333333333,
              "#9c179e"
             ],
             [
              0.4444444444444444,
              "#bd3786"
             ],
             [
              0.5555555555555556,
              "#d8576b"
             ],
             [
              0.6666666666666666,
              "#ed7953"
             ],
             [
              0.7777777777777778,
              "#fb9f3a"
             ],
             [
              0.8888888888888888,
              "#fdca26"
             ],
             [
              1,
              "#f0f921"
             ]
            ],
            "type": "heatmap"
           }
          ],
          "histogram": [
           {
            "marker": {
             "pattern": {
              "fillmode": "overlay",
              "size": 10,
              "solidity": 0.2
             }
            },
            "type": "histogram"
           }
          ],
          "histogram2d": [
           {
            "colorbar": {
             "outlinewidth": 0,
             "ticks": ""
            },
            "colorscale": [
             [
              0,
              "#0d0887"
             ],
             [
              0.1111111111111111,
              "#46039f"
             ],
             [
              0.2222222222222222,
              "#7201a8"
             ],
             [
              0.3333333333333333,
              "#9c179e"
             ],
             [
              0.4444444444444444,
              "#bd3786"
             ],
             [
              0.5555555555555556,
              "#d8576b"
             ],
             [
              0.6666666666666666,
              "#ed7953"
             ],
             [
              0.7777777777777778,
              "#fb9f3a"
             ],
             [
              0.8888888888888888,
              "#fdca26"
             ],
             [
              1,
              "#f0f921"
             ]
            ],
            "type": "histogram2d"
           }
          ],
          "histogram2dcontour": [
           {
            "colorbar": {
             "outlinewidth": 0,
             "ticks": ""
            },
            "colorscale": [
             [
              0,
              "#0d0887"
             ],
             [
              0.1111111111111111,
              "#46039f"
             ],
             [
              0.2222222222222222,
              "#7201a8"
             ],
             [
              0.3333333333333333,
              "#9c179e"
             ],
             [
              0.4444444444444444,
              "#bd3786"
             ],
             [
              0.5555555555555556,
              "#d8576b"
             ],
             [
              0.6666666666666666,
              "#ed7953"
             ],
             [
              0.7777777777777778,
              "#fb9f3a"
             ],
             [
              0.8888888888888888,
              "#fdca26"
             ],
             [
              1,
              "#f0f921"
             ]
            ],
            "type": "histogram2dcontour"
           }
          ],
          "mesh3d": [
           {
            "colorbar": {
             "outlinewidth": 0,
             "ticks": ""
            },
            "type": "mesh3d"
           }
          ],
          "parcoords": [
           {
            "line": {
             "colorbar": {
              "outlinewidth": 0,
              "ticks": ""
             }
            },
            "type": "parcoords"
           }
          ],
          "pie": [
           {
            "automargin": true,
            "type": "pie"
           }
          ],
          "scatter": [
           {
            "fillpattern": {
             "fillmode": "overlay",
             "size": 10,
             "solidity": 0.2
            },
            "type": "scatter"
           }
          ],
          "scatter3d": [
           {
            "line": {
             "colorbar": {
              "outlinewidth": 0,
              "ticks": ""
             }
            },
            "marker": {
             "colorbar": {
              "outlinewidth": 0,
              "ticks": ""
             }
            },
            "type": "scatter3d"
           }
          ],
          "scattercarpet": [
           {
            "marker": {
             "colorbar": {
              "outlinewidth": 0,
              "ticks": ""
             }
            },
            "type": "scattercarpet"
           }
          ],
          "scattergeo": [
           {
            "marker": {
             "colorbar": {
              "outlinewidth": 0,
              "ticks": ""
             }
            },
            "type": "scattergeo"
           }
          ],
          "scattergl": [
           {
            "marker": {
             "colorbar": {
              "outlinewidth": 0,
              "ticks": ""
             }
            },
            "type": "scattergl"
           }
          ],
          "scattermap": [
           {
            "marker": {
             "colorbar": {
              "outlinewidth": 0,
              "ticks": ""
             }
            },
            "type": "scattermap"
           }
          ],
          "scattermapbox": [
           {
            "marker": {
             "colorbar": {
              "outlinewidth": 0,
              "ticks": ""
             }
            },
            "type": "scattermapbox"
           }
          ],
          "scatterpolar": [
           {
            "marker": {
             "colorbar": {
              "outlinewidth": 0,
              "ticks": ""
             }
            },
            "type": "scatterpolar"
           }
          ],
          "scatterpolargl": [
           {
            "marker": {
             "colorbar": {
              "outlinewidth": 0,
              "ticks": ""
             }
            },
            "type": "scatterpolargl"
           }
          ],
          "scatterternary": [
           {
            "marker": {
             "colorbar": {
              "outlinewidth": 0,
              "ticks": ""
             }
            },
            "type": "scatterternary"
           }
          ],
          "surface": [
           {
            "colorbar": {
             "outlinewidth": 0,
             "ticks": ""
            },
            "colorscale": [
             [
              0,
              "#0d0887"
             ],
             [
              0.1111111111111111,
              "#46039f"
             ],
             [
              0.2222222222222222,
              "#7201a8"
             ],
             [
              0.3333333333333333,
              "#9c179e"
             ],
             [
              0.4444444444444444,
              "#bd3786"
             ],
             [
              0.5555555555555556,
              "#d8576b"
             ],
             [
              0.6666666666666666,
              "#ed7953"
             ],
             [
              0.7777777777777778,
              "#fb9f3a"
             ],
             [
              0.8888888888888888,
              "#fdca26"
             ],
             [
              1,
              "#f0f921"
             ]
            ],
            "type": "surface"
           }
          ],
          "table": [
           {
            "cells": {
             "fill": {
              "color": "#EBF0F8"
             },
             "line": {
              "color": "white"
             }
            },
            "header": {
             "fill": {
              "color": "#C8D4E3"
             },
             "line": {
              "color": "white"
             }
            },
            "type": "table"
           }
          ]
         },
         "layout": {
          "annotationdefaults": {
           "arrowcolor": "#2a3f5f",
           "arrowhead": 0,
           "arrowwidth": 1
          },
          "autotypenumbers": "strict",
          "coloraxis": {
           "colorbar": {
            "outlinewidth": 0,
            "ticks": ""
           }
          },
          "colorscale": {
           "diverging": [
            [
             0,
             "#8e0152"
            ],
            [
             0.1,
             "#c51b7d"
            ],
            [
             0.2,
             "#de77ae"
            ],
            [
             0.3,
             "#f1b6da"
            ],
            [
             0.4,
             "#fde0ef"
            ],
            [
             0.5,
             "#f7f7f7"
            ],
            [
             0.6,
             "#e6f5d0"
            ],
            [
             0.7,
             "#b8e186"
            ],
            [
             0.8,
             "#7fbc41"
            ],
            [
             0.9,
             "#4d9221"
            ],
            [
             1,
             "#276419"
            ]
           ],
           "sequential": [
            [
             0,
             "#0d0887"
            ],
            [
             0.1111111111111111,
             "#46039f"
            ],
            [
             0.2222222222222222,
             "#7201a8"
            ],
            [
             0.3333333333333333,
             "#9c179e"
            ],
            [
             0.4444444444444444,
             "#bd3786"
            ],
            [
             0.5555555555555556,
             "#d8576b"
            ],
            [
             0.6666666666666666,
             "#ed7953"
            ],
            [
             0.7777777777777778,
             "#fb9f3a"
            ],
            [
             0.8888888888888888,
             "#fdca26"
            ],
            [
             1,
             "#f0f921"
            ]
           ],
           "sequentialminus": [
            [
             0,
             "#0d0887"
            ],
            [
             0.1111111111111111,
             "#46039f"
            ],
            [
             0.2222222222222222,
             "#7201a8"
            ],
            [
             0.3333333333333333,
             "#9c179e"
            ],
            [
             0.4444444444444444,
             "#bd3786"
            ],
            [
             0.5555555555555556,
             "#d8576b"
            ],
            [
             0.6666666666666666,
             "#ed7953"
            ],
            [
             0.7777777777777778,
             "#fb9f3a"
            ],
            [
             0.8888888888888888,
             "#fdca26"
            ],
            [
             1,
             "#f0f921"
            ]
           ]
          },
          "colorway": [
           "#636efa",
           "#EF553B",
           "#00cc96",
           "#ab63fa",
           "#FFA15A",
           "#19d3f3",
           "#FF6692",
           "#B6E880",
           "#FF97FF",
           "#FECB52"
          ],
          "font": {
           "color": "#2a3f5f"
          },
          "geo": {
           "bgcolor": "white",
           "lakecolor": "white",
           "landcolor": "#E5ECF6",
           "showlakes": true,
           "showland": true,
           "subunitcolor": "white"
          },
          "hoverlabel": {
           "align": "left"
          },
          "hovermode": "closest",
          "mapbox": {
           "style": "light"
          },
          "paper_bgcolor": "white",
          "plot_bgcolor": "#E5ECF6",
          "polar": {
           "angularaxis": {
            "gridcolor": "white",
            "linecolor": "white",
            "ticks": ""
           },
           "bgcolor": "#E5ECF6",
           "radialaxis": {
            "gridcolor": "white",
            "linecolor": "white",
            "ticks": ""
           }
          },
          "scene": {
           "xaxis": {
            "backgroundcolor": "#E5ECF6",
            "gridcolor": "white",
            "gridwidth": 2,
            "linecolor": "white",
            "showbackground": true,
            "ticks": "",
            "zerolinecolor": "white"
           },
           "yaxis": {
            "backgroundcolor": "#E5ECF6",
            "gridcolor": "white",
            "gridwidth": 2,
            "linecolor": "white",
            "showbackground": true,
            "ticks": "",
            "zerolinecolor": "white"
           },
           "zaxis": {
            "backgroundcolor": "#E5ECF6",
            "gridcolor": "white",
            "gridwidth": 2,
            "linecolor": "white",
            "showbackground": true,
            "ticks": "",
            "zerolinecolor": "white"
           }
          },
          "shapedefaults": {
           "line": {
            "color": "#2a3f5f"
           }
          },
          "ternary": {
           "aaxis": {
            "gridcolor": "white",
            "linecolor": "white",
            "ticks": ""
           },
           "baxis": {
            "gridcolor": "white",
            "linecolor": "white",
            "ticks": ""
           },
           "bgcolor": "#E5ECF6",
           "caxis": {
            "gridcolor": "white",
            "linecolor": "white",
            "ticks": ""
           }
          },
          "title": {
           "x": 0.05
          },
          "xaxis": {
           "automargin": true,
           "gridcolor": "white",
           "linecolor": "white",
           "ticks": "",
           "title": {
            "standoff": 15
           },
           "zerolinecolor": "white",
           "zerolinewidth": 2
          },
          "yaxis": {
           "automargin": true,
           "gridcolor": "white",
           "linecolor": "white",
           "ticks": "",
           "title": {
            "standoff": 15
           },
           "zerolinecolor": "white",
           "zerolinewidth": 2
          }
         }
        },
        "title": {
         "font": {
          "color": "Black",
          "size": 22
         },
         "text": "<b>Similarity Matrix</b>",
         "x": 0.55,
         "xanchor": "center",
         "y": 0.95,
         "yanchor": "top"
        },
        "width": 800,
        "xaxis": {
         "anchor": "y",
         "constrain": "domain",
         "domain": [
          0,
          1
         ],
         "scaleanchor": "y"
        },
        "yaxis": {
         "anchor": "x",
         "autorange": "reversed",
         "constrain": "domain",
         "domain": [
          0,
          1
         ]
        }
       }
      }
     },
     "metadata": {},
     "output_type": "display_data"
    }
   ],
   "source": [
    "topic_model.visualize_heatmap()\n"
   ]
  },
  {
   "cell_type": "code",
   "execution_count": 55,
   "id": "c13da980",
   "metadata": {},
   "outputs": [
    {
     "data": {
      "application/vnd.plotly.v1+json": {
       "config": {
        "plotlyServerURL": "https://plot.ly"
       },
       "data": [
        {
         "marker": {
          "color": "#D55E00"
         },
         "orientation": "h",
         "type": "bar",
         "x": [
          0.5078082084655762,
          0.519044816493988,
          0.5504195094108582,
          0.5584537982940674,
          0.6188192367553711
         ],
         "xaxis": "x",
         "y": [
          "awake  ",
          "bed  ",
          "night  ",
          "goodnight  ",
          "morning  "
         ],
         "yaxis": "y"
        },
        {
         "marker": {
          "color": "#0072B2"
         },
         "orientation": "h",
         "type": "bar",
         "x": [
          0.5516549348831177,
          0.5714619159698486,
          0.6212704181671143,
          0.6937767863273621,
          0.6995463371276855
         ],
         "xaxis": "x2",
         "y": [
          "twitterland  ",
          "tweetdeck  ",
          "tweets  ",
          "twitter  ",
          "tweet  "
         ],
         "yaxis": "y2"
        },
        {
         "marker": {
          "color": "#CC79A7"
         },
         "orientation": "h",
         "type": "bar",
         "x": [
          0.3635779917240143,
          0.3643101453781128,
          0.36893314123153687,
          0.3716149926185608,
          0.38334330916404724
         ],
         "xaxis": "x3",
         "y": [
          "movie  ",
          "watch  ",
          "bgt  ",
          "concert  ",
          "watched  "
         ],
         "yaxis": "y3"
        },
        {
         "marker": {
          "color": "#E69F00"
         },
         "orientation": "h",
         "type": "bar",
         "x": [
          0.4061986804008484,
          0.414732962846756,
          0.42615610361099243,
          0.4548337459564209,
          0.5606111288070679
         ],
         "xaxis": "x4",
         "y": [
          "flu  ",
          "hungry  ",
          "craving  ",
          "nauseous  ",
          "sick  "
         ],
         "yaxis": "y4"
        },
        {
         "marker": {
          "color": "#56B4E9"
         },
         "orientation": "h",
         "type": "bar",
         "x": [
          0.37296634912490845,
          0.3890495002269745,
          0.42730480432510376,
          0.4830889105796814,
          0.4875761866569519
         ],
         "xaxis": "x5",
         "y": [
          "im  ",
          "cares  ",
          "life  ",
          "feel  ",
          "depressed  "
         ],
         "yaxis": "y5"
        },
        {
         "marker": {
          "color": "#009E73"
         },
         "orientation": "h",
         "type": "bar",
         "x": [
          0.40554672479629517,
          0.43189293146133423,
          0.4835953116416931,
          0.5392724275588989,
          0.566537618637085
         ],
         "xaxis": "x6",
         "y": [
          "got  ",
          "following  ",
          "thank  ",
          "welcome  ",
          "thanks  "
         ],
         "yaxis": "y6"
        },
        {
         "marker": {
          "color": "#F0E442"
         },
         "orientation": "h",
         "type": "bar",
         "x": [
          0.503907322883606,
          0.5285256505012512,
          0.5373760461807251,
          0.5541079044342041,
          0.5925195217132568
         ],
         "xaxis": "x7",
         "y": [
          "mum  ",
          "mom  ",
          "mama  ",
          "mother  ",
          "mothers  "
         ],
         "yaxis": "y7"
        },
        {
         "marker": {
          "color": "#D55E00"
         },
         "orientation": "h",
         "type": "bar",
         "x": [
          0.38979417085647583,
          0.3955523371696472,
          0.4148467183113098,
          0.4297190308570862,
          0.4377918541431427
         ],
         "xaxis": "x8",
         "y": [
          "outfit  ",
          "stuffed  ",
          "photo  ",
          "zoo  ",
          "photos  "
         ],
         "yaxis": "y8"
        }
       ],
       "layout": {
        "annotations": [
         {
          "font": {
           "size": 16
          },
          "showarrow": false,
          "text": "Topic 0",
          "x": 0.0875,
          "xanchor": "center",
          "xref": "paper",
          "y": 1,
          "yanchor": "bottom",
          "yref": "paper"
         },
         {
          "font": {
           "size": 16
          },
          "showarrow": false,
          "text": "Topic 1",
          "x": 0.36250000000000004,
          "xanchor": "center",
          "xref": "paper",
          "y": 1,
          "yanchor": "bottom",
          "yref": "paper"
         },
         {
          "font": {
           "size": 16
          },
          "showarrow": false,
          "text": "Topic 2",
          "x": 0.6375000000000001,
          "xanchor": "center",
          "xref": "paper",
          "y": 1,
          "yanchor": "bottom",
          "yref": "paper"
         },
         {
          "font": {
           "size": 16
          },
          "showarrow": false,
          "text": "Topic 3",
          "x": 0.9125,
          "xanchor": "center",
          "xref": "paper",
          "y": 1,
          "yanchor": "bottom",
          "yref": "paper"
         },
         {
          "font": {
           "size": 16
          },
          "showarrow": false,
          "text": "Topic 4",
          "x": 0.0875,
          "xanchor": "center",
          "xref": "paper",
          "y": 0.4,
          "yanchor": "bottom",
          "yref": "paper"
         },
         {
          "font": {
           "size": 16
          },
          "showarrow": false,
          "text": "Topic 5",
          "x": 0.36250000000000004,
          "xanchor": "center",
          "xref": "paper",
          "y": 0.4,
          "yanchor": "bottom",
          "yref": "paper"
         },
         {
          "font": {
           "size": 16
          },
          "showarrow": false,
          "text": "Topic 6",
          "x": 0.6375000000000001,
          "xanchor": "center",
          "xref": "paper",
          "y": 0.4,
          "yanchor": "bottom",
          "yref": "paper"
         },
         {
          "font": {
           "size": 16
          },
          "showarrow": false,
          "text": "Topic 7",
          "x": 0.9125,
          "xanchor": "center",
          "xref": "paper",
          "y": 0.4,
          "yanchor": "bottom",
          "yref": "paper"
         }
        ],
        "height": 500,
        "hoverlabel": {
         "bgcolor": "white",
         "font": {
          "family": "Rockwell",
          "size": 16
         }
        },
        "showlegend": false,
        "template": {
         "data": {
          "bar": [
           {
            "error_x": {
             "color": "#2a3f5f"
            },
            "error_y": {
             "color": "#2a3f5f"
            },
            "marker": {
             "line": {
              "color": "white",
              "width": 0.5
             },
             "pattern": {
              "fillmode": "overlay",
              "size": 10,
              "solidity": 0.2
             }
            },
            "type": "bar"
           }
          ],
          "barpolar": [
           {
            "marker": {
             "line": {
              "color": "white",
              "width": 0.5
             },
             "pattern": {
              "fillmode": "overlay",
              "size": 10,
              "solidity": 0.2
             }
            },
            "type": "barpolar"
           }
          ],
          "carpet": [
           {
            "aaxis": {
             "endlinecolor": "#2a3f5f",
             "gridcolor": "#C8D4E3",
             "linecolor": "#C8D4E3",
             "minorgridcolor": "#C8D4E3",
             "startlinecolor": "#2a3f5f"
            },
            "baxis": {
             "endlinecolor": "#2a3f5f",
             "gridcolor": "#C8D4E3",
             "linecolor": "#C8D4E3",
             "minorgridcolor": "#C8D4E3",
             "startlinecolor": "#2a3f5f"
            },
            "type": "carpet"
           }
          ],
          "choropleth": [
           {
            "colorbar": {
             "outlinewidth": 0,
             "ticks": ""
            },
            "type": "choropleth"
           }
          ],
          "contour": [
           {
            "colorbar": {
             "outlinewidth": 0,
             "ticks": ""
            },
            "colorscale": [
             [
              0,
              "#0d0887"
             ],
             [
              0.1111111111111111,
              "#46039f"
             ],
             [
              0.2222222222222222,
              "#7201a8"
             ],
             [
              0.3333333333333333,
              "#9c179e"
             ],
             [
              0.4444444444444444,
              "#bd3786"
             ],
             [
              0.5555555555555556,
              "#d8576b"
             ],
             [
              0.6666666666666666,
              "#ed7953"
             ],
             [
              0.7777777777777778,
              "#fb9f3a"
             ],
             [
              0.8888888888888888,
              "#fdca26"
             ],
             [
              1,
              "#f0f921"
             ]
            ],
            "type": "contour"
           }
          ],
          "contourcarpet": [
           {
            "colorbar": {
             "outlinewidth": 0,
             "ticks": ""
            },
            "type": "contourcarpet"
           }
          ],
          "heatmap": [
           {
            "colorbar": {
             "outlinewidth": 0,
             "ticks": ""
            },
            "colorscale": [
             [
              0,
              "#0d0887"
             ],
             [
              0.1111111111111111,
              "#46039f"
             ],
             [
              0.2222222222222222,
              "#7201a8"
             ],
             [
              0.3333333333333333,
              "#9c179e"
             ],
             [
              0.4444444444444444,
              "#bd3786"
             ],
             [
              0.5555555555555556,
              "#d8576b"
             ],
             [
              0.6666666666666666,
              "#ed7953"
             ],
             [
              0.7777777777777778,
              "#fb9f3a"
             ],
             [
              0.8888888888888888,
              "#fdca26"
             ],
             [
              1,
              "#f0f921"
             ]
            ],
            "type": "heatmap"
           }
          ],
          "histogram": [
           {
            "marker": {
             "pattern": {
              "fillmode": "overlay",
              "size": 10,
              "solidity": 0.2
             }
            },
            "type": "histogram"
           }
          ],
          "histogram2d": [
           {
            "colorbar": {
             "outlinewidth": 0,
             "ticks": ""
            },
            "colorscale": [
             [
              0,
              "#0d0887"
             ],
             [
              0.1111111111111111,
              "#46039f"
             ],
             [
              0.2222222222222222,
              "#7201a8"
             ],
             [
              0.3333333333333333,
              "#9c179e"
             ],
             [
              0.4444444444444444,
              "#bd3786"
             ],
             [
              0.5555555555555556,
              "#d8576b"
             ],
             [
              0.6666666666666666,
              "#ed7953"
             ],
             [
              0.7777777777777778,
              "#fb9f3a"
             ],
             [
              0.8888888888888888,
              "#fdca26"
             ],
             [
              1,
              "#f0f921"
             ]
            ],
            "type": "histogram2d"
           }
          ],
          "histogram2dcontour": [
           {
            "colorbar": {
             "outlinewidth": 0,
             "ticks": ""
            },
            "colorscale": [
             [
              0,
              "#0d0887"
             ],
             [
              0.1111111111111111,
              "#46039f"
             ],
             [
              0.2222222222222222,
              "#7201a8"
             ],
             [
              0.3333333333333333,
              "#9c179e"
             ],
             [
              0.4444444444444444,
              "#bd3786"
             ],
             [
              0.5555555555555556,
              "#d8576b"
             ],
             [
              0.6666666666666666,
              "#ed7953"
             ],
             [
              0.7777777777777778,
              "#fb9f3a"
             ],
             [
              0.8888888888888888,
              "#fdca26"
             ],
             [
              1,
              "#f0f921"
             ]
            ],
            "type": "histogram2dcontour"
           }
          ],
          "mesh3d": [
           {
            "colorbar": {
             "outlinewidth": 0,
             "ticks": ""
            },
            "type": "mesh3d"
           }
          ],
          "parcoords": [
           {
            "line": {
             "colorbar": {
              "outlinewidth": 0,
              "ticks": ""
             }
            },
            "type": "parcoords"
           }
          ],
          "pie": [
           {
            "automargin": true,
            "type": "pie"
           }
          ],
          "scatter": [
           {
            "fillpattern": {
             "fillmode": "overlay",
             "size": 10,
             "solidity": 0.2
            },
            "type": "scatter"
           }
          ],
          "scatter3d": [
           {
            "line": {
             "colorbar": {
              "outlinewidth": 0,
              "ticks": ""
             }
            },
            "marker": {
             "colorbar": {
              "outlinewidth": 0,
              "ticks": ""
             }
            },
            "type": "scatter3d"
           }
          ],
          "scattercarpet": [
           {
            "marker": {
             "colorbar": {
              "outlinewidth": 0,
              "ticks": ""
             }
            },
            "type": "scattercarpet"
           }
          ],
          "scattergeo": [
           {
            "marker": {
             "colorbar": {
              "outlinewidth": 0,
              "ticks": ""
             }
            },
            "type": "scattergeo"
           }
          ],
          "scattergl": [
           {
            "marker": {
             "colorbar": {
              "outlinewidth": 0,
              "ticks": ""
             }
            },
            "type": "scattergl"
           }
          ],
          "scattermap": [
           {
            "marker": {
             "colorbar": {
              "outlinewidth": 0,
              "ticks": ""
             }
            },
            "type": "scattermap"
           }
          ],
          "scattermapbox": [
           {
            "marker": {
             "colorbar": {
              "outlinewidth": 0,
              "ticks": ""
             }
            },
            "type": "scattermapbox"
           }
          ],
          "scatterpolar": [
           {
            "marker": {
             "colorbar": {
              "outlinewidth": 0,
              "ticks": ""
             }
            },
            "type": "scatterpolar"
           }
          ],
          "scatterpolargl": [
           {
            "marker": {
             "colorbar": {
              "outlinewidth": 0,
              "ticks": ""
             }
            },
            "type": "scatterpolargl"
           }
          ],
          "scatterternary": [
           {
            "marker": {
             "colorbar": {
              "outlinewidth": 0,
              "ticks": ""
             }
            },
            "type": "scatterternary"
           }
          ],
          "surface": [
           {
            "colorbar": {
             "outlinewidth": 0,
             "ticks": ""
            },
            "colorscale": [
             [
              0,
              "#0d0887"
             ],
             [
              0.1111111111111111,
              "#46039f"
             ],
             [
              0.2222222222222222,
              "#7201a8"
             ],
             [
              0.3333333333333333,
              "#9c179e"
             ],
             [
              0.4444444444444444,
              "#bd3786"
             ],
             [
              0.5555555555555556,
              "#d8576b"
             ],
             [
              0.6666666666666666,
              "#ed7953"
             ],
             [
              0.7777777777777778,
              "#fb9f3a"
             ],
             [
              0.8888888888888888,
              "#fdca26"
             ],
             [
              1,
              "#f0f921"
             ]
            ],
            "type": "surface"
           }
          ],
          "table": [
           {
            "cells": {
             "fill": {
              "color": "#EBF0F8"
             },
             "line": {
              "color": "white"
             }
            },
            "header": {
             "fill": {
              "color": "#C8D4E3"
             },
             "line": {
              "color": "white"
             }
            },
            "type": "table"
           }
          ]
         },
         "layout": {
          "annotationdefaults": {
           "arrowcolor": "#2a3f5f",
           "arrowhead": 0,
           "arrowwidth": 1
          },
          "autotypenumbers": "strict",
          "coloraxis": {
           "colorbar": {
            "outlinewidth": 0,
            "ticks": ""
           }
          },
          "colorscale": {
           "diverging": [
            [
             0,
             "#8e0152"
            ],
            [
             0.1,
             "#c51b7d"
            ],
            [
             0.2,
             "#de77ae"
            ],
            [
             0.3,
             "#f1b6da"
            ],
            [
             0.4,
             "#fde0ef"
            ],
            [
             0.5,
             "#f7f7f7"
            ],
            [
             0.6,
             "#e6f5d0"
            ],
            [
             0.7,
             "#b8e186"
            ],
            [
             0.8,
             "#7fbc41"
            ],
            [
             0.9,
             "#4d9221"
            ],
            [
             1,
             "#276419"
            ]
           ],
           "sequential": [
            [
             0,
             "#0d0887"
            ],
            [
             0.1111111111111111,
             "#46039f"
            ],
            [
             0.2222222222222222,
             "#7201a8"
            ],
            [
             0.3333333333333333,
             "#9c179e"
            ],
            [
             0.4444444444444444,
             "#bd3786"
            ],
            [
             0.5555555555555556,
             "#d8576b"
            ],
            [
             0.6666666666666666,
             "#ed7953"
            ],
            [
             0.7777777777777778,
             "#fb9f3a"
            ],
            [
             0.8888888888888888,
             "#fdca26"
            ],
            [
             1,
             "#f0f921"
            ]
           ],
           "sequentialminus": [
            [
             0,
             "#0d0887"
            ],
            [
             0.1111111111111111,
             "#46039f"
            ],
            [
             0.2222222222222222,
             "#7201a8"
            ],
            [
             0.3333333333333333,
             "#9c179e"
            ],
            [
             0.4444444444444444,
             "#bd3786"
            ],
            [
             0.5555555555555556,
             "#d8576b"
            ],
            [
             0.6666666666666666,
             "#ed7953"
            ],
            [
             0.7777777777777778,
             "#fb9f3a"
            ],
            [
             0.8888888888888888,
             "#fdca26"
            ],
            [
             1,
             "#f0f921"
            ]
           ]
          },
          "colorway": [
           "#636efa",
           "#EF553B",
           "#00cc96",
           "#ab63fa",
           "#FFA15A",
           "#19d3f3",
           "#FF6692",
           "#B6E880",
           "#FF97FF",
           "#FECB52"
          ],
          "font": {
           "color": "#2a3f5f"
          },
          "geo": {
           "bgcolor": "white",
           "lakecolor": "white",
           "landcolor": "white",
           "showlakes": true,
           "showland": true,
           "subunitcolor": "#C8D4E3"
          },
          "hoverlabel": {
           "align": "left"
          },
          "hovermode": "closest",
          "mapbox": {
           "style": "light"
          },
          "paper_bgcolor": "white",
          "plot_bgcolor": "white",
          "polar": {
           "angularaxis": {
            "gridcolor": "#EBF0F8",
            "linecolor": "#EBF0F8",
            "ticks": ""
           },
           "bgcolor": "white",
           "radialaxis": {
            "gridcolor": "#EBF0F8",
            "linecolor": "#EBF0F8",
            "ticks": ""
           }
          },
          "scene": {
           "xaxis": {
            "backgroundcolor": "white",
            "gridcolor": "#DFE8F3",
            "gridwidth": 2,
            "linecolor": "#EBF0F8",
            "showbackground": true,
            "ticks": "",
            "zerolinecolor": "#EBF0F8"
           },
           "yaxis": {
            "backgroundcolor": "white",
            "gridcolor": "#DFE8F3",
            "gridwidth": 2,
            "linecolor": "#EBF0F8",
            "showbackground": true,
            "ticks": "",
            "zerolinecolor": "#EBF0F8"
           },
           "zaxis": {
            "backgroundcolor": "white",
            "gridcolor": "#DFE8F3",
            "gridwidth": 2,
            "linecolor": "#EBF0F8",
            "showbackground": true,
            "ticks": "",
            "zerolinecolor": "#EBF0F8"
           }
          },
          "shapedefaults": {
           "line": {
            "color": "#2a3f5f"
           }
          },
          "ternary": {
           "aaxis": {
            "gridcolor": "#DFE8F3",
            "linecolor": "#A2B1C6",
            "ticks": ""
           },
           "baxis": {
            "gridcolor": "#DFE8F3",
            "linecolor": "#A2B1C6",
            "ticks": ""
           },
           "bgcolor": "white",
           "caxis": {
            "gridcolor": "#DFE8F3",
            "linecolor": "#A2B1C6",
            "ticks": ""
           }
          },
          "title": {
           "x": 0.05
          },
          "xaxis": {
           "automargin": true,
           "gridcolor": "#EBF0F8",
           "linecolor": "#EBF0F8",
           "ticks": "",
           "title": {
            "standoff": 15
           },
           "zerolinecolor": "#EBF0F8",
           "zerolinewidth": 2
          },
          "yaxis": {
           "automargin": true,
           "gridcolor": "#EBF0F8",
           "linecolor": "#EBF0F8",
           "ticks": "",
           "title": {
            "standoff": 15
           },
           "zerolinecolor": "#EBF0F8",
           "zerolinewidth": 2
          }
         }
        },
        "title": {
         "font": {
          "color": "Black",
          "size": 22
         },
         "text": "Topic Word Scores",
         "x": 0.5,
         "xanchor": "center",
         "yanchor": "top"
        },
        "width": 1000,
        "xaxis": {
         "anchor": "y",
         "domain": [
          0,
          0.175
         ],
         "showgrid": true
        },
        "xaxis2": {
         "anchor": "y2",
         "domain": [
          0.275,
          0.45
         ],
         "showgrid": true
        },
        "xaxis3": {
         "anchor": "y3",
         "domain": [
          0.55,
          0.7250000000000001
         ],
         "showgrid": true
        },
        "xaxis4": {
         "anchor": "y4",
         "domain": [
          0.825,
          1
         ],
         "showgrid": true
        },
        "xaxis5": {
         "anchor": "y5",
         "domain": [
          0,
          0.175
         ],
         "showgrid": true
        },
        "xaxis6": {
         "anchor": "y6",
         "domain": [
          0.275,
          0.45
         ],
         "showgrid": true
        },
        "xaxis7": {
         "anchor": "y7",
         "domain": [
          0.55,
          0.7250000000000001
         ],
         "showgrid": true
        },
        "xaxis8": {
         "anchor": "y8",
         "domain": [
          0.825,
          1
         ],
         "showgrid": true
        },
        "yaxis": {
         "anchor": "x",
         "domain": [
          0.6000000000000001,
          1
         ],
         "showgrid": true
        },
        "yaxis2": {
         "anchor": "x2",
         "domain": [
          0.6000000000000001,
          1
         ],
         "showgrid": true
        },
        "yaxis3": {
         "anchor": "x3",
         "domain": [
          0.6000000000000001,
          1
         ],
         "showgrid": true
        },
        "yaxis4": {
         "anchor": "x4",
         "domain": [
          0.6000000000000001,
          1
         ],
         "showgrid": true
        },
        "yaxis5": {
         "anchor": "x5",
         "domain": [
          0,
          0.4
         ],
         "showgrid": true
        },
        "yaxis6": {
         "anchor": "x6",
         "domain": [
          0,
          0.4
         ],
         "showgrid": true
        },
        "yaxis7": {
         "anchor": "x7",
         "domain": [
          0,
          0.4
         ],
         "showgrid": true
        },
        "yaxis8": {
         "anchor": "x8",
         "domain": [
          0,
          0.4
         ],
         "showgrid": true
        }
       }
      }
     },
     "metadata": {},
     "output_type": "display_data"
    }
   ],
   "source": [
    "topic_model.visualize_barchart()"
   ]
  },
  {
   "cell_type": "code",
   "execution_count": 64,
   "id": "b6ae178d",
   "metadata": {},
   "outputs": [
    {
     "data": {
      "application/vnd.plotly.v1+json": {
       "config": {
        "plotlyServerURL": "https://plot.ly"
       },
       "data": [
        {
         "hoverinfo": "text",
         "hovertext": [
          "_laura_LP ok thanks for the help! I hope they respond to me sooner or later, then! thanks!",
          " dear oh dear.....",
          " inooo arent they just  i wanna just go down there now an meet kyle again.. im too obsessed its not fair!",
          "MY SiSTER iN LAW JUST LEFT FOR HER PROM!! SHE LOOKED SOO PRETTY.. TEARS ALL AROUND",
          " me too.",
          " it was just the handle tg",
          " Playing with lighters fire matches and grass",
          " I was just at Geno`s 3hrs ago.  Would have went to Pats but the Neon Lights got me lol.  Had drinks at South Philly Bar too",
          " oh i love sunday mornings like this - mum just made scrambled eggs on toast",
          " lolz at your modesty...***kix rox***...now all the gals will be lined up at your door",
          " I am soo excited about your pasadena seminar...if only i can find the confermation email",
          " --that came to my mind. So I said it. And it has now been adapted into my family`s vocabulary",
          " rt i have had few hearts the past few days on etsy  boo hoo....totally the same for me too ((((((",
          "just left & already misses Nashville  be back sunday",
          "getting nails done!!! how relaxing! benji is only 24 hours away!!!!",
          " thats rough. hubby had knee surgery but it did help him in the end. Let us know the results. We`ll keep him in our prayers",
          " yes it does",
          "http://twitpic.com/4ja8r - Tell me, how can you not love someone like this?",
          " yeah freakin sucks!!",
          "The Mediteranian Kitchen...oh well can`t get them all right.",
          "I love summer, but I oddly don`t want this school year to end.",
          "Paid all my bills only to go out to the mailbox to find more of them",
          "Good  morning! Just went to bed it feels and already morning...goes fast! Now i am going to the gym soon. Have a nice day!",
          "Yes, I am",
          "Change of plans. I am staying in Brandon.  No Papaya Salad for me.",
          "my best friends bought something which i really want.",
          "tonight was fun",
          " love your books",
          " thank you!! ooh I see you`ve read Desert Islands http://is.gd/ys6K great book!",
          "_berland LMAO I know I know",
          "My anticipated meet up with Tapan Parikh is no more  apparently he wont pass by Nairobi, and will head straight from Mombasa",
          " where is home??",
          " hiya! been looking for you1",
          "I love  very much  I called him, but he was talking to other fans  I love you a lot Mitchel! I`ll see u in El Cajon. June 7",
          " FOLLOW ME BABY U SAID N DA CHAT U WILL  LUV YA GOODNITE",
          "Prom is so over rated!! Irritated... Going to bed goodnight",
          "  I know, right? I guess the oldest doesn`t hold rank on field trips anymore.",
          "He will be here in less than hour",
          "out to play",
          "Gonna go to work with my honey today!!!! So exciting!!!",
          " Hello there, Taylor  I MISS YOU. Its been 2 months </3",
          "wat a stressful week i jus hope everything falls into place 4me",
          " whatever i know you like it.  HAHAHHAH!",
          " - You too, thanks for completing  Calvin Appreciated",
          "i have to poop...   is hogging the shitter",
          "Mowing #6. I hate my lawn",
          " can`t wait to hear the evp! And cuuuute picture.",
          "Wish you were here, babe",
          " http://twitpic.com/4vuuy - That`s so cool.",
          "bought three books!! yipee!!  now who`s with me on that read-ten-books-during-the-summer thing?",
          "wishes that you would see not with your eyes but with your heart.  http://plurk.com/p/sv5bb",
          " Sadly I think I know exactly were you put it--in the expired drawer   Those things have a life span of less than two years",
          "Headed home ... Charlie`s at the vet",
          "_Cal Work or...(hehe mind in the gutter)! I`m sittin here doin this student loan thing.",
          "Leaving the beach .. Having a great day with vicente .. We needed this time together",
          "lasttt mondayyy of classs",
          " guess that depends on if you want to be on the jury",
          " And Clang rocks, so you`re using it, right?  Anyways, according to the comments it`s in apple`s gcc too, dunno how public tho",
          "rmbr the time when we torned for the night in sentosa? I was the only one who didnt have to spit out the ' 3 unknown facts' abt myself",
          " hahaha niene ur soo smart.! lmao i think that is who its by..  good lookin.. whts up gurlie?? i come home this weekend.!",
          " happy birthday ness!!",
          "**** fiesta at my house in my mouth  hit me up for the password",
          " yep  but I`m going better now",
          " Well I will be making beds, creating noise & cleaning cleaning all day long.  With music & a smile  x",
          ": I`ll keep y`all in my prayers but welcome back to TX  Hope you have a good,safe flight",
          "Should have left car and walked home! I might need someone to rescue me with petrol! Light flashing",
          "Blah to car repairs... almost 600 dollars...   Shopping around for a better deal.",
          "_by_spork we shall see",
          "love it when my sister brags! but she`s too tired too spell bowling right! haha its ok I <3 her!!",
          "misses my Mom today. She was my Best Friend and even though she has been gone several yrs I still miss her dearly. Happy Mother`s Day",
          " what causes the frustration buddy?",
          "Anyone have some advice??? I need it!!",
          " many! mine included. ahem. shld have known better back then, wldn`t have missed so many opportunities haha",
          " thanks JK!!!  Love ya to death",
          "  it`s very pleasant. i sooo rarely just have time to kill...",
          " i want to gooo",
          " i was going tonight, but you never wrote me back with the info  im sososo sad...",
          " Hope you did great - you certainly spent enough time studying.",
          " Panchito`s burfday party tonight... wish you were here kiddo!",
          "is getting married in Vegas in November by an Elvis impersonator am so happy!!!",
          "revising for exams",
          "singing songs and filming movies  what i do best",
          " Always a good idea.",
          " but i do emily ahahha you scare me, so it would work",
          " when will she b finished",
          "People at work are stressing me out.",
          "bad mood and i dont feel good. too bad no one cares",
          "_LaMont yr very young looking dude",
          " If i say PLEASE REPLY TO ME DOUGIE, will you do it? I double dare you",
          " what`s wrong?",
          "Well it would seem that you can enter nine 0s if you are an Individual without a SSN/ITIN or EIN according to Apple.  Hurray!",
          " LOL thx",
          "    I am sending healthy, healing thoughts in the mumborg`s direction.",
          "i hope that everyone has been having a great week.  let me know if you think im crazy for hating coffee XD.",
          " Don`t worry, the bizarre will find you",
          " Gmorning Hermana! Thank you for your testimonial it is wonderful. Posted already.",
          " i did i only got 3 stars on the pre wash then failed the rince",
          " Thanks, hope you have a good one",
          "$#@! My nose stud fell out and I can`t find it  Looks like I`ll have to head into Amsterdam today and get a new one",
          "Allergies  sun is out, wearing shorts.  Stuck with my advisory the whole day.... This should be boring. Except fun. If people make it fun?",
          " We didn`t...but we did have to wait a good twenty minutes for one.  Good night, though!",
          "I recommend returning your broken duck toy with the batteis it came with or the person who your giving it to may get mad!!  trust me!",
          "going to work once again. what a great few days off i had. now it`s over  but atleast i get 2 more commin up wahooooooo",
          " Why thank you... Us Mami`s are bringin` sexy back...",
          "yay doctors  now interview then back 2 the doctor`s for blood work",
          "Not at prom. Ha! Chinese, iced chai, and some old school pokemon. Good night",
          " tell his people to contact my people",
          "chillen trying to figure this thing out gettin drunk",
          "Just got in a fight and kicked out of the bar. At least I knocked him out. Have a fat lip though.  Pulled another number",
          " I won`t be getting any ROTF toys `till MUCH later.  Tell me if anybody isn`t/is worth getting.",
          "Whole body is sore from moving hundreds of pieces of luggage last weekend.   Guess I should visit the gym more often",
          " Oh, and a very good review",
          "Kelly Kelly pays your bills @ 12:15, Kaden pays em @ 5:15 and  just wants you to follow him. lol He dosent get to pay bills",
          "I`m still at the mothers day lunch at my uncles house. Having a nice time!",
          "i really need to earn money... so that i can watch the PCD concert",
          " you guys didn`t say hi or answer my questions yesterday  but nice songs.",
          " KILL IT JASMINE! Haven`t talked to you for ages.",
          "Happy Star Wars Day  May the fourth be with you!",
          "  Hope ur havin fun in da club",
          "Practice was a beast today. Not going to see Julian tonight",
          "Thx, Robban  http://www.sk-gaming.com/match/17905",
          " Ha! Did she find out? The only thing Google came up with was some database acronym and 'dibbs' on the front seat aka shotgun",
          " I sure she can",
          " Aw, that stinks, I`m sorry.",
          " It depends on your goals & how much you want to spend  Cannondale, Specialized and Cervelo are all good brands.",
          "Coco still out",
          " Hey Mitchel when will you be live again? I didn`t get a chance to call you",
          "Going to meet the new family I`m babysitting for... Wish I was still sleeeeping",
          "oh ok i always wondered how that worked. i only have the top of my ear done. i dont think i could get anything else pierced",
          "Josie`s out of surgery. She`s now officially unable to procreate. And She`s way out of it... Poor medicated baby",
          " it was an awesome talk  find it very true that i am watching the ruby community closely",
          "DONE--IT`S SUMMER!!!",
          "Bird poo update... Managed to clean it all off but some slight stainage remains  any tips?",
          "Hahaha! Alright  ..",
          " Thank you so much phaoloo !!!!",
          "Aaaaahhhh.... Friday!!!! but.......     Funeral at 5",
          " I know, but work is so boring. I prefer the  take on life",
          " 26th February",
          "_rain i wanna see her hair  hows everyone?",
          "So my parents are too busy making me feel like **** to realise that I`ve got worse and need to see a doctor again. No sleep sucks",
          "Got people don`t let me skip sci pratical becos skola is impt and dont waste my parents money.  Nt fair.",
          "I feel so deflated. No more doggy.",
          "Straighening my hair and its not going as straight as i want it to be what a  bummerrr for me",
          "_ really!? that son of a ****, screw him, ill talk to on msn later k  xox",
          "No launch today. Teacher changed plans and we watched a stupid move about tesla",
          "almost got a kitty yesterday...but it didn`t work out",
          " miss u too. I`m still at a club...u know...west coast ****!",
          "  miss you captain",
          "My near daily exercise is starting to show results.",
          " i`m not in the best financial situation myself at the moment. i`m beyond broke. my money is spend as soon as i earn it atm",
          "_other Excellent analogy",
          " I would vote for you Miley but I live in Ireland  You`ll be fine  Good luck! Slï¿½n!(bye in irish ) Sorcha xxxx",
          "I hate going online and looking at the balance in the bank.  its always a lot lower than I need it to be.",
          "got up at 8 today, and also misses his friend ",
          " ok. lol. i miss you too. i hope your cramps get better. i know how painful they can be.",
          "is ONLiNE  http://plurk.com/p/stjdg",
          " Aww, that`s sad.  I miss seeing you guys on the big screen.",
          " i think my niece got me sickee  lame.",
          "God, why can`t I be at #asylum? Really. I never get to do anything cool!",
          "_eat_out",
          "man im so sad school is ending  but then again high school might be better :O",
          "might have to go back much earlier than expected. bye bye bay area",
          " Haha and you should! State pride is important",
          " Jesus heals",
          " yayy  you`ll can help me im doing my english homeworks which i had to do during the holidays >.<",
          " Hi there.  I agree!  Small children should be running about happy, not breaking down in tears",
          " man, I am really sorry",
          " awww that sucks  also, when i finish uni, you should totally have a mini housewarming. yes, work it around my schedule, LOL.",
          "Without wings again",
          "I`m siiiiiickkk  I dun feel good!!",
          "Glenna is bored but glad that it is a beautiful day. Macy went swimming and Kris played golf while I sat at home waiting for them",
          " whatever do you mean?",
          " lmao, im only joking mate",
          " I know right  Poorpoor girl! It shows why they shouldn`t put young people in competitions like this though (.....) -",
          "voted for  on CMT.com",
          " and within a short time of the last clue all of them",
          "bout 2 have 1 more drink then imma head in da house",
          " that is a bummer",
          " sorry bout the cat,",
          "_Walker21 sadly no, I`ll be going to the killumbus show. I really want to but no one wants to drive me there",
          "playing at my old school playground still the same except them lame **** got rid of the tire swing",
          "waiting for aaron to get into town, and then leave him for work. booo",
          "I`m sad to have lost another person close to me to cancer",
          "#followfriday _1001 cuz ive never been added to anyone`s followfriday either  & cuz he`s got a cool picture",
          "_d thats good to know, and I bet he looks just like you.",
          "So many farewell parties! sad to see people leaving ..",
          "AHHH - Whatchu talkinï¿½ baby?  HAHAHA I canï¿½t believe youu:O heh, actually I can. Life is worth taking risks... http://tumblr.com/xs81qy54s",
          "resorted to eating Mickey Ds ALONE.",
          "  sad face.",
          "Happy Birthday Snickers!!!! ? I hope you have the best day ever! Let`s go shopping!!!",
          " Thanks though - am trying to be positive!!  Wine may not be helping lol!!  Wish I could make the gigs.....",
          "i so wish i could get pregnant!!",
          "Spent the last hour signing yearbooks. I`ll miss you guys!",
          " oh ****!!",
          "OH. I am just so tired.",
          "I want Crimson Gem Saga.  I will just go play RF Guerilla demo repeatedly. I (Mission Failed - YOU DIED) so many times from dicking around",
          "I need a bear hug  and Im going to camp today!!",
          "Zs.Nagy presents  http://www.nordugrid.org/manuals.html",
          "Mozzer cancelled tonight by the looks of it.",
          " this creepy guy when I was walking the dog  I`ve had my fill of creepers for the day",
          " oh that looks boring  and even more boring you have an exam on a saturday",
          "_Adel they didn`t reply yet.. wait till they confirm.. in case somebody might have translated it already..",
          "found a swing set for sale 2 blocks from home, super cheap. I want it 4 my kids but no one is answering the phone # listed",
          "Filming at a carnival for my music video... It reminds me of the Cherry Festival that I used to go to back home... Ahhh memories...",
          "WHAT ABOUT ME ??  I VOTE EVERY DAY FOR YOU !!!!!",
          "_Oyler Poor little woman with her smushed in head",
          " bahah sadly I am not",
          " english screwed up my overall percentage in X, in XII again and probably in adm tests too. **** happens.",
          " love love love pot psycology. My Friday night treat",
          "I have nothing witty to say",
          " Miss you",
          "'Puke In My Mouth' the brilliant response to **** In My Pants  http://tinyurl.com/cy8z7y  Over the top wrong",
          " i know i suck.  my data plan is weak sauce.",
          "Woo! Two days till awesome gig, one day till Uni is finished for 12 days  #gigs #3yp",
          "I love how when I leave my laptop on my bed it creates a nice toasty spot",
          "I`m so very tired...and have insomnia.",
          "_Morden ..be at richard`s. if not then i`ll see you when you/we get back  good luck!",
          "I will miss the soccer moms",
          "Sooo tell me how I lost followerzzz",
          " your`e a freak",
          " Oherr it`s soon then, do you have plans? I had a party on saturday  x",
          " not really having a good night... missing my little girl...",
          " Lol - I could have written that - would be good to have 2 Mondays this week, then I might catch up x",
          "Meeting my best friend first thing in the morning to the gym! Omg I am still so shocked. I hope you will get better soon",
          " im a lady and ladies don`t move couches. they direct where the couches go",
          "says my new layout is so cute x) see the cuties ? hahahah  http://plurk.com/p/suqp6",
          " Are they both still talking to you then?",
          "Awaiting reply from two projects. One cancelled.",
          " meetings are overrated.",
          "_datti Thanks sankar for ur wishes",
          "Oh is that time for real?",
          "Well, my dog still isn`t at the shelter. I hope someone good has him",
          " Thanks...I really do appreciate that. I know it will be the hardest thing I have ever done",
          " you should totally come get me and bring me to kelslaws house with you.",
          "Not feeling all that well today",
          "will b having my last V tomorow   will have2live off of apples n not caffeine ;( n have2cut down on chocolate bye bye chocy",
          "I`m in VA for the weekend, my youngest son turns 2 tomorrow......it makes me kinda sad, he is getting so big, check out my twipics",
          "  tis very useful indeed esp. for newbies like me!",
          "Hi all, just recovering from a party, looking forward to an exciting bank holiday around the diy shops...life cant get much better.surely",
          "While driving u come across aggressive driving behaviour by another driver. U should... Chase the car 2 tell the driver how to drive",
          " I saw that you were calling but cannot answer as I`m in the second hour of a phone convo with my mom and she won`t stop talking",
          " Folks thought it was hilarious when I told them the story, and then they saw the shirt I wore tonight.  Laughter all night.",
          "Today is another good day for some less extreme experiences... Anyone a fan of #24? I`m watching season 4 now",
          "Going to have dinner. bbs",
          "so now that I have a whole 20 followers, 5 of them actual people, I don`t know what to write in here anymore",
          "getting ready to babysit",
          " yeah, it`s terrible  cockatoos are the hardest to live with, so emotional. good thing he found you, though!!",
          " http://twitpic.com/4w75p - I like it!!",
          " Cant wait for DTE in Michigan this summer you guys are great look for me in the customized NKOTB Track Jacket",
          "Perfect night. Best month of my life so far!! You my boo, ",
          "Me and mum are lost in grangemouth. Utter hilarity! Totally lost",
          "i`m only updating this so that brett`s phone beeps  but really.. looking at wedding stuff. again.for the next five months.",
          " Happy birthday in 2 hours and 54 minuets  Haha",
          " its hilarious",
          "at starbucks with my love. eff school. i have work later too.",
          " hmmm really??? that`s weird idk about that one  sowwy",
          "  my thoughts dwell on a certain person",
          "And I just love every little thing about you...",
          "Rise and shine  Time to get prettifide.",
          " visit si fr joemar dito bataan (frm camiguin) & sum of my ofcmates& i are supposed to meet him this saturday  can`t luwas",
          " http://twitpic.com/4uyn9 - I NEED THIS. RIGHT NOW. THIS IS ABSOLUTELY MINDDDD BLOWING  I love this. So much!",
          "Ready for this saddenning depressing dullful upsetting dreadful weekend.",
          " *sighs* Ah well.  Maybe my second email will clear it up and get him approved.",
          "Making my boyfriend look different.  He`s  cute no matter what. <3",
          "Last session of the day  http://twitpic.com/67ezh",
          "lost my DC hat ..",
          "never trust someone else`s battery operated power tools when you`re in a hurry",
          "i dont know why i follow sme of the ppl that i do... they e anoying and boring. * note to self -unfollow peeps on monday morning",
          " Fabulous. And I didn`t get that pic  Gmail be acting the fool sometimes. Can u DM me it?",
          "Feeling bad for  profile pic",
          " werd. that`s very true",
          "Already misses ",
          "is in PHP website upgrade hell on a Bank Holiday. How`s that for planning!",
          "Hey everybody!  hah this day is cool! just got back from walk with the dog...  OMGosh! Send me the link again please!",
          " because its like ten times better than this place xD and its so beautiful and fun  and they have gold coast hot dogs!! xD",
          "Good morning tweeps. Busy this a.m. but not in a working way",
          " U so dirrrrrty... Why oh why did I pick the Hawks  I figured I needed a longshot and they were a better bet than CAR",
          "Prayers for my family and my dog - Mozart is being put down this afternoon.   Pics of him at http://tinyurl.com/mozartdog",
          " rofl that`s what we like to hear",
          "had a lovely breakfast with mum...yummy pancakes",
          "_in_a_story Glad I`m not the only one. He`s our baby, and I`m terrified he`ll think we`re never coming back.",
          "at famous dave`s with my mom. so hungry.",
          " I love the guy that was standing behind me",
          "Speaking,,,Speaking ...",
          "wow.. tomorrow and then it`s over. i`ll never see some of those people again. it`s kind of sad.",
          "_jane yay! buti nagustuhan nyo. isang bar lang enclosed ko sa mail.  to test if matutunaw or hindi. next time uli.",
          " then am anticipating the next ten days!",
          " I can`t call Mitch!  Im from sweden!",
          " Your birthday? WELL Happy birthday",
          "_banks 'Something must be wrong. Only found 17 July Harl/Sil books I wanted",
          "The underwire in my bra is sticking out and poking me in the armpit",
          "Getting ready for work and the sun is shining, plus it`s the w/e! Bgt tonight..... what am I gonna do after it`s finished?!",
          "Had an amazing night with my favorite lady friend",
          " i dunno if he saw it  happy birthday girl!",
          "_tdh Can you install ruby, gems and rails on keep? Please?",
          " eagerly anticipating twitpics",
          " Boring? Who you been talking to? Lol not me  ( no ****)",
          "tikcets are only ï¿½91...each...BUT I SO WANT TO GO",
          " Our raid leader made us run drills to practice switching",
          "All done. No more internship.",
          " I`ll oscillate from one to the other.",
          "  I thought  was against licensing stores bc it takes away from the experience they want to provide",
          "feels ..my cousin is a monkey  http://plurk.com/p/x23pa",
          "http://twitpic.com/664oz - this is what happens when i have no models",
          "So tired.",
          "a Dutch marketing agency is asking job applicants to apply in 140 characters or less  http://www.energize.nl/twillicitatie/",
          "Aww I got to see my 1st grade teacher`s last day before she retired",
          "Selling my laptop for CHEAP if anyone`s interested!  17' Toshiba 1.3gig ram",
          " quite",
          "Fun is being had.",
          "Writing reports....",
          " http://twitpic.com/4w9h2 better in person had to send u this, I feel like mouse from 'The American Tail' . Over in RI!",
          "Bucky, my ferret officially has insulinoma  Now on daily prednisone. Had interview with p-doc today, have to go back monday for testing.",
          " We do! Its been to long! I think i have next weekend open. When are you going to have the house warming party",
          " Thankfully that face only shows up for photoshoots",
          "Glad to see it`s a typical Bank Holiday weather wise - I was going to do so much today - yeah right!",
          " Thank you!  I`m working on `s",
          " happy bday!",
          "reading Evermore by Lynn Viehl.",
          "_43 HAHHAHAH that really made me laugh out loudd! ahahahahahahahahah your fuunny!!",
          "haappy bank holiday  2 weeeeks. aah!",
          " follow me too",
          "my baby`s off on his adventure. 14.5 hours in the car up to Lake Ann Mi. I admit it. I cried a little when the truck pulled out...",
          "Captain Jack is back",
          " You`re the only person to have joined in  #penilewords",
          "whatever will be, will be",
          " I send messages to greg all the time, no answer  its ok I still love o & a, goog luck with your move to Erie.",
          "_a_michael It doesn`t look like you`re tired in the pic.  Don`t work too hard.",
          "Wondering if i cld make things any worse than they already are... answer.. JUST DID!!!",
          " i am public and can`t get anyone to follow me",
          " eeeeep so jealous ;) I`m at work  um, how can u receive Viva? Do they broadcast it online? :plz:",
          "_rose Mornin` !  Missed dance time, so I guess I will have to dance extra hard tomorrow...",
          " one of our governors is one of the directors of the company",
          "school. 39 days !!! so exited. Amazing premier ",
          " I know dude, i`m doing re-runs, making Jenny watch them now too so we can have conversations LOL.  Haven`t been online much",
          "Marking going ok so far A`s and B`s so far - relieved it looks like I have future programmers in class",
          " I just about clear my whole office and no sign of it  next place is truck, I have yet to fully clean under back seat lol!",
          " I almost said, 'and grammer no exist either' grunt.  But I stopped myself",
          "At walmart playing hide and seek.",
          "Browsing  find everything about university & interior design.",
          "St joe is dirty.",
          "_breez Yer please do! Have a good day!",
          " I always hope they will die out but then i see the the old ones and it makes me sad",
          " What did you get?  My day is alright.. haven`t done anything yet. leaving soon to my stepsister though!",
          "watching the jobros live chat .. not live though  haha.",
          "shake shake shake shake shake it",
          " Yay for Block Party!  You`re the BOMB! Blockheads <3 Dave!   Thanks for supporting NKOTB!",
          " Good to see you back. Sorry that happened to you",
          "Going to bed after a great night with a friend  glad to know she has the same feelings about classes as someone else",
          "So happy, my VStudio shortcuts are backkk",
          " you`re surrounded by them! I have no official nieces/nephews yet",
          " why has it been so long since i have talked to you let alone seen you?? it makes me sad",
          " im cool  cant wait to hear these stories xoxo",
          "Recession hit Veronique Branquinho, she has to quit her company, such a shame!",
          " me because I might not have enough money for college!!!",
          "Also I was conviced to do a happy dance and then told it was the most adorable happy dance ever",
          " i don`t want to do anything specific, i just want to see you and puppy!",
          "... need retail therapy, bad. AHHH.....gimme money geebus",
          "Guess what? mom adopted a kitty today (11 months) His name is Corky",
          "Early bird gets the worm.  And in my case, birder gets to witness the carnage.",
          " yay about breaking 200!",
          "`s current goal is to lose 10 pounds by next tuesday! 120 here i come   soooo ready for Gatlinburg!",
          "Went on a short flight around the Geelong waterfront.  Surprised at how well I handled it, as I`m still exhausted from last weeks meetup",
          " It`s gonna be hot here today too. today is Ryan`s last day of pre-k. I can`t believe it!  I`ve been a SAHM since I had him!",
          "Done at Disneyland, kid`s knocked out, stopped by the hotel bar and grabbed a grey goose & tonic on the way up...peace",
          " But I really want a Sporebat pet.",
          "My bike was put on hold...should have known that.... argh total bummer",
          "'Brides a la mode' pow wow first thing this morning   This past weekend`s lovely wedding fresh in my mind... pics soon!",
          "My dead grandpa pays more attention to me than you do",
          " Oh right,sorry,now i get ya,But still 3000 email`s,wow,cool",
          " lol, get watching it again  hehe",
          " I checked.  We didn`t win",
          " that sucks  booo.",
          " MUAHAHAHHAHAHA...   well, maybe they think I`m crazy or something. I haven`t scared  yet though",
          "Going to Al Ain.  Need to check out one store. Hope i find things that I`m looking for.",
          " are you getting my messages or do you have to add me to recieve them, soz I`m new to this",
          " Hiya! Missed you too! What have you been up to?",
          " lol that just totally made me laugh, which made my day",
          "Just had a great study time followed by a delicious Japanese meal with Arty! Now, trying to get back into the study mood",
          "Wango tango!!! Good night all",
          "lol! woow okay its not that big of a deal",
          " hey hey",
          " Yay! have fun",
          " sorry 19/female/atl very lonely",
          " love this one, especially the shoes  anyway, gmn punya acc lookbook ya? http://lookbook.nu/look/92920",
          "looking at the sunshine out of my office window",
          " u don`t have school today????",
          "There is a faux gothy chick looking at me, sorry I am not going to camden and I like pop-punk and jimmy eat world",
          "Memories",
          " Hey Esmee. How U doing?",
          " Hey! That`s my school! I hate that place.",
          "Out for ultimate training. looking forward to the sunset!",
          "Grinding Skyguard rep. This is less awful than I anticipated. Yet, still awful. Last tabard I need",
          "Ugh I don`t feel well again all of a sudden",
          " yeah i need his fricken cell number ive tried his home for months and hes too busy. i miss braddddddddd",
          " you`re a busy Bob, I`m jealous. I`m not sure I can even afford to go meet John de Lancie and Leonard Nimoy",
          "I`m dreading hearing even worse news tonight",
          "Just got my paycheck... April bonus can b deposited 2day the rest, gotta wait til Mon.",
          " Yup theory is GREAT but the reality is beyond imagination...  I also made the same planning not knowing VS will FAIL on me",
          "If we don`t pack, she can`t leave, right?",
          "maybe i should take up drinking again, feel as if i have a ,massive hangover  still not ,yself today",
          " I love you so much.  Just got into my hiding spot, gonna go check out datalounge",
          "_xo   dang it, so its not certain ? ? ? are you okay?",
          "So now we`ll pay more in sales tax...great.  Even worse Mom and Pop businesses have to double what they pay in business licenses.",
          "back to br",
          " kittens are cute then they grow up n become CATS",
          " I considered being a nurse when I was younger but I really don`t think I could cope if a baby died",
          "Now I have a sunburn",
          "Oh..Summer begins..yay..  The fighting, Crying and stress has started with the kids..It`s only been 3 hrs since they got out.",
          " I always forget SOMETHING when I travel. I am at Newark airport.",
          " Omg really??  I sowwy! I`ll do it again! :-p I was tired when I did that this morning. :-p lol!",
          "Is trying to recover from a broken heart....yet again for the 2nd or 3rd time",
          "Happy star wars day! May the fourth be with you",
          "09/09 +full moon+ my lovely friends and family= my b-day wish came true;)<3 In addition,gray matters is one of the cutest movies ever!!",
          "  ummm...last night when I DM`d you, you said it was a 'good' question.",
          "_ aww thats too bad you lost it though",
          "with hubby at the dentist ready to hold his hand  and getting nervy about potentially buying a car tomorrow",
          " Let`s go!",
          "_chick haha. I completely agree",
          " TGIF is right...I think I broke my toe last night - on my bad foot.",
          "_Brown been holding onto this one for a while  http://twitpic.com/4w5eh",
          " i dont even know now lenaaa  when you going clothes show?",
          "Yet another good weekend with someone. Sigh. Man I like the boy..",
          " That it does  just wish more people would notice it",
          " Aren`t you suppossed to support the local economy ... LOL ... good for you and congrats",
          "_d you`re gonna take good care of that little baby and he`s gonna be a strong boy, that`s for sure",
          "finally feel back into swing of things here at work after getting married last week! sigh of relief for no more wedding planning!",
          "Getting somewhere with my first 'real' KiokuDB and catalyst app, yay",
          "Happy #StarWarsDay. May the 4th be with you!  From everyone _paintball",
          "Back is SORE... should not have done that jump last night",
          " Hi Simon, let me know when it`s done",
          " ???    ?????? - http://bit.ly/nAcK2",
          "home for the nite, sleeping on the pull out bed with Maggie. wishing it was _durden  I got to find a apt",
          "Bout to hit pmark then make one of my final meals wit the housemates..",
          "looking for people",
          " we`ll test that theory  with no right arm to strum with.  Got a feelin I`ll be humming my new tunes for a while",
          "NCAA Baseball Road 2 Omaha: South Carolina just hit a 3-run homerun. Dagger 2 my heart.    Mason 1 - South Carolina 3..",
          " my bad homie",
          "_art That would be the one.  It`s awesome sauce.",
          " I mean someone hit a dog with a car. It was just laying there",
          "Unlike cierra, i look like poop today. Whatevahh, lol.",
          "_ that sucks!",
          " Going to start very small, like $0.10 or $0.50  Then slowly to higher stakes",
          " Yep. Nothing to worry about.",
          " 'You guys could have fun in a cardboard box'.. I miss you already, bro.",
          " hi ya demi! im glad ur back   http://twitpic.com/4vuuy i personally love the picture! haha",
          "what a beautiful day not to got to my first class",
          " me? A doctor? *laughs* oh, no, no, no. I was _crane`s patient at Arkham Aslyum, but now I work for him",
          "yay  my `only on sundays` maid came!! the house will be clean again!!!",
          "live on stickam.com/itstyleryo COME CHAT!",
          " gotta love the summer",
          "charlie and the chocolate factory, in the mood for some johnny depp, then bed. Preparing for a 14 1/2 hour wok day tomorrow",
          "_x How did your Geo ISU go? I swear I just had the worse day ever..",
          "_NigerianBoi thanks JT i also enjoyed it i will. r u following me? ill follow u back",
          " Sorry - I have failed to grasp your meaning",
          "oh no! my fun weekend with friends is gone! my mother has made a family weekend of it!  ****",
          "I <3 Rupert Grint......& of the boy, Ive accepted tht I do fancy him  But im certain he doesnt feel the same so its not worth telling him",
          "coffee time",
          null
         ],
         "marker": {
          "color": "#CFD8DC",
          "opacity": 0.5,
          "size": 5
         },
         "mode": "markers+text",
         "name": "other",
         "showlegend": false,
         "type": "scattergl",
         "x": {
          "bdata": "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",
          "dtype": "f4"
         },
         "y": {
          "bdata": "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",
          "dtype": "f4"
         }
        },
        {
         "hoverinfo": "text",
         "hovertext": [
          " ha! lemme know what you find (tho I suspect it will be a lot of complaints). Have a peaceful night my friend",
          "I am living in a country where the government is ALWAYS a circus show ... sad but true...",
          " that`s great!! weee!! visitors!",
          " 6 am.  you?",
          "Ahhh my mommie got me new sheets for my bed  so comfy",
          "my monday running so fast!",
          " I`ve never been to Prague, but if i had the money, it`ll be in the 10 first cities I visit",
          "It`s 20:50 hs and i`m still at the office...really tired,wanna go home!",
          "10.11PM~ todays a drag for me. so bored. im about to get into the romance book so i prob wont be on til the morn  night twitter babes ;)",
          "Morning everyone sorry for going early last night had bad news, felt totally ****   Today is a new day",
          "been busy at work, now must run before traffic is too bad.",
          "Good morning scary world!",
          "I misses my bed  so sleepy!",
          "Shoot. Only 12 miles",
          "Wow what a storm we just had!!! Now no power",
          "'I don`t like Monday, i wish it were sunday, cause that`s my fun day.'  that was my freaking jam when i was little.   i miss it.",
          " You should see our floors before you make that offer.  Let me know if you don`t receive a call soon.",
          "  i'm awake whats for breakfast lulu **** on a shingle ha ha ha",
          " oh, that is very nice!! I will do something nice next week ~ going to Madrid next weekend for few days",
          "Huh, another ScarePoint coding Sunday",
          " I knooww  & my hot water bottle iss in whangamata without me. ahhhhh",
          " ****! I want to be at the beach in the sun",
          "such beautiful weather.. .why are u sick, baby ?  @ tanapolis",
          "I wish I could go to #BEA this weekend.",
          "_celeste  finally some sleep in silence",
          "is off to work ... still 'recovering' from an amazing and beautiful weekend. Have I mentioned how incredible my friends are??",
          "this weather makes my fingers numb / still waiting",
          " yay but you missed naptime",
          "i so can`t be bothered working tomorrow!",
          "about to go to leeds shopping",
          "And you could have it all, my empire of dirt! I`m in a&e with dad I`m freezing fully shivering Every1 else is warm  no fones allowed ffs!",
          "should not have waled past the Quad! I want to be outside having fun.",
          " G`night Jonathan! I tried to stay up, I really did. I can`t wait till ur in my timezone! Will be so much easier then!",
          " Glad to hear you made it out, I hear that place used to be it`s own country  Looking forward to your arrival!",
          "'you said 'darling what happened? did I fall asleep, and you carry me home? Cuz I know I wasn`t here'' Goodnight twitterererers",
          " I am in Weirton Julie, way up North at the tippy top! LOL we don`t think southern WV folks like us too much.",
          "about to head to the Strand, goodnight",
          " Or FTRH -- For The Ride Home",
          " i still dont know what we would do though",
          "Pleeaaasee come out sun",
          " Think you should do a tour in England, we dont got to see any aweomse people !!",
          " actually workin from home tonight...  you?",
          "good morning world",
          "Gnight shar   <(` `<)Vega(>` `)>",
          "_witty  yes france/belgium was good  carnt belive how much traffic we hit on the way back",
          "I`m really bored! My brother went to get his permit! Stay off the roads! Jk lol! It feels like all my friends have abandoned me! Except 1",
          "Looks like its another night at the office lol",
          "I just really want to sleep butmy eyes won`t let me",
          "is pretty dang tired. but chambers class is for napping.",
          "? I had great time in Boston. Thanks to my baby girl.   http://plurk.com/p/rplmy",
          "Got caught in the rain. Sand Monsoon all the way home, even though i looked like a complete idiot",
          "Hi ho  hi ho it`s off to work we go",
          "lunch break`s over, going back to work....",
          " unfair  I wanna go too.",
          "Stupid storm. No river for us tonight",
          "productive day 1",
          "going to bed  cant take thiss any longeerr maan. [U]",
          "Jus got back from a run up sunset blvd! My cuzin tried to kill me my legs are still movin and I`m sittin down!!",
          "oooh, sunshine! A patch of sunshine! And it will be gone by the time I leave work and replaced with rain.  /vent",
          "Dear rain, you suck. Now I gotta change my plans for tonight",
          "keeping it chilled.",
          ": you get to go home and i have to go to work",
          " Oui mademoiselle. You can barely turn around these days without bumping into one.",
          "it`s nice to leave the office when the sun is still up",
          " Hello again  How`d ur saturday go?",
          " Morning Lou, I Have some housework to do then im off to Church",
          " well there go my peace corps prospects.",
          "D-group Saturday`s, with a little bit of football, an hour nap, 3 hours of soccer, basketball in the TSU and Yogurtland... Life`s Good",
          "FML not having a car is prohibiting finding a job",
          "In Whin Park on the swings, victory is all mine right now",
          "   Caladesi was definitely a nice peaceful way to spend a Sunday! I got a lil tan!",
          "Transition time is over; tonight I work night shift. I woke up at 1330.",
          "bundy. in 3 days.!!!! warm weather here i come!",
          "Gonna go and see my sister at Mount Sinai ....  she`s there for at least another 24 hours.",
          "_buckley Good morning from sunny London...sounds like an oxymoron but happens to be true of today  Hurrah!",
          " I know.  I am definitely going to try and see Up this weekend.",
          "thinks revising in the garden from 8 this morning without sunscreen isnt the best idea ive had  oucccccccch",
          " srry im not so interesting right now... stayed up til 6am cause my tummy hurt and now im pooped and have to work",
          "Off to enjoy a Hanami picnic at the cherry tree park. Hope the weather stays nice.",
          "CAPONES island in 2 days!!! my summer is just starting...",
          "back to work tomorrow  whose idea was it to go back on a saturday?!? Oh wait... that would be mine. FAIL.",
          "Glorious sunny day in London town.. I`m in drama school fighting people with swords while protecting my romantically structured face",
          "NOT excited for 32 people reservation in the morning  **** LOVIN halo3 right now for sure too",
          "I was awoken by loud banging and it continues all day  Good thing I got an early rest last night!",
          " If I could, I`d send California sunshine your way.",
          "Raining again",
          " hello you!  you should totally go to the biggest shopping center in Europe and we can go shopping together   ****",
          " It`s not gonna storm!  because I said so!",
          "#f1 in a few hours guess who is sleepin in the living room",
          " EpiCentre Wheelock Place - tourists only..",
          "I get to drive my dad to the airport so he can fly to Vegas for the WSOP... I wanna go to Vegas...",
          "is back at working auditing away, time to make the hard decisions and be happy",
          "Gha, off to work - hopefully traffic has cleared up by the time I get there!!",
          "Good morning everyone",
          "morning, how is everone? sing to me  You tuck me in, Turn out the light, kept me safe and sound at night. (8)",
          " I`m sorry  at least it`s Friday?",
          "Jesus Christ meadowhall could do with better air con! Too hot",
          " where`d you go!",
          "Planing on going on a little ride on the mtb on monday  may be in over to the tower...",
          "long day and i still have to mow the lawn",
          "On the monday, so i wont be able to be with you!  i love you",
          "Geeze- I`m just wondering what is wrong with some people. I either need to go for a run or go to sleep. Tomorrow should be a fun day.",
          "Oh god, a moth was living in a **** power outlet!  (Actually, my PowerSquid.)",
          " Hey I was scared last night at 3:17 because of you... and I had several bad nightmares",
          "bored bored bored! wish i had something to do tomorrow, especially with the weather we`re to have!  not fair",
          "Off the a village May Fayre now.  Bag packed ready to bring back home-made goodies.",
          " I love the smell of procrastination in the morning... oder so.",
          "Must head back to the office",
          "weathers let me down this morning...ugh!...hada gd nite tho!",
          " so u aren`t going to be in Chicago",
          " lol man i got 2 1 /2 hrs an iont how i woulda made it wit out my ramen noodles and t.v. Time",
          "TODAY FRIDAY: I really hope you will read my messages here and reply to me soon. I could not reach you by phone before you go to work.",
          "IS ANYONE AWAKE?!?!?!?! oh my god i am dying here. i want to go to SLEEEEEEEEEEEEEEEEEEEEEEEEEEEEEEEEEEEEEEEEEEEEEEEEEEEEEEEEEEEP. :[",
          " 11 30s way early! anyway nigth night  love you!",
          "Change of plans, working inside bar tonight",
          "Morning all! Have a GREAT DAY! Off to school I go",
          "looks like we`re rained out for weekend climbing",
          "Sunny synday morning. Nicole is up later than usual, mommy got some sleep",
          ", goodnight",
          " the hotel should be thankful",
          "Just wants to stay in bed all day but has to go to work instead  sux",
          " learning tat the scenic way  din plan to go town but somehow was herded there?",
          "Got about 2 hours sleep.",
          "reality needs to check in. schools over. time to party  not tonight tho, im going to bed. night, night.",
          " Hi Jordan i`m gonna all of u...I know ur busy and i know ur probably tired. but please reschedule NC. don`t leave us out.",
          "So hot today =_=  don`t like it and i hate my new timetable, having such a bad week",
          " haaaw..well i get out of class at 10:50..i hope i make it",
          "I have the Job  this is a nice day it can not be better",
          "movie then sleep! Today was good day  [{H!--D3ff}]",
          " heading over to xbox  will go shopping 2morrow",
          "I hereby announce that I am... employed! Couldn`t be happier, Alhamdulillah!",
          "just rocked home from maccas, and now signing a petition for big bang to tour aus  LOL",
          " i know they are delicious.miss germany but like holland as well as we used to shoppin there at weekends.lol",
          "@ lovelytrinkets I like the way you worded that about Rocky Road",
          "  Bit of New Scientist, this weeks an last weeks, and Watership Down",
          " alas no, it`s just a normal night  monday is quiz night",
          " don`t go to logan square we`re pretty sure the shirt isn`t there  1 more philly local tmrw",
          "Good morning!  Just took the longest shower ive ever taken in my life. Like 45 to 50 min shower!! Woah. lol",
          " I`d love to but I think the trek from London would be a bit too much",
          "I just walked into work, all the while thinking that I was sitting in Bellagio this time Wednesday.",
          " i can`t believe that you guys are gonna stay just one day here in Rio de Janeiro again",
          "im just up :-| and its 12:43 :O  im so lazy thank god its a bank holiday",
          "Time to put the weapons on the charger for the night.  Sleep tight",
          " Nice!!!!!!!! I WILL be there",
          "_Nutbar Good morning  how are you? #TwitterTakeover",
          " Ian and I are going to a matinee tomorrow, or that`s the plan at least...it`s going to be too expensive for 3d at night",
          " I`m looking forward too see and hear you in Norway!! Live fast!",
          " We are working",
          " Good night, Rob. Sleep well. Safe travels tomorrow!",
          " ****  lol....where u headed to?",
          "hate working when its sunny,boohoo",
          "so I slept in a little...well a lot. whooops",
          "Well, Sacramento, I hope you appreciate Rivkah Sass & treat her well. I`ll be sitting here in Omaha, pouting",
          " we can all but hope... georgia is still wide awake and has the hiccups",
          " I tried sooooo hard to work from home today, but failed  Not my fault though.",
          " oh mannn i`m gonna be there tomorroww",
          "is dreaming of the weekend... awake!",
          "I love waking up and thinking it`s a weekday, but then realizing it`s the weekend.",
          "just got home from a nice party, just not tired yet",
          "Going to bed after the CAVS game  Don`t judge me LOL",
          "No AC, the fan doesnt swing our way ... we are sweating it out on a hot humid day",
          "I`m leaving work now. Trying to decide if I return on Sunday afternoon or Monday 4 am to meet a noon (UK time) deadline.",
          " Too much? No, not unless one of the pillows ends up suffocating the one sleeping next to you.",
          "http://twitpic.com/4w67k - Camping at black butte lake",
          "I day til NYC!!!! and the journey soon begins!!! Music baby",
          "about to go to sleep",
          "   But  is right: This is like the Cape Breton coal mines but ++. No lessons learned.",
          null
         ],
         "marker": {
          "opacity": 0.5,
          "size": 5
         },
         "mode": "markers+text",
         "name": "0_morning_goodnight_bed",
         "text": [
          "",
          "",
          "",
          "",
          "",
          "",
          "",
          "",
          "",
          "",
          "",
          "",
          "",
          "",
          "",
          "",
          "",
          "",
          "",
          "",
          "",
          "",
          "",
          "",
          "",
          "",
          "",
          "",
          "",
          "",
          "",
          "",
          "",
          "",
          "",
          "",
          "",
          "",
          "",
          "",
          "",
          "",
          "",
          "",
          "",
          "",
          "",
          "",
          "",
          "",
          "",
          "",
          "",
          "",
          "",
          "",
          "",
          "",
          "",
          "",
          "",
          "",
          "",
          "",
          "",
          "",
          "",
          "",
          "",
          "",
          "",
          "",
          "",
          "",
          "",
          "",
          "",
          "",
          "",
          "",
          "",
          "",
          "",
          "",
          "",
          "",
          "",
          "",
          "",
          "",
          "",
          "",
          "",
          "",
          "",
          "",
          "",
          "",
          "",
          "",
          "",
          "",
          "",
          "",
          "",
          "",
          "",
          "",
          "",
          "",
          "",
          "",
          "",
          "",
          "",
          "",
          "",
          "",
          "",
          "",
          "",
          "",
          "",
          "",
          "",
          "",
          "",
          "",
          "",
          "",
          "",
          "",
          "",
          "",
          "",
          "",
          "",
          "",
          "",
          "",
          "",
          "",
          "",
          "",
          "",
          "",
          "",
          "",
          "",
          "",
          "",
          "",
          "",
          "",
          "",
          "",
          "",
          "",
          "",
          "",
          "",
          "",
          "",
          "",
          "",
          "",
          "",
          "0_morning_goodnight_bed"
         ],
         "textfont": {
          "size": 12
         },
         "type": "scattergl",
         "x": {
          "bdata": "UbLXQMjiy0BhE7lA0i7XQEPz20CKp+VAPOvAQAY62EAgOdZAQH/zQPKEx0Arbe5AT7rdQCwewUCT+bVAYnrnQGlrwkAe/95AYCG9QL5o60ANbr5A+Cq1QFRetUAaxspAyULfQMWz10BP0bVAvynbQI2D0UD1x7JAUxSzQAwjsECJl9dAXyu5QBpF5UDYSMJAAnDiQNJPskCvX8hA2zW0QFSqxkBLINRA+B/vQLR72UCl+rNA7QnHQG1fzUCYx/VABGnpQBTZvkDblLZAgi7QQJjg30BdqMpAkJOyQHs5zUCdRtxAZWC7QOkOs0BMhrNAx1qzQHaU0UDdPbRA0le1QH4C5kBqbNtAfMrKQMTT4ECutMZAdDapQLFguUACXtpAiUq/QMmJx0DyC+5ASdKwQA9ItEAekPRAK6O4QPB4wECxl99AWoLkQDsCtEAOjuRAXwW0QK0ws0Doj7VAsimzQDNr30BxGrJAjsXJQCPn0UBQP81AY8HwQLph6kDv0+NAAHqwQNryzECoPrBA9UipQCxZ5UB3PfNAzTO6QAMD60DHecpA/x+xQJIc70DxLcVAM/i0QCnvw0BngOBAd7rWQEI510BkZtZAiZXfQCfU7UB/xLBAz7/fQOIX4kB5OatAN03aQFf9sUBjj+JAMV3eQDTu0kACf+pA1sbWQClLyEBvlexAIJ2wQD4n10AKBchA4su1QKxys0C6trNAKUzfQOuRvEAAUvNAgS/GQI8P2ECx5MpAaZ3VQLSZ20DvW8ZARDzvQA4Dv0A0IMBAX5LPQLUS30BaKctA9d+1QD1J40B7db5AoJbXQNAd0EAvn8xAyvLhQAYv50D6d9pAxNfcQIQDskCgdt1ApxTgQA24p0DV0sFAQYXeQK+mqUBtNc1A",
          "dtype": "f4"
         },
         "y": {
          "bdata": "tvzrwNivpcB2YbjA3m3swOuCAcGbI+rAsX++wMHr8MBIx/HAGNbwwLRc4cAsT/nAFN3+wI0718DMKuPALqnowA8Ho8CCAQDBKHy/wGs59sCFMtjAzJXxwPA038ACfpnAUxkCwVxJ18B9xt/AQmr7wNzI5MDWB7TAvG7pwE5c08CPLPHAaqXBwL81BMFhy8LA2/wCwZNpx8DWTK/AnRXxwPs2qMAiguXAiKv5wAtpAcFB5MXAPPbgwDHa8MDBKQPBHJoEwZK1x8Cftt7AbBjmwG//5cA2UsrATMLhwFwU7MB4CQDBR6zfwIms78Bpu97AUcDvwKf46MBPVcTA9FHywC0848BHs+jAIJm/wJ5w6MACrOHAEezTwJ9V0MA8NvTAfTzJwBveyMDlY/TAnCXWwAIU8cAxWO3A6qDNwGj6xsDVaebABZTcwHU/t8DmhQDBNenvwOj93sB+07PAnYjjwCHYAcEwUsPA07/NwECo38BGtdzALtv4wAq0AMEV6+fA4CPpwA1wzcBFgc/AlL/YwFRl6cBwPvDA94XkwHqt+cDZkeTAxWPDwLd49MAJffDAfhbewEvDvsDdOALBL57nwAyG9MAHKvPAiTvYwNp38cCw39rAPdb+wDDkAsH1473ANa33wM8/x8A9bALBJMH2wOEH6MAIXOLA9L/ywDIx68ANPvXAmM20wBJC4cClT6jA2nK/wJIyycDETODAzKbowIHguMBnZPjAt3mowGoe5MCkpr/Ali7ywGVOAcHZqcTA02X4wCihq8CDi7nAXPbmwCce/8A1Cc7A/6LwwNcUA8Eaw8TAbdb0wIAv58Bg38LAG7rxwPOZ68Bavu7ABuH6wOEg7cA2z+fA/psDwQdv0MAJcMLA8rIAwQzDzcBfwODA",
          "dtype": "f4"
         }
        },
        {
         "hoverinfo": "text",
         "hovertext": [
          "Good morning twitterland. Happy Monday",
          "I signed up for an account on a political website so I could post a comment but it isn`t working.",
          " Propellerheads has been on my harddrive for a long while. Just got my music repo back in shape this WE and felt nostalgic",
          " wasn`t the 'layers' just absolute positioned divs? Web compability killer",
          " Hi Heather. I dont know why... but I just saw your messages from April!! Have not been very twitter friendly...",
          "oh no my tweetdeck is malfunctioning :O il have web will its fixd",
          "Now I need to change my monitor",
          "Headed to verizon. Praying that pinkberry is going to make it.",
          " There`s no pause button in the game of life.",
          "My mobile has stopped recieving text messages AGAIN. Stoooopid thing",
          "just signed up..so, hello twitter world, here I am",
          "evryone come here http://www.blogtv.com/People/GinaNicole2 were spamming so much and blogtv is glitching and it might work",
          "Its coming out the socket  I feel like my phones hole is not a virgin. That`s how loose it is... :`(",
          "gawww, why is facebook being so slow?",
          " Shanghai is also really exciting (precisely -- skyscrapers galore). Good tweeps in China:  (SH)  (BJ).",
          "is downloading songs  http://plurk.com/p/rp8wx",
          " For sure you should continue to Tweet WHILE on conf call, WHILE worrying about cat and bee.",
          "  out of commish for a few days in ATL with fam.  Just saw the updates to the .net website... Looks AWESOME!",
          "sorry for my lack of tweets  ive been buzy. new vid this saturday!!",
          "learning how to use twitter",
          " this my new more private acc. Will only use it for close twitter friends",
          "Wow, the new Google icons suck   http://bit.ly/z7JIE",
          " It`s surprising how much Billy Idol turns up in tweets. I monitor constantly - not that I`m obsessed or anything!  #BillyIdol",
          " riley hacked my twitter!  hahaha :]",
          "went twitter crazy! last nigh :p well thats what happens when u got nothin ta do at 2 o`clock in da mornin",
          "Arghhhhhhhhh... i can`t keep up with these TwitterBones peeps",
          "The comp deleted half my apps",
          " look who I found just for you  --->  http://twitter.com/DJT2009",
          "Lots of tasks to complete today. First, wecloming new members to Canadamigos Social Networking site, www.canadamigos.com, and coffee",
          " nope i have a fifth generation ipod classic  it likes to be dumb",
          " 4n? ma rog  never heard of it  esti beat acum? u tweet too much",
          "**** internet jus cut me off!  was bout 2 shoot sum guys eye out  ~*~KANDI~*~",
          ": hmmm, wrong link, ignore my tweet",
          "Not only has it broken but it`s Monday!!Does this mean Monday can be fix`d?  ? http://blip.fm/~5jgio",
          " thanks Alen, it seems that we can only submit community news, is this an error, or must we prove ourselves",
          "no internet for a week or longer",
          "Someone out there will soon  be the lucky recipient of my 5000th Tweet. Oh wait. ****. THIS was it!",
          "getting my phone back this week  yeeeewww",
          "_collins I`m not sure I understand how this twitter thing works...",
          "Toy Story 3 trailer premiered with Up. I need my computer back.",
          " Make a videoblog!",
          "YES! Im down to 50% full on my dvr  i was at 98% like 3 days ago... lol I swear if I didnt have a dvr I would never watch tv",
          " why aren`t you showing up as a #spymaster in my screen?",
          " you didnt send me the text",
          " don`t follow me. You will ruin my twitter experience",
          " <3 your gonna be the first  twitter ;) cause your amazing lol. come to canada  would do anything to see you perform",
          "TweetDeck is acting really strange! Hum........ reinstall maybe. Update on the horizon? Or is it just another Adobe memory leak",
          " btw - downloaded iphone 3.0 sdk",
          "Fixing openbox theme a little",
          " tried to join the chat but the site would not let me sign in",
          "A little twitter mention on SNL",
          "My net died so yeah....  I`m sad now",
          "Im Slowing on My Tweets..Cuase I Lost My Phone",
          "  Missed all your tweets again Joe, **** that time difference!!! (UK) Dont 4get about your fave supporters in the UK!!!  ****",
          "AT&T cheated the system and now I have no Green Day tickets  **** you AT&T!",
          "frustrated by my stupid iPhone I need a blackberry!!!!",
          "Ok I`m frustrated, there is hella dust between the screens of my blackberry",
          "nope no way in to stop  just have to put up wiv it",
          " .. and you`re on twitter! Did the tavern bore you that much?",
          "I want a new phone  I`ve seen too much cellphone commercials (",
          "Big Sad Face   Bing doesn`t work on iPhone.  It just takes you to the regular mobile Live search.",
          "is excited!  http://plurk.com/p/stk04",
          "Invasion of the Old Ladies has just ended, still have to clean up not going to be able to make it to the tweetup tonight.",
          " actually, the web works fine. tweetdeck seems to be the culprit  sadness! it`s done this at two diff. locations",
          " did you tweet me? i thought i remembered seeing one but i cant see it now! SO glad teatree is ok!",
          "Ugh fun concert  screen cracked on phone again because it fell... =\\",
          "my apple-mouse doesn`t work on my shiny red coffee table...",
          "  lol since I got twitter a little while ago, it seems like loads of people setting up an account",
          " Lol Your tweets are so funny! I met you in Calgary! You`re awesome  Can`t wait for the next HP movie!",
          "Is Google Maps not working for anyone else?",
          "Anybody else experiencing painful slowdowns with facebook?",
          "no phone  i knew i should`ve charged it last night. SIGH",
          " wowie wooie someone updated their twitter without me having to remind you. I`m not even mad,I`m impressed.  how was the lasagna ?",
          " did he ask for your Twitter ID? Your sun sign?",
          " yeah.. I left cause my pc can`t run the client anymore. I had thought I would have a new one by now..",
          " yeah, so quick! And I`m using the 5mm addi`s I bought on Sat and it makes it even smoother",
          "Sites that republish my blog`s feed often end up higher than my blog on Google search results",
          " Until  brings back our EVERYONE button, access PT @ http://twitter.com/public_timeline or link in bottom of Settings.",
          " the app said i need 12.1.5 or later",
          ": unfortunately not.  I have to take it to a repair shop or replace it.",
          " LOL, very true. Maybe next year. I loooved that siggy, and I don`t remember what the password for the mod thing was  Cake?",
          " Why do I have to enter my registration details every time I update?",
          "i miss my old phone it worked so good until i dropped it  i want a new one for my birthday...",
          "Using tiffys computer...it feels different from mine... the touch is different.",
          "just downloaded the tweet deck....look at my and my saviness",
          " soooooo wish i could, but im in school and myspace is completely blocked",
          "_MileyCyrus it wont let me do it twitter keeps saying over twitter capacity or something that bird keeps coming up.",
          " glad to know that the ad display problem was due to a firewall config at yr office. phew!",
          " you shouldnt have to reset more than once  if it doesn`t work right the first time, something is up",
          " im trying to fix it.. it doesnt do it  and its 'ahi dios mio' but u did good lol",
          " ****! natalya! you gotta tell me whats going on!!! i`d call you but i lost all my phone numbers when i broke my blackberry",
          " No, that`s not right - I remember now.  You were in a fearless tweet - we were both seen as fearless.",
          "So I really need to put the laptop down & start getting ready for  shindig...But I`ve missed my TwitterLoves all day",
          "right im out of here peeps.. i hope  fixes twitter mobile so i can tweet from the race.. m.twitter has been down for 4 days  #fail",
          " well thank your phone for me.",
          "is working until 11 tonight  http://plurk.com/p/x2kbv",
          "I have not tweeted for SIXTEEN DAYS! I miss it =( I`ve been having fun though! =D Ingrid on mon was frakking awesome  BBQ today!",
          "twitter fam, i`m about to hop back on AIM i went ghost on y`all lolz sowwy",
          " Sadly, I can`t view that site due to region restrictions",
          "ughh on the phone with HP!",
          "First time to Twitter..",
          "just set up a new computer again. 15min. I love Norton Ghost.",
          "Woo - got a fast mobile broadband connection now",
          "is on facebook",
          "#SanctuarySunday  thanks for joining on #SanctuarySunday, follow more Sanctuary people to keep up to date on the tweets!",
          "Again working on the internet shop ... don`t think we will achieve the goal of uploading by the previously set time   Will keep going",
          " I broke my ipod",
          " nope..not drunk..sometimes I think maybe I should..then maybe Twitter would make sense, ya know!",
          " heeeeey! You abandoned me here on Twitter momma dots?",
          "My comp is being slo w",
          "skype call with billie but my webcam dont work",
          " your test works fine for me  tweetdeck is so cool eh?",
          "morning tweat tweat twitter",
          "Twitter has spoiled all the fun. Frustratingly slow!!  couldnt even bid properly!",
          "catching up on my reading... twitter n BF break",
          "Back from town and my Mac crashed on me  but it`s better now",
          "i juz registered my cp in twitter, but my tweets wont go thru? Argh..Hmm wanna follow my idols lyk  away from the PC..",
          "Internet, you were so fast! And now you are so slow! Where did the fast connection go?",
          "Night twitterland x I have to be up in five hours  sigh",
          null
         ],
         "marker": {
          "opacity": 0.5,
          "size": 5
         },
         "mode": "markers+text",
         "name": "1_twitter_tweet_tweets",
         "text": [
          "",
          "",
          "",
          "",
          "",
          "",
          "",
          "",
          "",
          "",
          "",
          "",
          "",
          "",
          "",
          "",
          "",
          "",
          "",
          "",
          "",
          "",
          "",
          "",
          "",
          "",
          "",
          "",
          "",
          "",
          "",
          "",
          "",
          "",
          "",
          "",
          "",
          "",
          "",
          "",
          "",
          "",
          "",
          "",
          "",
          "",
          "",
          "",
          "",
          "",
          "",
          "",
          "",
          "",
          "",
          "",
          "",
          "",
          "",
          "",
          "",
          "",
          "",
          "",
          "",
          "",
          "",
          "",
          "",
          "",
          "",
          "",
          "",
          "",
          "",
          "",
          "",
          "",
          "",
          "",
          "",
          "",
          "",
          "",
          "",
          "",
          "",
          "",
          "",
          "",
          "",
          "",
          "",
          "",
          "",
          "",
          "",
          "",
          "",
          "",
          "",
          "",
          "",
          "",
          "",
          "",
          "",
          "",
          "",
          "",
          "",
          "",
          "",
          "",
          "",
          "",
          "",
          "",
          "",
          "1_twitter_tweet_tweets"
         ],
         "textfont": {
          "size": 12
         },
         "type": "scattergl",
         "x": {
          "bdata": "/UjeQLkf0EAL3K1ANSzIQNnW3UC4TdJAnpSyQLRDpUCgzMlAQb+9QJVb3UA+nM9AL7ynQA2Jx0BIdehAOx3OQFWH3kDHaMBA47blQISb30CVJN1ADZjIQNha5EAarOxAdtfpQAiK5UBSbrZAL4TlQO0n5kD3KKpAlKLwQI8y8kBv3OFAbkm/QKK00EBi4r1AzrPkQNY+qUDLsOJALhq2QGef1kD+LMNAmoi2QDm6yUBpH+pAMTrnQOnj0kCsxbJALl29QMv0zEBnKt9ALHK5QEVXx0AssOlAqMCkQE2fqECu2KdAv4bEQAYf5ED9QahAByK1QE280kCimdtAT27PQHsz5kA4fqdANsWnQFp330Di3+hAB/fHQKlrxEBIYKhASQPnQD6E30DucLZAWl+vQFXlzUBmj9hAjs2zQHm3tUDMB9ZALofQQD1KqUBmgqdAocjTQBszzECWkN1AwnXHQIH+wUBkxMNAL6CsQEXD50DR58pAsUjXQIqDq0DaaM5AopnmQPB070Bq6sdAyEGpQEci4kAMSLZABDexQIPfyUDV7dpAqjnCQEAtqEDpPuVAyLrvQF4fuUCEg7tAwrrTQF0F3UBY49ZAvSDqQEHFtEBugdxApFO6QD332kCDxMtA",
          "dtype": "f4"
         },
         "y": {
          "bdata": "j/Nwv2yNy781txvAGR6/vxIJp79XUJe/Z84TwFueBcDSD8S/EtTrv1vqoL+bF6S/YfEOwBNoq7/Vf92/RNgbwO6dgL9C9+C/kPmpvxwbk79OTqe/GP/Nv6+Gnb/W/qa/aVKsv75omL9fl+W/gFmzv+5Evr8Y9A3AZGitv1qQr7/X0bW/bIYowCAHnr9nnc+/FE6kv+SrBsAqBJG/cOrgv/exrL/ABba/asESwEcZA8A2gqe/EkDFv51Mk7/2sPi/FkcfwHZD9L/dkIK/sePZvwCTrb9ilpG/Q/0KwAYgCsBFNgvAjgPSvzZ/m79KkgLAsT35v9aqIMDwP3e/wDefv+Acpb+gGgnAthsKwMHSoL+GKNK/KkDGv607sL9U2wXAbFWqv6x1rb8Te+K/JpT2v9Bhor+NoJy/WYb5vxDxHcDv2vW/+8nNv4VgBcA6kQrAGuWXv5fR5r9ntYu/FdzHvxzo2L/+9CnAyKoRwOmplb+v9LK/vzKWvwzeAcDXCh/AlTCqv9OOpr9H+s+/d84BwEMJk7+7lOK/sr/ovzCCpb9c0Zi/iejhvyvrD8BKlpS/Ev2kvzYq5r+R0AzAt/GVvw0Jgb8S6J+/4Fehv0YN5r+CtaG/D3fLv3sba7/us8+/",
          "dtype": "f4"
         }
        },
        {
         "hoverinfo": "text",
         "hovertext": [
          "BGT made me cry tonight",
          " Hahah! That was the best! Thank god for Terry he was laughing so hard. I miss him   I remember racing trucks with him that ...",
          "crying real tears",
          "Waiting for the last movie to finish then am test screening Ghost of Girlfriends Past, glass of wine and lolly bag in hand, yay!",
          "_89 I feel so sorry for her  hope she dnt cry 2nd time",
          " yep, i wish they were all playing dubiln",
          " well even with her breakdown she was better than the other acts unfortunately! Britain`s got very little talent",
          "Just Chilling after MCFLY last night! ABSOULUTELY INCREDIBLE! =D i love them!",
          "the live version is so much better  ? http://blip.fm/~79my3",
          "Wow that was fast...next up Soderling or Ferrer. Gilles Simon lost",
          " Yes, but I`m quite rusty.  I`m hoping to get back to it and 'tune up' my skills.  Tim plays guitar.  We threaten duets.",
          "thinks SG is wonderful",
          "JB on the front of factor x!!!!! wooh contest timeee",
          "yeah so Prom Night is now the Craft (good movie)",
          "30 year old Barbie dolls still can rock it...that girl was H-O-T!  and Ken ain`t so bad either!  now those are memories!",
          " you can also watch Family Guy online. www.fancast.com  And yes I am a total shill.",
          "Rest In Peace  ADaM 12 & GLeNN EPPS.... Gone but never forgotten... what a week ...Loud in da air 4 ya",
          "_Wright THANK YOU! 'Return of the Mack' is THE jam!",
          " Ur so cute..I`m a fan of Dream A Little Dream, This Kiss and appearances like in Dawson`s Creek  Make more flicks!",
          "Just watched another episode of JONAS. Is it better than Hannah Montana? Very much true!",
          " He was creepy for me at first, but I did really grow to like him. I cried like a baby when he and Tosh died.",
          "i just watched Marley & Me...i cried so hard!",
          "_merchant I agree, but teenage daughter will be spending my money on the movie of their concert this week.",
          "Is watching acoustic performances! & In the mood for a good 'FRIENDS' episode! I miss that show",
          " tell me what you think of Pride Prejudice and Zombies . . . if you`re not all hyped up on sugar",
          " He is the truth! But what about Maxwell? You can`t forget the future father of my children!",
          "starting the video editing of the first spanking movie we did with Mina ... it will be added to the next update",
          "Terminator Salvation... by myself.",
          "Download movie  'A Good Day to Be Black &#38 Sexy' http://tinyurl.com/ckmkul cool #movie",
          " lol that was a great movie",
          "Lol..2 people in falcon..and boo one of them being becca",
          " if you take backstreet boya and put them in silk mc hammer pants with sgt peppers/beatles coats and lame music then you have SMAP",
          "  I remember those days. I wasn`t a big fan of Wesley but I really felt for you as a youngster dealing with all that. But you WON!",
          " Does it start tomorrow?  I was going to book Sam on that and forgot",
          " sad about young love coming to an end  They were sooo cute together!",
          "I just cried whilst watching hollyoaks  .. i need a life! lol",
          "Just listened to condre scr and got an invitation to watch their live concert on June 20th in Munich http://bit.ly/DAXA0  #postrock",
          " I can`t belive you only have one episode to go  ****",
          "Is listening to P!nk tunage and trying to teach my cat to dance to it... I think she`s getting it we can be backing dancers by next tour",
          "seeing shane dawson videos",
          "Playin City of Villains, wishin my buddies were playin with me.....",
          "just watched yes man. bahaha. that movie is messed up",
          "Listenin to some old school new found glory. Hedro, gimi a high school band i can down load. Besides home grown....",
          "RIP to officer Edwards. May GOD continue to bless his family. What`s up wit cops killing cops. Seen the same thing happen on 'The WIRE'.",
          " Wasn`**** totally awesome?  Seeing the rebooted crew was so nice!",
          "hey peoples, dont you just hate being grounded haha, im just sat eating an apple and watching death note (some anime)",
          " Hayley Williams is pretty much amazzing",
          "Extremely happy to see my new track 'The Awakening' featured on Indivibe   http://www.indivibe.com/vibe.php?city=1",
          " E.L.O.  wow, brings back so many happy memories.  LOVE this band!..and yes, I know I`m showing my age but I don`t care",
          "Watching Body of Lies...good film",
          "Their songs make me want to cry..",
          " .. Guess ol` Tom has another mission impossible ... some of this is like trying to prove innocence .. I didn`t get hugged",
          "TAKE THAT, TAKE THAT!!!! IN YOUR FACES!!!!!!!!!!!!  Robbie won!",
          "Watching GH. I feel so bad for Carly.  OMG, so **** up.",
          "oh my god!!! i cried so much!!! watch this guys from BGT  http://bit.ly/5t5Xz",
          " ach, probably not... they are labeled as MI-5, which I believe was the name used when they aired on BBC America",
          "Woke up and watched Jon and Kate plus eight. I tried to pretend like they were still a normail family",
          "Aly & AJ new album this summer. YAY!",
          "i wanna b maliks from taking the stage",
          "Oh No!!!! I must be gettin old!!!! My mom use to watch this show....I miss her",
          " : Come to VietNam to make a live Show Miley. there are so much fans love you at Viet Nam",
          " Have You Watched You Belong With Me?   By My Lovely Sister ) Kiddin.",
          " I liked it.  Did you record it yourself?  If so you have a very soothing voice.",
          " u welcome babe, kill the show! Yuuupp!",
          "__O lol but tiz a good song",
          " OI, are you mocking the fact I dont cry at tv things?!  *Feels bad*xxx",
          "watching Army Wives and it always makes me cry",
          "_la ben`s dreams make me so saddddddd  i want them to be togetherrr. i swear if this **** gets me bawlinggg, so help me..",
          "Tracy and Berwick breaks my achy breaky heart  They split ways in the hallways.",
          "Hecks yeah. Jandy timsamlake is too rawesome!",
          "__joy i feel like red lea now",
          " - ummmm. no comment. LOL. I actually have not watched GH in about a week.",
          " I want to see David cook!!",
          "No TV and no internet make Catherine something something?",
          "_Layne  hmm.. what`s ur fav movie?? tv shows??",
          "back from school  daily show was amazing  gonna watch it again later i think xD",
          "_day26 ~ Awwwww have fun with the fam boo boo",
          " (2) in commentary  , I was with her, was sad, very sad",
          "   In effect, your podcast IS the audio version of your book. Isn`****? (plus, it has the added charm of banter  )",
          "I am watching Blood + on veoh episode 19 love the music.wishing i could watch the live action but not old enough",
          "ARCHIE ANDREWS WHAT WERE YOU THINKING?! veronica?",
          " for...the...loss. dumbface  ...him, not u. what u up to on the wknd? i wanna seeeeeee ya!",
          "#musicmonday Epic song. (Y)  ? 'Lights and Sounds' by Yellowcard ~ http://tinyurl.com/db7ppm",
          null
         ],
         "marker": {
          "opacity": 0.5,
          "size": 5
         },
         "mode": "markers+text",
         "name": "2_watched_concert_bgt",
         "text": [
          "",
          "",
          "",
          "",
          "",
          "",
          "",
          "",
          "",
          "",
          "",
          "",
          "",
          "",
          "",
          "",
          "",
          "",
          "",
          "",
          "",
          "",
          "",
          "",
          "",
          "",
          "",
          "",
          "",
          "",
          "",
          "",
          "",
          "",
          "",
          "",
          "",
          "",
          "",
          "",
          "",
          "",
          "",
          "",
          "",
          "",
          "",
          "",
          "",
          "",
          "",
          "",
          "",
          "",
          "",
          "",
          "",
          "",
          "",
          "",
          "",
          "",
          "",
          "",
          "",
          "",
          "",
          "",
          "",
          "",
          "",
          "",
          "",
          "",
          "",
          "",
          "",
          "",
          "",
          "",
          "",
          "",
          "",
          "2_watched_concert_bgt"
         ],
         "textfont": {
          "size": 12
         },
         "type": "scattergl",
         "x": {
          "bdata": "WWoHQU/7BEHkTAhBN4r1QCkSCUFwQ/ZAUDT8QPGj8UBcb+RAArkHQbHb6UD65vRABC8HQXAn70Cv2vhA8zHhQMn3+0Dk1+JADEQAQavY9EC1LgpBIkQGQY5o7kDsCO9AAxL5QMHcBUGKK/JAfioWQeF/FkEw8wJBkkoLQS685UCKlgJBCXb+QN/HAUHyrQZBO6XvQJnB5UDdWfBAHVMDQcy29EBQ3QJBvLLqQFglAUHSg/BANdoDQRcY+0DvMOdA7orvQNVXAkEW6vtADqQKQcOnBkHzxARBXk0GQSAC9EA9vAFBGBTwQJai9kBB+vVAqEHxQLeY6UDbIeZArJrzQA7Y5kDvdQhBbqkGQT17AEGaAwJBlbr3QKkSB0F3dgNBhToCQTC8+EBS3fpAcM7rQAF2FEGXSAVBYYblQLEE7kAdiQFB6QQHQTv35kAth/1A",
          "dtype": "f4"
         },
         "y": {
          "bdata": "jG2SwKcAj8B2mJHASh+6wNm2ksAMJ5XALRGdwLoApsDqlpnARp6cwBP4n8Dnfp/AKGibwJBLssCiF5zAkuacwIxEocDi/qHAvYSZwOS/k8BeqJrAiKyTwL/6qsA5KJ/AUtyYwKlfoMDiap/Av46vwAcyr8B+AYrAMhKkwAcoksBwZp/A9/itwO+TmsAin5LAz9WjwL/Rn8BsGaPAn02ZwC6ylMBuD4rAc1uWwCYYp8CAlanAIeaSwOhqn8Bbx5bAQfWYwMCTjMCttpXAxgKmwOYLnMAjSJXAbE2TwArKlsD1DZvA8YGewBDsosABaJjAC9OTwJ2OlcAD+5jApZGQwLHEkMC1XJDAZ8KQwG/Ck8BkYp3AzHyfwPpwjcCnX4fAYYSjwKarmMBLaZXA9EOowOKDpcCwcZXAdfyZwOhonsBtk5zA8AOdwGZwk8C+PJvA",
          "dtype": "f4"
         }
        },
        {
         "hoverinfo": "text",
         "hovertext": [
          "Bad migrane and need to go to dancing tonight.... Not a good combination",
          "I am craving Burrito Boys - Large halibut, with everything on it, no jalepenos, 1 line hot sauce. Can anybody hook me up?",
          " Wow, I really hope it gets better. Asthma sucks",
          "i feel in love with pizza girl... now i eat pizza everyday",
          " still not 100%    im sick of being sick!",
          "noooooooo...another headache...hopefully not a migraine",
          "I`m extremely hungry.... and the only thing I have in my house is Soup...  I don`t like soup... *pouts*",
          " I`m not either. We should have went out *snicker* Although I am enjoying listening to RR and my beer",
          " Oh! I ate pizza last night too!  I stupidly feel closer to you somehow!",
          " Ugh, did you just say your friend might have swine flu? OMG, why?",
          "was so excited to eat the wartermelon i bought the other day and it was terrible and not sweet",
          "at work getting a quick bite to eat before having to kill my wrist self addressing 500 envolopes",
          "Take antibacterial to school to clean your hands when you cant go the loos",
          "Oh, **** me. I`ve just returned from the Supermarket Of Doom to find that I have nothing to drink here.",
          "Cramps . . .",
          "having the flu, not the swinish-one, but the flu.",
          " so`s the smell of cigarettes and alcohol... at least *i * like it.",
          "I want cookies for breakfast! Luckily I`m an adult and can do that!",
          "Mexican coca cola in a bottle. New favorite thing.  No high fructose corn syrup....  sugar is so awesomely old school.",
          " - Still a pity it comes with no lamb though",
          "If recent experience is anything to go by, I fear I might be going off Indian food. This is not good, people. Not good",
          "feels really sick.",
          " I`ve got cups but you gotta come get them",
          "_The_Moon Hiya hun! It`s just not my day. Dentist appointment (ouch!),notebook being a ****. Feeling sick  How`s you?",
          "@_Anix_ I bought cheesecake ice cream last week, thinking it was good, and it sucked so much.   I`m taking yours.",
          "thanks timmy.  turns out he has strep and a high fever.",
          " between the Garlic Pills, the Spider bite between your toe (LOL-Classic) and you always being hungry. U are killing me 2 funny",
          " what are you? flavor of the day?",
          " Hey, Candis.",
          " someone`s a sweet tooth  i was dying for somethin sweet so i`ve attacked the chock coated tiny teddies all i could find lol",
          "owww, back pain  hm, walmart or no? i could get cupcakes~",
          " Not so much a substitute as a variation. Ate too much, too. Oof",
          "would wish the severe migrains would stop!!! doc`s prescriptions arent working",
          " I want chocolate!",
          "The poor Pirate had out his last wisdom tooth and is looking really peaky.",
          " Gosh I`ve a stinky old headache. Maybe I should have lunchfast",
          "ok so this eye doctor guy is taking forever and i`m sitting in a cold room by myself...what? A jerk!",
          "http://yfrog.com/0xoxij Fry bread is good but they only gave me a little pinch of lettuce  ha ha",
          " not here for long hun, head hurts",
          "Finally got to wash my hair! I feel much better now, but I gotta dry it ... Effffffort.",
          "Franco made breakfast for Mom. Here he`s trying to cut the strawberries (only safe knife  #fb http://twitpic.com/4wsmw",
          " salt and vinegar, cheese and onion make your breathe smell lol  ****",
          "http://twitpic.com/4wp8s - My ear hurts, and THIS is my medicine. GUM",
          "All of a sudden I`m craving broccoli and cheese soup really bad... my mouth is watering envisioning a bread bowl in my head...",
          "  youre diabetic?   so is my dad.  & i might be too, not sure.  are you still allowed to eat sugar throughout the day?",
          "Feeling awful, new medication is making me nauseous",
          "i think the food i ate made me sick.. i no feel so good",
          " that`s a very cute picture ... but you don`t get fat from licking BBQs ... he must have found some chops on someone else`s ...",
          "Weetabix and Choco milk  Yum!",
          "backe backe... MUFFINS!!!",
          "http://twitpic.com/665jw The racoons ate our bread!",
          " hot cuppa coffee made with milk & fortified with Monin`s Irish Coffee syrup! Bliss!",
          "Good morning. haha I just read that the swine flu probably not come`s from pigs at all, but from people! Poor pigs who got all the blame!",
          " i want chinese food really baaad.",
          "Don`t you hate it when you`re left with one slice of bread left in the bag? Half sandwich.",
          "i have problems wih pizza..ii love it too much..i`m so addicted to pizza  and Dot Dot Curve. >",
          "sick to my stomach.. and i have a headache.. i wish someone could come rub my temples.",
          " you are lame  go make me breakfast!!",
          "Really sick",
          "making german apple slice  nom nom nom",
          "My tummy hurts",
          null
         ],
         "marker": {
          "opacity": 0.5,
          "size": 5
         },
         "mode": "markers+text",
         "name": "3_sick_nauseous_craving",
         "text": [
          "",
          "",
          "",
          "",
          "",
          "",
          "",
          "",
          "",
          "",
          "",
          "",
          "",
          "",
          "",
          "",
          "",
          "",
          "",
          "",
          "",
          "",
          "",
          "",
          "",
          "",
          "",
          "",
          "",
          "",
          "",
          "",
          "",
          "",
          "",
          "",
          "",
          "",
          "",
          "",
          "",
          "",
          "",
          "",
          "",
          "",
          "",
          "",
          "",
          "",
          "",
          "",
          "",
          "",
          "",
          "",
          "",
          "",
          "",
          "",
          "",
          "3_sick_nauseous_craving"
         ],
         "textfont": {
          "size": 12
         },
         "type": "scattergl",
         "x": {
          "bdata": "CzEKQRYfFUFYPAJBlV4WQenzDUFooQpBzhEUQVKWEUH7+BRBZOYOQalOE0HmggdBBUUHQRdEEUH54QpBGGcOQQ8bDUHQBxRBfNARQZbREUHXIxRBc/AMQav0EEEcXAdBRyoTQdt0DUGxlhFBXAYRQQdBDkEBBBFBNbkIQTAJFEG4ngpBPI8TQeVtCUFokgxBnqYEQXvpFUHg5wpBBCMAQfFmF0ExzwxBl04IQRapE0FF3xJBqvQMQbALEEEa5BZBs9EUQSphFUHKORVB9PwPQdDiDkHw6BRBjRIVQSGnFUHx9gpBkl0UQTJGDUEJ8xZBjVYJQUB4D0E=",
          "dtype": "f4"
         },
         "y": {
          "bdata": "6CT8wPIm68CjifLA4sfpwDrR/cDKUP3ApPvmwMT42MBsHe/ApCoAwS+v6sA5sfXA83P0wMe63sAzLfrA1sL/wFPs8MB66eXAEEXhwKbv6sABs+7AAVP8wIMW3sDeXfvAGkvqwELB/sDyqe/A1+jiwEel5cAwSu3AZ/ntwGSX6cBgEfzADxHlwI2f98DcBPXA8UP/wCnr6MAiE/3AFF/0wA6h48ChIvLAFqz8wPOK8MCj7OTACBb6wJmb98CEjeDAj2flwIqC58DXVOrAdF3ewANZAMHdwunA1lTpwELf7MDUp/rAEGXowPPO/cAAzubAI9HzwJOu78A=",
          "dtype": "f4"
         }
        },
        {
         "hoverinfo": "text",
         "hovertext": [
          " Thank you! You should know that I am both happy and sad (all at the same time) to know that. You`ve got 'The Right Stuff'",
          " yeah, when you start reaching your early-mid-20s",
          " oh you are too kind",
          " i wish i wasn`t all  bummed but i kinda am",
          "_me Thanks! Kinda bittersweet though",
          " every day of my life lately.    i feel ya girl <3",
          " Sorry to hear about your dude probs, what is it that`s too much?",
          " I was never a good stereotypical teen",
          " I am sorry that you are feeling that way.",
          "now, in a weird mood  muahaz",
          " i think u have more than enough friends now, including me lol",
          " the honesty`s to much...........  Sorry couldn`t resist;)",
          "My Life Would Suck Without You - Kelly Clarkson",
          " you`re the absoute best",
          " yeh me 2",
          "  im really sorry i know wallah how u feel this life is shittttttttt",
          "You`re never alone Just when you think no one cares, you realize that there` always one person you cares for you",
          "I hate my life",
          "I`m going into a spiritual stagnentation, its exploding my ego!. I now realise, i`m not all that great. and I`m ok with that.",
          "I THINK EVERYONE HATES ME ON HERE   lol",
          "looking forward to body works today",
          "Look, everyone! I`m a bad boy! I`m ranked higher than Meghan McCain!  http://tinyurl.com/oj76mz",
          "Undervote is just going on  I`m all overalled up",
          " hahaha n I`m a do the same for u",
          "Loves random acts of kindness and laughter",
          " i make them good girls go bad",
          "Is miserable  i feel like im gona cry  sux!",
          " yep - three things: a good haircut, the ability to listen and the value of not taking yourself too seriously",
          " me too!",
          "Hates untalented **** being mean to my talented friends",
          " i am so sorry",
          " gawd. People still remember the preggers comment. Hate you!",
          "Not happy",
          " i dont really trust the judgements and vouches of _xo   jk. i`ll think about becoming a friend of yours",
          " You seem nice, you`re generous and you know your stuff",
          "the best things in life are free  x",
          "just thought about how unfair 3 ppl have been 2 me n got depressed again  HATERS!!!",
          " me tooo",
          null
         ],
         "marker": {
          "opacity": 0.5,
          "size": 5
         },
         "mode": "markers+text",
         "name": "4_life_depressed_happy",
         "text": [
          "",
          "",
          "",
          "",
          "",
          "",
          "",
          "",
          "",
          "",
          "",
          "",
          "",
          "",
          "",
          "",
          "",
          "",
          "",
          "",
          "",
          "",
          "",
          "",
          "",
          "",
          "",
          "",
          "",
          "",
          "",
          "",
          "",
          "",
          "",
          "",
          "",
          "",
          "4_life_depressed_happy"
         ],
         "textfont": {
          "size": 12
         },
         "type": "scattergl",
         "x": {
          "bdata": "/dgYQXZND0HjyBNBtSsUQRTYDEGI0g5BTrUHQXEDEEFKbBFBvdURQbxADkGXng1B/Y8PQYVlE0F3oxVBOdcTQWYxD0H8axJBsLoPQZG6EEFFswpBby4OQVV2DUFPcgxBXg8aQd3YEEFZlRNBUPYOQVqpFEEHkBBB8yURQaeTEUHBJhVBAHIPQSLaE0F/8hlBojkTQa7oFEFaXRFB",
          "dtype": "f4"
         },
         "y": {
          "bdata": "FfqPwFf0tcCxG4XAzlZ8wEI6WcD8nrXA/lVTwIPkUMBSaILAV4CPwE8nYcDiwljAaqR7wF3WjcBKaW3AQBZ9wFlcucAznm/A2au+wO3dacAm8MnA6KRRwGECxcDBUGnAHQqRwCg1UsCvEH3A+Y5RwHPMfMDir0/AphCDwBtxbMCs4oLABqhSwNAficC9dI7AxMx1wLkhfMBj9ITA",
          "dtype": "f4"
         }
        },
        {
         "hoverinfo": "text",
         "hovertext": [
          " congrats! Photo of dre?",
          " that`s black market material right there, my friend!",
          "today got her POP! t-shirt & lovess ittt  haha x",
          "i wear a lot of white  http://tinyurl.com/dlbltg",
          " Good idea! I`ll have to remove all the old receipts, tissue paper and other nonsense before I can take a pic",
          " I do my humble best  Going on a works paintball day soon so that should fuel a few strips, no doubt",
          " why would they take a photo with stuffed animals?! that`s pretty funny",
          "Just found mj mouse flats at DJs. Of course there are none left in my size",
          "And- hand made by Dan & Jenn -sock blockers ... made from exotic woods ... one of which is called 'purple heart'",
          "Up and washed  I`m clothing myself as I type xD WOOOO",
          "Did anyone go photographing today? I managed to get a few macro shots of some flowers that were blooming",
          "_66 I haven`t had slip-ons in years, since my checkered days. Matter of fact I only have my torn up all black classics.",
          " i always have those for my Champions League parties  Tis awesome",
          "feels sorry every time I`m printing out, I use like 200 new papers",
          " Well tell me what fashion tips you need and I`m your woman  hehehe",
          " I need botox work on the lips if I`m going to change my name to Angelina Jolie, but it`s a thought! Sad though about the racism",
          "LOL! Made a huge mess of my school shirt, was using charcoal sticks in 2D art",
          " Awwww   i`ve got some photos of cute bunnies",
          " I don`t even look at their fabric unless I need polar fleece.   It`s worth the extra $ to go to Needle and Thread.",
          "got an awesome hair cut todayyyy  it looks so hottt haha doing homework",
          "This morning I rode behind a guy with a bird cage containing a plastic Tyrannosaurus rex attached to his bicycle. I couldn`t get a photo.",
          " I could, but that would require today not to be a duvet day. I imagine that my outfit for the Wendyhouse will be photo worthy",
          "got a rad new t-shirt from my aunt. Made from some cool shiny shiny pink material.",
          "Discovered that Numpy arrays can hold values of any type.  Useful for manipulating arrays of numbers with uncertainties.",
          " you should so host the next logies, i only laughed at your bit really",
          "this aztec mask is harder then i thought! but u kno what, i think i did a pretty good job for not being an artist",
          "Flickr pics Chester Zoo: danwtmoon posted a photo:   'WELCOME' to Chester Zoo by Jockey  http://tinyurl.com/cq7qw8",
          "Is bummed out...i don`t have even one testimonial on Flickr.",
          null
         ],
         "marker": {
          "opacity": 0.5,
          "size": 5
         },
         "mode": "markers+text",
         "name": "5_zoo_outfit_tyrannosaurus",
         "text": [
          "",
          "",
          "",
          "",
          "",
          "",
          "",
          "",
          "",
          "",
          "",
          "",
          "",
          "",
          "",
          "",
          "",
          "",
          "",
          "",
          "",
          "",
          "",
          "",
          "",
          "",
          "",
          "",
          "5_zoo_outfit_tyrannosaurus"
         ],
         "textfont": {
          "size": 12
         },
         "type": "scattergl",
         "x": {
          "bdata": "LkzDQJJ8yUDGh9VAPq3PQNZlvUADWMNAXOzAQKa+zkCEscxAGGPUQOC0wEA5h81AyT/PQKzBuUDWbdZAvmrGQK/4x0CdkcFA8/LNQEYg00B6fb9AEeW9QEmOy0DiPMZAzCXEQAz2xkDb5L9A+yDEQIIEyEA=",
          "dtype": "f4"
         },
         "y": {
          "bdata": "5VNOwGnzgsBFv3XARBZ/wDKDWcBSHnLAQ9pPwO9ogcABG3/AdQN7wM/8W8A1Mn/A3/iAwNcwYsA0sH/AH3xxwO9Id8CzX1HArrV/wG3uYsC6m1TArR5bwOdbgcAosYXAwqBQwA5rdMBEW1LAiCZdwHchbcA=",
          "dtype": "f4"
         }
        },
        {
         "hoverinfo": "text",
         "hovertext": [
          "Happy mothers day mom  ?",
          " ha. nothing any man does is right on mothers day except for taking kids off mum`s hands for whole day",
          "Happy muthath`s day to all moms!!! I salute you!",
          "I love my Maitu. N she loves me. Happy mothers day mama!",
          "On the phone to mum  http://tinyurl.com/otdn9u",
          "And ... Happy Mother`s Day to all Moms   You sure are the ? heart of mankind.",
          "is going to bed soon. happy mothers day to all the mothers  <333 ryan less than 3 weeks :]",
          "i want to go to singapore but my mother seems not",
          "I love my mom! Happy Mother`s Day, mommies",
          "I need a present for my mom.  Could anybody help me ?!",
          "happy mommah`s day to your moms  http://plurk.com/p/stqya",
          " no other reason? I wonder if she loves you",
          "Im sending this to my mother!  http://bit.ly/1aa1RF",
          " LOL yeah ima mama  thanks. happy mama`s day and lakers day! i love it!",
          "Why do you think people say, 'save the drama fo yo mama?' I`m sure even yo mama wouldn`t wanna listen to ur drama. Ode to mother`s day!",
          "Happy Mothers Day!!!",
          "My 1st Mothers Day Tomorrow",
          " Happy Mothers Day",
          "Be sure to let the moms you know how fabulous you think they are!!   Almost Mother`s Day.",
          "is relaxing after working on Mothers Day.  Oh well. A good day had.  Hope you are all well",
          "Bout to hit the sack...got **** to do tomorrow. Happy mothers day MOM!",
          "Ready for tomorrow. My mommy will get her gift for Mother`s Day. Hope she LOVES it!",
          " well, not all. just stay away from those kinds and surround yourself with those who don`t. happy mother`s day to ur mom, treiz!",
          "is fixin to clean the house for my mom for mother`s day",
          "Happy mothers day mumm  xoxo",
          "working on mothers day slideshow, cake, card, and balloons  she deserves the best!",
          null
         ],
         "marker": {
          "opacity": 0.5,
          "size": 5
         },
         "mode": "markers+text",
         "name": "6_mothers_mother_mama",
         "text": [
          "",
          "",
          "",
          "",
          "",
          "",
          "",
          "",
          "",
          "",
          "",
          "",
          "",
          "",
          "",
          "",
          "",
          "",
          "",
          "",
          "",
          "",
          "",
          "",
          "",
          "",
          "6_mothers_mother_mama"
         ],
         "textfont": {
          "size": 12
         },
         "type": "scattergl",
         "x": {
          "bdata": "X6gmQVhkJ0EUXyZBw6glQU0wt0BZ8iZB1UsiQeA+J0GsJSZBJQwmQT4XJ0FoDR1Bx+reQB1nJkEC1iZBH30mQS4vJkHe8SZB0RknQfm7BUHNNiVBpOUkQcAwJ0EO4yZBfYgmQWdTJkEcuB9B",
          "dtype": "f4"
         },
         "y": {
          "bdata": "k3SkwATeosCj9aPAmOajwMnrEcBSoaPAIYmpwLAOpcBHj6PA8bqlwDEWo8DmPsnAf9cewIBrosAM26LAaPCkwP+RpcCLJ6TAybylwGLF2cDjZ6fAxEWowARVpMD8fqTA36qiwN4ppcCKWqHA",
          "dtype": "f4"
         }
        },
        {
         "hoverinfo": "text",
         "hovertext": [
          " good to know   thanks",
          " thats so cool",
          " thanks for following",
          " Its WoW! effect  Thanks for the update.",
          " haha no problem, it`s fun isn`****",
          " Welcome!",
          " You should check yourz Rayne.",
          " awesome",
          " Thanks Ennio",
          "oh yes! Level 40",
          " lucky! that`s awesome",
          " - Try this one  ",
          " - thanks for the reply. Of course it doesn`t really explain it  I googled it but found no explanation.",
          " Thanks for the hint.  http://tinyurl.com/chtx7e.",
          " Well, good luck then.",
          " You`re welcome. There!  I added you already!",
          " yup!  Now I can join in on the nin access fun!",
          " woot!",
          " --Nothing",
          " Cool. That`d be fantastic!",
          null
         ],
         "marker": {
          "opacity": 0.5,
          "size": 5
         },
         "mode": "markers+text",
         "name": "7_welcome_thanks_following",
         "text": [
          "",
          "",
          "",
          "",
          "",
          "",
          "",
          "",
          "",
          "",
          "",
          "",
          "",
          "",
          "",
          "",
          "",
          "",
          "",
          "",
          "7_welcome_thanks_following"
         ],
         "textfont": {
          "size": 12
         },
         "type": "scattergl",
         "x": {
          "bdata": "mB7rQO059EANV+hAPxLjQIhY9UA+YeZA5HfgQMMo9EBjt+ZAaGztQNAa90C+0+lAmvHjQMV76EDjv+dAPlznQCbQ20AU6PRAEeL7QAtq9EA61utA",
          "dtype": "f4"
         },
         "y": {
          "bdata": "3sFLwFxQMMC9PkXAzgg6wAHqUcATHELA+b9GwN49N8B4LU3AwFxDwDjYOcDD8EfAdyU4wKTuQcB/P17AJRVFwE09NsCocD3An9JWwBGvN8ARKkPA",
          "dtype": "f4"
         }
        }
       ],
       "layout": {
        "annotations": [
         {
          "showarrow": false,
          "text": "D1",
          "x": 4.35850191116333,
          "y": -5.164715115725994,
          "yshift": 10
         },
         {
          "showarrow": false,
          "text": "D2",
          "x": 8.194899797439575,
          "xshift": 10,
          "y": -0.7806298583745956
         }
        ],
        "height": 750,
        "shapes": [
         {
          "line": {
           "color": "#CFD8DC",
           "width": 2
          },
          "type": "line",
          "x0": 8.194899797439575,
          "x1": 8.194899797439575,
          "y0": -9.548800373077393,
          "y1": -0.7806298583745956
         },
         {
          "line": {
           "color": "#9E9E9E",
           "width": 2
          },
          "type": "line",
          "x0": 4.35850191116333,
          "x1": 12.03129768371582,
          "y0": -5.164715115725994,
          "y1": -5.164715115725994
         }
        ],
        "template": {
         "data": {
          "bar": [
           {
            "error_x": {
             "color": "rgb(36,36,36)"
            },
            "error_y": {
             "color": "rgb(36,36,36)"
            },
            "marker": {
             "line": {
              "color": "white",
              "width": 0.5
             },
             "pattern": {
              "fillmode": "overlay",
              "size": 10,
              "solidity": 0.2
             }
            },
            "type": "bar"
           }
          ],
          "barpolar": [
           {
            "marker": {
             "line": {
              "color": "white",
              "width": 0.5
             },
             "pattern": {
              "fillmode": "overlay",
              "size": 10,
              "solidity": 0.2
             }
            },
            "type": "barpolar"
           }
          ],
          "carpet": [
           {
            "aaxis": {
             "endlinecolor": "rgb(36,36,36)",
             "gridcolor": "white",
             "linecolor": "white",
             "minorgridcolor": "white",
             "startlinecolor": "rgb(36,36,36)"
            },
            "baxis": {
             "endlinecolor": "rgb(36,36,36)",
             "gridcolor": "white",
             "linecolor": "white",
             "minorgridcolor": "white",
             "startlinecolor": "rgb(36,36,36)"
            },
            "type": "carpet"
           }
          ],
          "choropleth": [
           {
            "colorbar": {
             "outlinewidth": 1,
             "tickcolor": "rgb(36,36,36)",
             "ticks": "outside"
            },
            "type": "choropleth"
           }
          ],
          "contour": [
           {
            "colorbar": {
             "outlinewidth": 1,
             "tickcolor": "rgb(36,36,36)",
             "ticks": "outside"
            },
            "colorscale": [
             [
              0,
              "#440154"
             ],
             [
              0.1111111111111111,
              "#482878"
             ],
             [
              0.2222222222222222,
              "#3e4989"
             ],
             [
              0.3333333333333333,
              "#31688e"
             ],
             [
              0.4444444444444444,
              "#26828e"
             ],
             [
              0.5555555555555556,
              "#1f9e89"
             ],
             [
              0.6666666666666666,
              "#35b779"
             ],
             [
              0.7777777777777778,
              "#6ece58"
             ],
             [
              0.8888888888888888,
              "#b5de2b"
             ],
             [
              1,
              "#fde725"
             ]
            ],
            "type": "contour"
           }
          ],
          "contourcarpet": [
           {
            "colorbar": {
             "outlinewidth": 1,
             "tickcolor": "rgb(36,36,36)",
             "ticks": "outside"
            },
            "type": "contourcarpet"
           }
          ],
          "heatmap": [
           {
            "colorbar": {
             "outlinewidth": 1,
             "tickcolor": "rgb(36,36,36)",
             "ticks": "outside"
            },
            "colorscale": [
             [
              0,
              "#440154"
             ],
             [
              0.1111111111111111,
              "#482878"
             ],
             [
              0.2222222222222222,
              "#3e4989"
             ],
             [
              0.3333333333333333,
              "#31688e"
             ],
             [
              0.4444444444444444,
              "#26828e"
             ],
             [
              0.5555555555555556,
              "#1f9e89"
             ],
             [
              0.6666666666666666,
              "#35b779"
             ],
             [
              0.7777777777777778,
              "#6ece58"
             ],
             [
              0.8888888888888888,
              "#b5de2b"
             ],
             [
              1,
              "#fde725"
             ]
            ],
            "type": "heatmap"
           }
          ],
          "histogram": [
           {
            "marker": {
             "line": {
              "color": "white",
              "width": 0.6
             }
            },
            "type": "histogram"
           }
          ],
          "histogram2d": [
           {
            "colorbar": {
             "outlinewidth": 1,
             "tickcolor": "rgb(36,36,36)",
             "ticks": "outside"
            },
            "colorscale": [
             [
              0,
              "#440154"
             ],
             [
              0.1111111111111111,
              "#482878"
             ],
             [
              0.2222222222222222,
              "#3e4989"
             ],
             [
              0.3333333333333333,
              "#31688e"
             ],
             [
              0.4444444444444444,
              "#26828e"
             ],
             [
              0.5555555555555556,
              "#1f9e89"
             ],
             [
              0.6666666666666666,
              "#35b779"
             ],
             [
              0.7777777777777778,
              "#6ece58"
             ],
             [
              0.8888888888888888,
              "#b5de2b"
             ],
             [
              1,
              "#fde725"
             ]
            ],
            "type": "histogram2d"
           }
          ],
          "histogram2dcontour": [
           {
            "colorbar": {
             "outlinewidth": 1,
             "tickcolor": "rgb(36,36,36)",
             "ticks": "outside"
            },
            "colorscale": [
             [
              0,
              "#440154"
             ],
             [
              0.1111111111111111,
              "#482878"
             ],
             [
              0.2222222222222222,
              "#3e4989"
             ],
             [
              0.3333333333333333,
              "#31688e"
             ],
             [
              0.4444444444444444,
              "#26828e"
             ],
             [
              0.5555555555555556,
              "#1f9e89"
             ],
             [
              0.6666666666666666,
              "#35b779"
             ],
             [
              0.7777777777777778,
              "#6ece58"
             ],
             [
              0.8888888888888888,
              "#b5de2b"
             ],
             [
              1,
              "#fde725"
             ]
            ],
            "type": "histogram2dcontour"
           }
          ],
          "mesh3d": [
           {
            "colorbar": {
             "outlinewidth": 1,
             "tickcolor": "rgb(36,36,36)",
             "ticks": "outside"
            },
            "type": "mesh3d"
           }
          ],
          "parcoords": [
           {
            "line": {
             "colorbar": {
              "outlinewidth": 1,
              "tickcolor": "rgb(36,36,36)",
              "ticks": "outside"
             }
            },
            "type": "parcoords"
           }
          ],
          "pie": [
           {
            "automargin": true,
            "type": "pie"
           }
          ],
          "scatter": [
           {
            "fillpattern": {
             "fillmode": "overlay",
             "size": 10,
             "solidity": 0.2
            },
            "type": "scatter"
           }
          ],
          "scatter3d": [
           {
            "line": {
             "colorbar": {
              "outlinewidth": 1,
              "tickcolor": "rgb(36,36,36)",
              "ticks": "outside"
             }
            },
            "marker": {
             "colorbar": {
              "outlinewidth": 1,
              "tickcolor": "rgb(36,36,36)",
              "ticks": "outside"
             }
            },
            "type": "scatter3d"
           }
          ],
          "scattercarpet": [
           {
            "marker": {
             "colorbar": {
              "outlinewidth": 1,
              "tickcolor": "rgb(36,36,36)",
              "ticks": "outside"
             }
            },
            "type": "scattercarpet"
           }
          ],
          "scattergeo": [
           {
            "marker": {
             "colorbar": {
              "outlinewidth": 1,
              "tickcolor": "rgb(36,36,36)",
              "ticks": "outside"
             }
            },
            "type": "scattergeo"
           }
          ],
          "scattergl": [
           {
            "marker": {
             "colorbar": {
              "outlinewidth": 1,
              "tickcolor": "rgb(36,36,36)",
              "ticks": "outside"
             }
            },
            "type": "scattergl"
           }
          ],
          "scattermap": [
           {
            "marker": {
             "colorbar": {
              "outlinewidth": 1,
              "tickcolor": "rgb(36,36,36)",
              "ticks": "outside"
             }
            },
            "type": "scattermap"
           }
          ],
          "scattermapbox": [
           {
            "marker": {
             "colorbar": {
              "outlinewidth": 1,
              "tickcolor": "rgb(36,36,36)",
              "ticks": "outside"
             }
            },
            "type": "scattermapbox"
           }
          ],
          "scatterpolar": [
           {
            "marker": {
             "colorbar": {
              "outlinewidth": 1,
              "tickcolor": "rgb(36,36,36)",
              "ticks": "outside"
             }
            },
            "type": "scatterpolar"
           }
          ],
          "scatterpolargl": [
           {
            "marker": {
             "colorbar": {
              "outlinewidth": 1,
              "tickcolor": "rgb(36,36,36)",
              "ticks": "outside"
             }
            },
            "type": "scatterpolargl"
           }
          ],
          "scatterternary": [
           {
            "marker": {
             "colorbar": {
              "outlinewidth": 1,
              "tickcolor": "rgb(36,36,36)",
              "ticks": "outside"
             }
            },
            "type": "scatterternary"
           }
          ],
          "surface": [
           {
            "colorbar": {
             "outlinewidth": 1,
             "tickcolor": "rgb(36,36,36)",
             "ticks": "outside"
            },
            "colorscale": [
             [
              0,
              "#440154"
             ],
             [
              0.1111111111111111,
              "#482878"
             ],
             [
              0.2222222222222222,
              "#3e4989"
             ],
             [
              0.3333333333333333,
              "#31688e"
             ],
             [
              0.4444444444444444,
              "#26828e"
             ],
             [
              0.5555555555555556,
              "#1f9e89"
             ],
             [
              0.6666666666666666,
              "#35b779"
             ],
             [
              0.7777777777777778,
              "#6ece58"
             ],
             [
              0.8888888888888888,
              "#b5de2b"
             ],
             [
              1,
              "#fde725"
             ]
            ],
            "type": "surface"
           }
          ],
          "table": [
           {
            "cells": {
             "fill": {
              "color": "rgb(237,237,237)"
             },
             "line": {
              "color": "white"
             }
            },
            "header": {
             "fill": {
              "color": "rgb(217,217,217)"
             },
             "line": {
              "color": "white"
             }
            },
            "type": "table"
           }
          ]
         },
         "layout": {
          "annotationdefaults": {
           "arrowhead": 0,
           "arrowwidth": 1
          },
          "autotypenumbers": "strict",
          "coloraxis": {
           "colorbar": {
            "outlinewidth": 1,
            "tickcolor": "rgb(36,36,36)",
            "ticks": "outside"
           }
          },
          "colorscale": {
           "diverging": [
            [
             0,
             "rgb(103,0,31)"
            ],
            [
             0.1,
             "rgb(178,24,43)"
            ],
            [
             0.2,
             "rgb(214,96,77)"
            ],
            [
             0.3,
             "rgb(244,165,130)"
            ],
            [
             0.4,
             "rgb(253,219,199)"
            ],
            [
             0.5,
             "rgb(247,247,247)"
            ],
            [
             0.6,
             "rgb(209,229,240)"
            ],
            [
             0.7,
             "rgb(146,197,222)"
            ],
            [
             0.8,
             "rgb(67,147,195)"
            ],
            [
             0.9,
             "rgb(33,102,172)"
            ],
            [
             1,
             "rgb(5,48,97)"
            ]
           ],
           "sequential": [
            [
             0,
             "#440154"
            ],
            [
             0.1111111111111111,
             "#482878"
            ],
            [
             0.2222222222222222,
             "#3e4989"
            ],
            [
             0.3333333333333333,
             "#31688e"
            ],
            [
             0.4444444444444444,
             "#26828e"
            ],
            [
             0.5555555555555556,
             "#1f9e89"
            ],
            [
             0.6666666666666666,
             "#35b779"
            ],
            [
             0.7777777777777778,
             "#6ece58"
            ],
            [
             0.8888888888888888,
             "#b5de2b"
            ],
            [
             1,
             "#fde725"
            ]
           ],
           "sequentialminus": [
            [
             0,
             "#440154"
            ],
            [
             0.1111111111111111,
             "#482878"
            ],
            [
             0.2222222222222222,
             "#3e4989"
            ],
            [
             0.3333333333333333,
             "#31688e"
            ],
            [
             0.4444444444444444,
             "#26828e"
            ],
            [
             0.5555555555555556,
             "#1f9e89"
            ],
            [
             0.6666666666666666,
             "#35b779"
            ],
            [
             0.7777777777777778,
             "#6ece58"
            ],
            [
             0.8888888888888888,
             "#b5de2b"
            ],
            [
             1,
             "#fde725"
            ]
           ]
          },
          "colorway": [
           "#1F77B4",
           "#FF7F0E",
           "#2CA02C",
           "#D62728",
           "#9467BD",
           "#8C564B",
           "#E377C2",
           "#7F7F7F",
           "#BCBD22",
           "#17BECF"
          ],
          "font": {
           "color": "rgb(36,36,36)"
          },
          "geo": {
           "bgcolor": "white",
           "lakecolor": "white",
           "landcolor": "white",
           "showlakes": true,
           "showland": true,
           "subunitcolor": "white"
          },
          "hoverlabel": {
           "align": "left"
          },
          "hovermode": "closest",
          "mapbox": {
           "style": "light"
          },
          "paper_bgcolor": "white",
          "plot_bgcolor": "white",
          "polar": {
           "angularaxis": {
            "gridcolor": "rgb(232,232,232)",
            "linecolor": "rgb(36,36,36)",
            "showgrid": false,
            "showline": true,
            "ticks": "outside"
           },
           "bgcolor": "white",
           "radialaxis": {
            "gridcolor": "rgb(232,232,232)",
            "linecolor": "rgb(36,36,36)",
            "showgrid": false,
            "showline": true,
            "ticks": "outside"
           }
          },
          "scene": {
           "xaxis": {
            "backgroundcolor": "white",
            "gridcolor": "rgb(232,232,232)",
            "gridwidth": 2,
            "linecolor": "rgb(36,36,36)",
            "showbackground": true,
            "showgrid": false,
            "showline": true,
            "ticks": "outside",
            "zeroline": false,
            "zerolinecolor": "rgb(36,36,36)"
           },
           "yaxis": {
            "backgroundcolor": "white",
            "gridcolor": "rgb(232,232,232)",
            "gridwidth": 2,
            "linecolor": "rgb(36,36,36)",
            "showbackground": true,
            "showgrid": false,
            "showline": true,
            "ticks": "outside",
            "zeroline": false,
            "zerolinecolor": "rgb(36,36,36)"
           },
           "zaxis": {
            "backgroundcolor": "white",
            "gridcolor": "rgb(232,232,232)",
            "gridwidth": 2,
            "linecolor": "rgb(36,36,36)",
            "showbackground": true,
            "showgrid": false,
            "showline": true,
            "ticks": "outside",
            "zeroline": false,
            "zerolinecolor": "rgb(36,36,36)"
           }
          },
          "shapedefaults": {
           "fillcolor": "black",
           "line": {
            "width": 0
           },
           "opacity": 0.3
          },
          "ternary": {
           "aaxis": {
            "gridcolor": "rgb(232,232,232)",
            "linecolor": "rgb(36,36,36)",
            "showgrid": false,
            "showline": true,
            "ticks": "outside"
           },
           "baxis": {
            "gridcolor": "rgb(232,232,232)",
            "linecolor": "rgb(36,36,36)",
            "showgrid": false,
            "showline": true,
            "ticks": "outside"
           },
           "bgcolor": "white",
           "caxis": {
            "gridcolor": "rgb(232,232,232)",
            "linecolor": "rgb(36,36,36)",
            "showgrid": false,
            "showline": true,
            "ticks": "outside"
           }
          },
          "title": {
           "x": 0.05
          },
          "xaxis": {
           "automargin": true,
           "gridcolor": "rgb(232,232,232)",
           "linecolor": "rgb(36,36,36)",
           "showgrid": false,
           "showline": true,
           "ticks": "outside",
           "title": {
            "standoff": 15
           },
           "zeroline": false,
           "zerolinecolor": "rgb(36,36,36)"
          },
          "yaxis": {
           "automargin": true,
           "gridcolor": "rgb(232,232,232)",
           "linecolor": "rgb(36,36,36)",
           "showgrid": false,
           "showline": true,
           "ticks": "outside",
           "title": {
            "standoff": 15
           },
           "zeroline": false,
           "zerolinecolor": "rgb(36,36,36)"
          }
         }
        },
        "title": {
         "font": {
          "color": "Black",
          "size": 22
         },
         "text": "<b>Documents and Topics</b>",
         "x": 0.5,
         "xanchor": "center",
         "yanchor": "top"
        },
        "width": 1200,
        "xaxis": {
         "visible": false
        },
        "yaxis": {
         "visible": false
        }
       }
      }
     },
     "metadata": {},
     "output_type": "display_data"
    }
   ],
   "source": [
    "# Train BERTopic\n",
    "# topic_model = BERTopic().fit(docs, embeddings)\n",
    "\n",
    "# Run the visualization with the original embeddings\n",
    "topic_model.visualize_documents(docs, embeddings=embeddings)"
   ]
  },
  {
   "cell_type": "code",
   "execution_count": 66,
   "id": "161ee6c6",
   "metadata": {},
   "outputs": [
    {
     "data": {
      "application/vnd.plotly.v1+json": {
       "config": {
        "plotlyServerURL": "https://plot.ly"
       },
       "data": [
        {
         "marker": {
          "color": "#D55E00"
         },
         "orientation": "h",
         "type": "bar",
         "x": [
          0.4856761395931244,
          0.48996368050575256,
          0.49558648467063904,
          0.5511004328727722,
          0.6576226353645325
         ],
         "xaxis": "x",
         "y": [
          "awake  ",
          "night  ",
          "bed  ",
          "goodnight  ",
          "morning  "
         ],
         "yaxis": "y"
        },
        {
         "marker": {
          "color": "#0072B2"
         },
         "orientation": "h",
         "type": "bar",
         "x": [
          0.5742558240890503,
          0.5811326503753662,
          0.6307961940765381,
          0.7004304528236389,
          0.719301700592041
         ],
         "xaxis": "x2",
         "y": [
          "tweetdeck  ",
          "twitterland  ",
          "tweets  ",
          "tweet  ",
          "twitter  "
         ],
         "yaxis": "y2"
        },
        {
         "marker": {
          "color": "#CC79A7"
         },
         "orientation": "h",
         "type": "bar",
         "x": [
          0.36357802152633667,
          0.3643101453781128,
          0.36893314123153687,
          0.3716149926185608,
          0.38334330916404724
         ],
         "xaxis": "x3",
         "y": [
          "movie  ",
          "watch  ",
          "bgt  ",
          "concert  ",
          "watched  "
         ],
         "yaxis": "y3"
        },
        {
         "marker": {
          "color": "#E69F00"
         },
         "orientation": "h",
         "type": "bar",
         "x": [
          0.4061986207962036,
          0.41473305225372314,
          0.42615610361099243,
          0.4548338055610657,
          0.5606111288070679
         ],
         "xaxis": "x4",
         "y": [
          "flu  ",
          "hungry  ",
          "craving  ",
          "nauseous  ",
          "sick  "
         ],
         "yaxis": "y4"
        },
        {
         "marker": {
          "color": "#56B4E9"
         },
         "orientation": "h",
         "type": "bar",
         "x": [
          0.43466851115226746,
          0.43867427110671997,
          0.447018027305603,
          0.5060518383979797,
          0.5529435276985168
         ],
         "xaxis": "x5",
         "y": [
          "miserable  ",
          "feel  ",
          "happy  ",
          "depressed  ",
          "life  "
         ],
         "yaxis": "y5"
        },
        {
         "marker": {
          "color": "#009E73"
         },
         "orientation": "h",
         "type": "bar",
         "x": [
          0.35878944396972656,
          0.37388843297958374,
          0.38138657808303833,
          0.38594871759414673,
          0.40298283100128174
         ],
         "xaxis": "x6",
         "y": [
          "shirt  ",
          "photo  ",
          "tyrannosaurus  ",
          "outfit  ",
          "zoo  "
         ],
         "yaxis": "y6"
        },
        {
         "marker": {
          "color": "#F0E442"
         },
         "orientation": "h",
         "type": "bar",
         "x": [
          0.503907322883606,
          0.528525710105896,
          0.5373760461807251,
          0.5541079044342041,
          0.5925195217132568
         ],
         "xaxis": "x7",
         "y": [
          "mum  ",
          "mom  ",
          "mama  ",
          "mother  ",
          "mothers  "
         ],
         "yaxis": "y7"
        },
        {
         "marker": {
          "color": "#D55E00"
         },
         "orientation": "h",
         "type": "bar",
         "x": [
          0.35061243176460266,
          0.37975266575813293,
          0.40244168043136597,
          0.5007937550544739,
          0.5278708338737488
         ],
         "xaxis": "x8",
         "y": [
          "cool  ",
          "chtx7e  ",
          "following  ",
          "thanks  ",
          "welcome  "
         ],
         "yaxis": "y8"
        }
       ],
       "layout": {
        "annotations": [
         {
          "font": {
           "size": 16
          },
          "showarrow": false,
          "text": "Topic 0",
          "x": 0.0875,
          "xanchor": "center",
          "xref": "paper",
          "y": 1,
          "yanchor": "bottom",
          "yref": "paper"
         },
         {
          "font": {
           "size": 16
          },
          "showarrow": false,
          "text": "Topic 1",
          "x": 0.36250000000000004,
          "xanchor": "center",
          "xref": "paper",
          "y": 1,
          "yanchor": "bottom",
          "yref": "paper"
         },
         {
          "font": {
           "size": 16
          },
          "showarrow": false,
          "text": "Topic 2",
          "x": 0.6375000000000001,
          "xanchor": "center",
          "xref": "paper",
          "y": 1,
          "yanchor": "bottom",
          "yref": "paper"
         },
         {
          "font": {
           "size": 16
          },
          "showarrow": false,
          "text": "Topic 3",
          "x": 0.9125,
          "xanchor": "center",
          "xref": "paper",
          "y": 1,
          "yanchor": "bottom",
          "yref": "paper"
         },
         {
          "font": {
           "size": 16
          },
          "showarrow": false,
          "text": "Topic 4",
          "x": 0.0875,
          "xanchor": "center",
          "xref": "paper",
          "y": 0.4,
          "yanchor": "bottom",
          "yref": "paper"
         },
         {
          "font": {
           "size": 16
          },
          "showarrow": false,
          "text": "Topic 5",
          "x": 0.36250000000000004,
          "xanchor": "center",
          "xref": "paper",
          "y": 0.4,
          "yanchor": "bottom",
          "yref": "paper"
         },
         {
          "font": {
           "size": 16
          },
          "showarrow": false,
          "text": "Topic 6",
          "x": 0.6375000000000001,
          "xanchor": "center",
          "xref": "paper",
          "y": 0.4,
          "yanchor": "bottom",
          "yref": "paper"
         },
         {
          "font": {
           "size": 16
          },
          "showarrow": false,
          "text": "Topic 7",
          "x": 0.9125,
          "xanchor": "center",
          "xref": "paper",
          "y": 0.4,
          "yanchor": "bottom",
          "yref": "paper"
         }
        ],
        "height": 500,
        "hoverlabel": {
         "bgcolor": "white",
         "font": {
          "family": "Rockwell",
          "size": 16
         }
        },
        "showlegend": false,
        "template": {
         "data": {
          "bar": [
           {
            "error_x": {
             "color": "#2a3f5f"
            },
            "error_y": {
             "color": "#2a3f5f"
            },
            "marker": {
             "line": {
              "color": "white",
              "width": 0.5
             },
             "pattern": {
              "fillmode": "overlay",
              "size": 10,
              "solidity": 0.2
             }
            },
            "type": "bar"
           }
          ],
          "barpolar": [
           {
            "marker": {
             "line": {
              "color": "white",
              "width": 0.5
             },
             "pattern": {
              "fillmode": "overlay",
              "size": 10,
              "solidity": 0.2
             }
            },
            "type": "barpolar"
           }
          ],
          "carpet": [
           {
            "aaxis": {
             "endlinecolor": "#2a3f5f",
             "gridcolor": "#C8D4E3",
             "linecolor": "#C8D4E3",
             "minorgridcolor": "#C8D4E3",
             "startlinecolor": "#2a3f5f"
            },
            "baxis": {
             "endlinecolor": "#2a3f5f",
             "gridcolor": "#C8D4E3",
             "linecolor": "#C8D4E3",
             "minorgridcolor": "#C8D4E3",
             "startlinecolor": "#2a3f5f"
            },
            "type": "carpet"
           }
          ],
          "choropleth": [
           {
            "colorbar": {
             "outlinewidth": 0,
             "ticks": ""
            },
            "type": "choropleth"
           }
          ],
          "contour": [
           {
            "colorbar": {
             "outlinewidth": 0,
             "ticks": ""
            },
            "colorscale": [
             [
              0,
              "#0d0887"
             ],
             [
              0.1111111111111111,
              "#46039f"
             ],
             [
              0.2222222222222222,
              "#7201a8"
             ],
             [
              0.3333333333333333,
              "#9c179e"
             ],
             [
              0.4444444444444444,
              "#bd3786"
             ],
             [
              0.5555555555555556,
              "#d8576b"
             ],
             [
              0.6666666666666666,
              "#ed7953"
             ],
             [
              0.7777777777777778,
              "#fb9f3a"
             ],
             [
              0.8888888888888888,
              "#fdca26"
             ],
             [
              1,
              "#f0f921"
             ]
            ],
            "type": "contour"
           }
          ],
          "contourcarpet": [
           {
            "colorbar": {
             "outlinewidth": 0,
             "ticks": ""
            },
            "type": "contourcarpet"
           }
          ],
          "heatmap": [
           {
            "colorbar": {
             "outlinewidth": 0,
             "ticks": ""
            },
            "colorscale": [
             [
              0,
              "#0d0887"
             ],
             [
              0.1111111111111111,
              "#46039f"
             ],
             [
              0.2222222222222222,
              "#7201a8"
             ],
             [
              0.3333333333333333,
              "#9c179e"
             ],
             [
              0.4444444444444444,
              "#bd3786"
             ],
             [
              0.5555555555555556,
              "#d8576b"
             ],
             [
              0.6666666666666666,
              "#ed7953"
             ],
             [
              0.7777777777777778,
              "#fb9f3a"
             ],
             [
              0.8888888888888888,
              "#fdca26"
             ],
             [
              1,
              "#f0f921"
             ]
            ],
            "type": "heatmap"
           }
          ],
          "histogram": [
           {
            "marker": {
             "pattern": {
              "fillmode": "overlay",
              "size": 10,
              "solidity": 0.2
             }
            },
            "type": "histogram"
           }
          ],
          "histogram2d": [
           {
            "colorbar": {
             "outlinewidth": 0,
             "ticks": ""
            },
            "colorscale": [
             [
              0,
              "#0d0887"
             ],
             [
              0.1111111111111111,
              "#46039f"
             ],
             [
              0.2222222222222222,
              "#7201a8"
             ],
             [
              0.3333333333333333,
              "#9c179e"
             ],
             [
              0.4444444444444444,
              "#bd3786"
             ],
             [
              0.5555555555555556,
              "#d8576b"
             ],
             [
              0.6666666666666666,
              "#ed7953"
             ],
             [
              0.7777777777777778,
              "#fb9f3a"
             ],
             [
              0.8888888888888888,
              "#fdca26"
             ],
             [
              1,
              "#f0f921"
             ]
            ],
            "type": "histogram2d"
           }
          ],
          "histogram2dcontour": [
           {
            "colorbar": {
             "outlinewidth": 0,
             "ticks": ""
            },
            "colorscale": [
             [
              0,
              "#0d0887"
             ],
             [
              0.1111111111111111,
              "#46039f"
             ],
             [
              0.2222222222222222,
              "#7201a8"
             ],
             [
              0.3333333333333333,
              "#9c179e"
             ],
             [
              0.4444444444444444,
              "#bd3786"
             ],
             [
              0.5555555555555556,
              "#d8576b"
             ],
             [
              0.6666666666666666,
              "#ed7953"
             ],
             [
              0.7777777777777778,
              "#fb9f3a"
             ],
             [
              0.8888888888888888,
              "#fdca26"
             ],
             [
              1,
              "#f0f921"
             ]
            ],
            "type": "histogram2dcontour"
           }
          ],
          "mesh3d": [
           {
            "colorbar": {
             "outlinewidth": 0,
             "ticks": ""
            },
            "type": "mesh3d"
           }
          ],
          "parcoords": [
           {
            "line": {
             "colorbar": {
              "outlinewidth": 0,
              "ticks": ""
             }
            },
            "type": "parcoords"
           }
          ],
          "pie": [
           {
            "automargin": true,
            "type": "pie"
           }
          ],
          "scatter": [
           {
            "fillpattern": {
             "fillmode": "overlay",
             "size": 10,
             "solidity": 0.2
            },
            "type": "scatter"
           }
          ],
          "scatter3d": [
           {
            "line": {
             "colorbar": {
              "outlinewidth": 0,
              "ticks": ""
             }
            },
            "marker": {
             "colorbar": {
              "outlinewidth": 0,
              "ticks": ""
             }
            },
            "type": "scatter3d"
           }
          ],
          "scattercarpet": [
           {
            "marker": {
             "colorbar": {
              "outlinewidth": 0,
              "ticks": ""
             }
            },
            "type": "scattercarpet"
           }
          ],
          "scattergeo": [
           {
            "marker": {
             "colorbar": {
              "outlinewidth": 0,
              "ticks": ""
             }
            },
            "type": "scattergeo"
           }
          ],
          "scattergl": [
           {
            "marker": {
             "colorbar": {
              "outlinewidth": 0,
              "ticks": ""
             }
            },
            "type": "scattergl"
           }
          ],
          "scattermap": [
           {
            "marker": {
             "colorbar": {
              "outlinewidth": 0,
              "ticks": ""
             }
            },
            "type": "scattermap"
           }
          ],
          "scattermapbox": [
           {
            "marker": {
             "colorbar": {
              "outlinewidth": 0,
              "ticks": ""
             }
            },
            "type": "scattermapbox"
           }
          ],
          "scatterpolar": [
           {
            "marker": {
             "colorbar": {
              "outlinewidth": 0,
              "ticks": ""
             }
            },
            "type": "scatterpolar"
           }
          ],
          "scatterpolargl": [
           {
            "marker": {
             "colorbar": {
              "outlinewidth": 0,
              "ticks": ""
             }
            },
            "type": "scatterpolargl"
           }
          ],
          "scatterternary": [
           {
            "marker": {
             "colorbar": {
              "outlinewidth": 0,
              "ticks": ""
             }
            },
            "type": "scatterternary"
           }
          ],
          "surface": [
           {
            "colorbar": {
             "outlinewidth": 0,
             "ticks": ""
            },
            "colorscale": [
             [
              0,
              "#0d0887"
             ],
             [
              0.1111111111111111,
              "#46039f"
             ],
             [
              0.2222222222222222,
              "#7201a8"
             ],
             [
              0.3333333333333333,
              "#9c179e"
             ],
             [
              0.4444444444444444,
              "#bd3786"
             ],
             [
              0.5555555555555556,
              "#d8576b"
             ],
             [
              0.6666666666666666,
              "#ed7953"
             ],
             [
              0.7777777777777778,
              "#fb9f3a"
             ],
             [
              0.8888888888888888,
              "#fdca26"
             ],
             [
              1,
              "#f0f921"
             ]
            ],
            "type": "surface"
           }
          ],
          "table": [
           {
            "cells": {
             "fill": {
              "color": "#EBF0F8"
             },
             "line": {
              "color": "white"
             }
            },
            "header": {
             "fill": {
              "color": "#C8D4E3"
             },
             "line": {
              "color": "white"
             }
            },
            "type": "table"
           }
          ]
         },
         "layout": {
          "annotationdefaults": {
           "arrowcolor": "#2a3f5f",
           "arrowhead": 0,
           "arrowwidth": 1
          },
          "autotypenumbers": "strict",
          "coloraxis": {
           "colorbar": {
            "outlinewidth": 0,
            "ticks": ""
           }
          },
          "colorscale": {
           "diverging": [
            [
             0,
             "#8e0152"
            ],
            [
             0.1,
             "#c51b7d"
            ],
            [
             0.2,
             "#de77ae"
            ],
            [
             0.3,
             "#f1b6da"
            ],
            [
             0.4,
             "#fde0ef"
            ],
            [
             0.5,
             "#f7f7f7"
            ],
            [
             0.6,
             "#e6f5d0"
            ],
            [
             0.7,
             "#b8e186"
            ],
            [
             0.8,
             "#7fbc41"
            ],
            [
             0.9,
             "#4d9221"
            ],
            [
             1,
             "#276419"
            ]
           ],
           "sequential": [
            [
             0,
             "#0d0887"
            ],
            [
             0.1111111111111111,
             "#46039f"
            ],
            [
             0.2222222222222222,
             "#7201a8"
            ],
            [
             0.3333333333333333,
             "#9c179e"
            ],
            [
             0.4444444444444444,
             "#bd3786"
            ],
            [
             0.5555555555555556,
             "#d8576b"
            ],
            [
             0.6666666666666666,
             "#ed7953"
            ],
            [
             0.7777777777777778,
             "#fb9f3a"
            ],
            [
             0.8888888888888888,
             "#fdca26"
            ],
            [
             1,
             "#f0f921"
            ]
           ],
           "sequentialminus": [
            [
             0,
             "#0d0887"
            ],
            [
             0.1111111111111111,
             "#46039f"
            ],
            [
             0.2222222222222222,
             "#7201a8"
            ],
            [
             0.3333333333333333,
             "#9c179e"
            ],
            [
             0.4444444444444444,
             "#bd3786"
            ],
            [
             0.5555555555555556,
             "#d8576b"
            ],
            [
             0.6666666666666666,
             "#ed7953"
            ],
            [
             0.7777777777777778,
             "#fb9f3a"
            ],
            [
             0.8888888888888888,
             "#fdca26"
            ],
            [
             1,
             "#f0f921"
            ]
           ]
          },
          "colorway": [
           "#636efa",
           "#EF553B",
           "#00cc96",
           "#ab63fa",
           "#FFA15A",
           "#19d3f3",
           "#FF6692",
           "#B6E880",
           "#FF97FF",
           "#FECB52"
          ],
          "font": {
           "color": "#2a3f5f"
          },
          "geo": {
           "bgcolor": "white",
           "lakecolor": "white",
           "landcolor": "white",
           "showlakes": true,
           "showland": true,
           "subunitcolor": "#C8D4E3"
          },
          "hoverlabel": {
           "align": "left"
          },
          "hovermode": "closest",
          "mapbox": {
           "style": "light"
          },
          "paper_bgcolor": "white",
          "plot_bgcolor": "white",
          "polar": {
           "angularaxis": {
            "gridcolor": "#EBF0F8",
            "linecolor": "#EBF0F8",
            "ticks": ""
           },
           "bgcolor": "white",
           "radialaxis": {
            "gridcolor": "#EBF0F8",
            "linecolor": "#EBF0F8",
            "ticks": ""
           }
          },
          "scene": {
           "xaxis": {
            "backgroundcolor": "white",
            "gridcolor": "#DFE8F3",
            "gridwidth": 2,
            "linecolor": "#EBF0F8",
            "showbackground": true,
            "ticks": "",
            "zerolinecolor": "#EBF0F8"
           },
           "yaxis": {
            "backgroundcolor": "white",
            "gridcolor": "#DFE8F3",
            "gridwidth": 2,
            "linecolor": "#EBF0F8",
            "showbackground": true,
            "ticks": "",
            "zerolinecolor": "#EBF0F8"
           },
           "zaxis": {
            "backgroundcolor": "white",
            "gridcolor": "#DFE8F3",
            "gridwidth": 2,
            "linecolor": "#EBF0F8",
            "showbackground": true,
            "ticks": "",
            "zerolinecolor": "#EBF0F8"
           }
          },
          "shapedefaults": {
           "line": {
            "color": "#2a3f5f"
           }
          },
          "ternary": {
           "aaxis": {
            "gridcolor": "#DFE8F3",
            "linecolor": "#A2B1C6",
            "ticks": ""
           },
           "baxis": {
            "gridcolor": "#DFE8F3",
            "linecolor": "#A2B1C6",
            "ticks": ""
           },
           "bgcolor": "white",
           "caxis": {
            "gridcolor": "#DFE8F3",
            "linecolor": "#A2B1C6",
            "ticks": ""
           }
          },
          "title": {
           "x": 0.05
          },
          "xaxis": {
           "automargin": true,
           "gridcolor": "#EBF0F8",
           "linecolor": "#EBF0F8",
           "ticks": "",
           "title": {
            "standoff": 15
           },
           "zerolinecolor": "#EBF0F8",
           "zerolinewidth": 2
          },
          "yaxis": {
           "automargin": true,
           "gridcolor": "#EBF0F8",
           "linecolor": "#EBF0F8",
           "ticks": "",
           "title": {
            "standoff": 15
           },
           "zerolinecolor": "#EBF0F8",
           "zerolinewidth": 2
          }
         }
        },
        "title": {
         "font": {
          "color": "Black",
          "size": 22
         },
         "text": "Topic Word Scores",
         "x": 0.5,
         "xanchor": "center",
         "yanchor": "top"
        },
        "width": 1000,
        "xaxis": {
         "anchor": "y",
         "domain": [
          0,
          0.175
         ],
         "showgrid": true
        },
        "xaxis2": {
         "anchor": "y2",
         "domain": [
          0.275,
          0.45
         ],
         "showgrid": true
        },
        "xaxis3": {
         "anchor": "y3",
         "domain": [
          0.55,
          0.7250000000000001
         ],
         "showgrid": true
        },
        "xaxis4": {
         "anchor": "y4",
         "domain": [
          0.825,
          1
         ],
         "showgrid": true
        },
        "xaxis5": {
         "anchor": "y5",
         "domain": [
          0,
          0.175
         ],
         "showgrid": true
        },
        "xaxis6": {
         "anchor": "y6",
         "domain": [
          0.275,
          0.45
         ],
         "showgrid": true
        },
        "xaxis7": {
         "anchor": "y7",
         "domain": [
          0.55,
          0.7250000000000001
         ],
         "showgrid": true
        },
        "xaxis8": {
         "anchor": "y8",
         "domain": [
          0.825,
          1
         ],
         "showgrid": true
        },
        "yaxis": {
         "anchor": "x",
         "domain": [
          0.6000000000000001,
          1
         ],
         "showgrid": true
        },
        "yaxis2": {
         "anchor": "x2",
         "domain": [
          0.6000000000000001,
          1
         ],
         "showgrid": true
        },
        "yaxis3": {
         "anchor": "x3",
         "domain": [
          0.6000000000000001,
          1
         ],
         "showgrid": true
        },
        "yaxis4": {
         "anchor": "x4",
         "domain": [
          0.6000000000000001,
          1
         ],
         "showgrid": true
        },
        "yaxis5": {
         "anchor": "x5",
         "domain": [
          0,
          0.4
         ],
         "showgrid": true
        },
        "yaxis6": {
         "anchor": "x6",
         "domain": [
          0,
          0.4
         ],
         "showgrid": true
        },
        "yaxis7": {
         "anchor": "x7",
         "domain": [
          0,
          0.4
         ],
         "showgrid": true
        },
        "yaxis8": {
         "anchor": "x8",
         "domain": [
          0,
          0.4
         ],
         "showgrid": true
        }
       }
      }
     },
     "metadata": {},
     "output_type": "display_data"
    }
   ],
   "source": [
    "topic_model.visualize_barchart()"
   ]
  },
  {
   "cell_type": "code",
   "execution_count": 67,
   "id": "220cfa32",
   "metadata": {},
   "outputs": [
    {
     "data": {
      "application/vnd.plotly.v1+json": {
       "config": {
        "plotlyServerURL": "https://plot.ly"
       },
       "data": [
        {
         "hovertext": "<b>Topic -1</b>:happy_hey_morning_bye_glad_hope_fr",
         "line": {
          "color": "black",
          "width": 1.5
         },
         "mode": "lines+lines",
         "name": "",
         "opacity": 0.1,
         "type": "scatter",
         "x": {
          "bdata": "AQIDBAUGBwgJCg==",
          "dtype": "i1"
         },
         "y": {
          "bdata": "9SzPPus4uj7G7LY+0HmzPoThsD5yhq4+dEyrPmrQpz7m1qQ+PGyjPg==",
          "dtype": "f4"
         }
        },
        {
         "hovertext": "<b>Topic 0</b>:morning_goodnight_bed_night_awake_s",
         "line": {
          "color": "black",
          "width": 1.5
         },
         "mode": "lines+lines",
         "name": "",
         "opacity": 0.1,
         "type": "scatter",
         "x": {
          "bdata": "AQIDBAUGBwgJCg==",
          "dtype": "i1"
         },
         "y": {
          "bdata": "9VkoP+sUDT+Dvf0+hdz6Pouq+D4Ah/I+QOvwPih+4T680Nc+aovUPg==",
          "dtype": "f4"
         }
        },
        {
         "hovertext": "<b>Topic 1</b>:twitter_tweet_tweets_twitterland_tw",
         "line": {
          "color": "black",
          "width": 1.5
         },
         "mode": "lines+lines",
         "name": "",
         "opacity": 0.1,
         "type": "scatter",
         "x": {
          "bdata": "AQIDBAUGBwgJCg==",
          "dtype": "i1"
         },
         "y": {
          "bdata": "KCQ4P2lPMz/ceyE/HMUUP24CEz8Equc+0LbJPi6ovj5S0rU+QCqYPg==",
          "dtype": "f4"
         }
        },
        {
         "hovertext": "<b>Topic 2</b>:watched_concert_bgt_watch_movie_son",
         "line": {
          "color": "black",
          "width": 1.5
         },
         "mode": "lines+lines",
         "name": "",
         "opacity": 0.1,
         "type": "scatter",
         "x": {
          "bdata": "AQIDBAUGBwgJCg==",
          "dtype": "i1"
         },
         "y": {
          "bdata": "k0XEPlJEvj7O5Lw+3Ia6PuYmuj4iYKs+RzubPv78mT7Ay5k+AGqYPg==",
          "dtype": "f4"
         }
        },
        {
         "hovertext": "<b>Topic 3</b>:sick_nauseous_craving_hungry_flu_fe",
         "line": {
          "color": "black",
          "width": 1.5
         },
         "mode": "lines+lines",
         "name": "",
         "opacity": 0.1,
         "type": "scatter",
         "x": {
          "bdata": "AQIDBAUGBwgJCg==",
          "dtype": "i1"
         },
         "y": {
          "bdata": "NoQPP/rf6D4iMdo+5FfUPkT5zz669ss+n2bJPh3jxz4ancc+5ITHPg==",
          "dtype": "f4"
         }
        },
        {
         "hovertext": "<b>Topic 4</b>:life_depressed_happy_feel_miserable",
         "line": {
          "color": "black",
          "width": 1.5
         },
         "mode": "lines+lines",
         "name": "",
         "opacity": 0.1,
         "type": "scatter",
         "x": {
          "bdata": "AQIDBAUGBwgJCg==",
          "dtype": "i1"
         },
         "y": {
          "bdata": "tY0NP52MAT+M3+Q+6pngPt+M3j7GIcQ+iNexPmihqj73Lak+VCmoPg==",
          "dtype": "f4"
         }
        },
        {
         "hovertext": "<b>Topic 5</b>:zoo_outfit_tyrannosaurus_photo_shir",
         "line": {
          "color": "black",
          "width": 1.5
         },
         "mode": "lines+lines",
         "name": "",
         "opacity": 0.1,
         "type": "scatter",
         "x": {
          "bdata": "AQIDBAUGBwgJCg==",
          "dtype": "i1"
         },
         "y": {
          "bdata": "xFPOPhKbxT4aRcM+Tm6/PkCztz5bBbc+E8ayPuDUrT6Pdas+3nmlPg==",
          "dtype": "f4"
         }
        },
        {
         "hovertext": "<b>Topic 6</b>:mothers_mother_mama_mom_mum_mommy_m",
         "line": {
          "color": "black",
          "width": 1.5
         },
         "mode": "lines+lines",
         "name": "",
         "opacity": 0.1,
         "type": "scatter",
         "x": {
          "bdata": "AQIDBAUGBwgJCg==",
          "dtype": "i1"
         },
         "y": {
          "bdata": "XK8XPwTaDT96kQk/dk0HPxIAAT/e+/w+MOLqPrQH4j6HitM+XgbQPg==",
          "dtype": "f4"
         }
        },
        {
         "hovertext": "<b>Topic 7</b>:welcome_thanks_following_chtx7e_coo",
         "line": {
          "color": "black",
          "width": 1.5
         },
         "mode": "lines+lines",
         "name": "",
         "opacity": 0.1,
         "type": "scatter",
         "x": {
          "bdata": "AQIDBAUGBwgJCg==",
          "dtype": "i1"
         },
         "y": {
          "bdata": "iyIHPwU0AD/WDM4+8W7CPnmDsz4G8rE+6veqPl55oj7ui6A+3GGfPg==",
          "dtype": "f4"
         }
        }
       ],
       "layout": {
        "height": 500,
        "hoverlabel": {
         "bgcolor": "white",
         "font": {
          "family": "Rockwell",
          "size": 16
         }
        },
        "showlegend": false,
        "template": {
         "data": {
          "bar": [
           {
            "error_x": {
             "color": "#2a3f5f"
            },
            "error_y": {
             "color": "#2a3f5f"
            },
            "marker": {
             "line": {
              "color": "white",
              "width": 0.5
             },
             "pattern": {
              "fillmode": "overlay",
              "size": 10,
              "solidity": 0.2
             }
            },
            "type": "bar"
           }
          ],
          "barpolar": [
           {
            "marker": {
             "line": {
              "color": "white",
              "width": 0.5
             },
             "pattern": {
              "fillmode": "overlay",
              "size": 10,
              "solidity": 0.2
             }
            },
            "type": "barpolar"
           }
          ],
          "carpet": [
           {
            "aaxis": {
             "endlinecolor": "#2a3f5f",
             "gridcolor": "#C8D4E3",
             "linecolor": "#C8D4E3",
             "minorgridcolor": "#C8D4E3",
             "startlinecolor": "#2a3f5f"
            },
            "baxis": {
             "endlinecolor": "#2a3f5f",
             "gridcolor": "#C8D4E3",
             "linecolor": "#C8D4E3",
             "minorgridcolor": "#C8D4E3",
             "startlinecolor": "#2a3f5f"
            },
            "type": "carpet"
           }
          ],
          "choropleth": [
           {
            "colorbar": {
             "outlinewidth": 0,
             "ticks": ""
            },
            "type": "choropleth"
           }
          ],
          "contour": [
           {
            "colorbar": {
             "outlinewidth": 0,
             "ticks": ""
            },
            "colorscale": [
             [
              0,
              "#0d0887"
             ],
             [
              0.1111111111111111,
              "#46039f"
             ],
             [
              0.2222222222222222,
              "#7201a8"
             ],
             [
              0.3333333333333333,
              "#9c179e"
             ],
             [
              0.4444444444444444,
              "#bd3786"
             ],
             [
              0.5555555555555556,
              "#d8576b"
             ],
             [
              0.6666666666666666,
              "#ed7953"
             ],
             [
              0.7777777777777778,
              "#fb9f3a"
             ],
             [
              0.8888888888888888,
              "#fdca26"
             ],
             [
              1,
              "#f0f921"
             ]
            ],
            "type": "contour"
           }
          ],
          "contourcarpet": [
           {
            "colorbar": {
             "outlinewidth": 0,
             "ticks": ""
            },
            "type": "contourcarpet"
           }
          ],
          "heatmap": [
           {
            "colorbar": {
             "outlinewidth": 0,
             "ticks": ""
            },
            "colorscale": [
             [
              0,
              "#0d0887"
             ],
             [
              0.1111111111111111,
              "#46039f"
             ],
             [
              0.2222222222222222,
              "#7201a8"
             ],
             [
              0.3333333333333333,
              "#9c179e"
             ],
             [
              0.4444444444444444,
              "#bd3786"
             ],
             [
              0.5555555555555556,
              "#d8576b"
             ],
             [
              0.6666666666666666,
              "#ed7953"
             ],
             [
              0.7777777777777778,
              "#fb9f3a"
             ],
             [
              0.8888888888888888,
              "#fdca26"
             ],
             [
              1,
              "#f0f921"
             ]
            ],
            "type": "heatmap"
           }
          ],
          "histogram": [
           {
            "marker": {
             "pattern": {
              "fillmode": "overlay",
              "size": 10,
              "solidity": 0.2
             }
            },
            "type": "histogram"
           }
          ],
          "histogram2d": [
           {
            "colorbar": {
             "outlinewidth": 0,
             "ticks": ""
            },
            "colorscale": [
             [
              0,
              "#0d0887"
             ],
             [
              0.1111111111111111,
              "#46039f"
             ],
             [
              0.2222222222222222,
              "#7201a8"
             ],
             [
              0.3333333333333333,
              "#9c179e"
             ],
             [
              0.4444444444444444,
              "#bd3786"
             ],
             [
              0.5555555555555556,
              "#d8576b"
             ],
             [
              0.6666666666666666,
              "#ed7953"
             ],
             [
              0.7777777777777778,
              "#fb9f3a"
             ],
             [
              0.8888888888888888,
              "#fdca26"
             ],
             [
              1,
              "#f0f921"
             ]
            ],
            "type": "histogram2d"
           }
          ],
          "histogram2dcontour": [
           {
            "colorbar": {
             "outlinewidth": 0,
             "ticks": ""
            },
            "colorscale": [
             [
              0,
              "#0d0887"
             ],
             [
              0.1111111111111111,
              "#46039f"
             ],
             [
              0.2222222222222222,
              "#7201a8"
             ],
             [
              0.3333333333333333,
              "#9c179e"
             ],
             [
              0.4444444444444444,
              "#bd3786"
             ],
             [
              0.5555555555555556,
              "#d8576b"
             ],
             [
              0.6666666666666666,
              "#ed7953"
             ],
             [
              0.7777777777777778,
              "#fb9f3a"
             ],
             [
              0.8888888888888888,
              "#fdca26"
             ],
             [
              1,
              "#f0f921"
             ]
            ],
            "type": "histogram2dcontour"
           }
          ],
          "mesh3d": [
           {
            "colorbar": {
             "outlinewidth": 0,
             "ticks": ""
            },
            "type": "mesh3d"
           }
          ],
          "parcoords": [
           {
            "line": {
             "colorbar": {
              "outlinewidth": 0,
              "ticks": ""
             }
            },
            "type": "parcoords"
           }
          ],
          "pie": [
           {
            "automargin": true,
            "type": "pie"
           }
          ],
          "scatter": [
           {
            "fillpattern": {
             "fillmode": "overlay",
             "size": 10,
             "solidity": 0.2
            },
            "type": "scatter"
           }
          ],
          "scatter3d": [
           {
            "line": {
             "colorbar": {
              "outlinewidth": 0,
              "ticks": ""
             }
            },
            "marker": {
             "colorbar": {
              "outlinewidth": 0,
              "ticks": ""
             }
            },
            "type": "scatter3d"
           }
          ],
          "scattercarpet": [
           {
            "marker": {
             "colorbar": {
              "outlinewidth": 0,
              "ticks": ""
             }
            },
            "type": "scattercarpet"
           }
          ],
          "scattergeo": [
           {
            "marker": {
             "colorbar": {
              "outlinewidth": 0,
              "ticks": ""
             }
            },
            "type": "scattergeo"
           }
          ],
          "scattergl": [
           {
            "marker": {
             "colorbar": {
              "outlinewidth": 0,
              "ticks": ""
             }
            },
            "type": "scattergl"
           }
          ],
          "scattermap": [
           {
            "marker": {
             "colorbar": {
              "outlinewidth": 0,
              "ticks": ""
             }
            },
            "type": "scattermap"
           }
          ],
          "scattermapbox": [
           {
            "marker": {
             "colorbar": {
              "outlinewidth": 0,
              "ticks": ""
             }
            },
            "type": "scattermapbox"
           }
          ],
          "scatterpolar": [
           {
            "marker": {
             "colorbar": {
              "outlinewidth": 0,
              "ticks": ""
             }
            },
            "type": "scatterpolar"
           }
          ],
          "scatterpolargl": [
           {
            "marker": {
             "colorbar": {
              "outlinewidth": 0,
              "ticks": ""
             }
            },
            "type": "scatterpolargl"
           }
          ],
          "scatterternary": [
           {
            "marker": {
             "colorbar": {
              "outlinewidth": 0,
              "ticks": ""
             }
            },
            "type": "scatterternary"
           }
          ],
          "surface": [
           {
            "colorbar": {
             "outlinewidth": 0,
             "ticks": ""
            },
            "colorscale": [
             [
              0,
              "#0d0887"
             ],
             [
              0.1111111111111111,
              "#46039f"
             ],
             [
              0.2222222222222222,
              "#7201a8"
             ],
             [
              0.3333333333333333,
              "#9c179e"
             ],
             [
              0.4444444444444444,
              "#bd3786"
             ],
             [
              0.5555555555555556,
              "#d8576b"
             ],
             [
              0.6666666666666666,
              "#ed7953"
             ],
             [
              0.7777777777777778,
              "#fb9f3a"
             ],
             [
              0.8888888888888888,
              "#fdca26"
             ],
             [
              1,
              "#f0f921"
             ]
            ],
            "type": "surface"
           }
          ],
          "table": [
           {
            "cells": {
             "fill": {
              "color": "#EBF0F8"
             },
             "line": {
              "color": "white"
             }
            },
            "header": {
             "fill": {
              "color": "#C8D4E3"
             },
             "line": {
              "color": "white"
             }
            },
            "type": "table"
           }
          ]
         },
         "layout": {
          "annotationdefaults": {
           "arrowcolor": "#2a3f5f",
           "arrowhead": 0,
           "arrowwidth": 1
          },
          "autotypenumbers": "strict",
          "coloraxis": {
           "colorbar": {
            "outlinewidth": 0,
            "ticks": ""
           }
          },
          "colorscale": {
           "diverging": [
            [
             0,
             "#8e0152"
            ],
            [
             0.1,
             "#c51b7d"
            ],
            [
             0.2,
             "#de77ae"
            ],
            [
             0.3,
             "#f1b6da"
            ],
            [
             0.4,
             "#fde0ef"
            ],
            [
             0.5,
             "#f7f7f7"
            ],
            [
             0.6,
             "#e6f5d0"
            ],
            [
             0.7,
             "#b8e186"
            ],
            [
             0.8,
             "#7fbc41"
            ],
            [
             0.9,
             "#4d9221"
            ],
            [
             1,
             "#276419"
            ]
           ],
           "sequential": [
            [
             0,
             "#0d0887"
            ],
            [
             0.1111111111111111,
             "#46039f"
            ],
            [
             0.2222222222222222,
             "#7201a8"
            ],
            [
             0.3333333333333333,
             "#9c179e"
            ],
            [
             0.4444444444444444,
             "#bd3786"
            ],
            [
             0.5555555555555556,
             "#d8576b"
            ],
            [
             0.6666666666666666,
             "#ed7953"
            ],
            [
             0.7777777777777778,
             "#fb9f3a"
            ],
            [
             0.8888888888888888,
             "#fdca26"
            ],
            [
             1,
             "#f0f921"
            ]
           ],
           "sequentialminus": [
            [
             0,
             "#0d0887"
            ],
            [
             0.1111111111111111,
             "#46039f"
            ],
            [
             0.2222222222222222,
             "#7201a8"
            ],
            [
             0.3333333333333333,
             "#9c179e"
            ],
            [
             0.4444444444444444,
             "#bd3786"
            ],
            [
             0.5555555555555556,
             "#d8576b"
            ],
            [
             0.6666666666666666,
             "#ed7953"
            ],
            [
             0.7777777777777778,
             "#fb9f3a"
            ],
            [
             0.8888888888888888,
             "#fdca26"
            ],
            [
             1,
             "#f0f921"
            ]
           ]
          },
          "colorway": [
           "#636efa",
           "#EF553B",
           "#00cc96",
           "#ab63fa",
           "#FFA15A",
           "#19d3f3",
           "#FF6692",
           "#B6E880",
           "#FF97FF",
           "#FECB52"
          ],
          "font": {
           "color": "#2a3f5f"
          },
          "geo": {
           "bgcolor": "white",
           "lakecolor": "white",
           "landcolor": "white",
           "showlakes": true,
           "showland": true,
           "subunitcolor": "#C8D4E3"
          },
          "hoverlabel": {
           "align": "left"
          },
          "hovermode": "closest",
          "mapbox": {
           "style": "light"
          },
          "paper_bgcolor": "white",
          "plot_bgcolor": "white",
          "polar": {
           "angularaxis": {
            "gridcolor": "#EBF0F8",
            "linecolor": "#EBF0F8",
            "ticks": ""
           },
           "bgcolor": "white",
           "radialaxis": {
            "gridcolor": "#EBF0F8",
            "linecolor": "#EBF0F8",
            "ticks": ""
           }
          },
          "scene": {
           "xaxis": {
            "backgroundcolor": "white",
            "gridcolor": "#DFE8F3",
            "gridwidth": 2,
            "linecolor": "#EBF0F8",
            "showbackground": true,
            "ticks": "",
            "zerolinecolor": "#EBF0F8"
           },
           "yaxis": {
            "backgroundcolor": "white",
            "gridcolor": "#DFE8F3",
            "gridwidth": 2,
            "linecolor": "#EBF0F8",
            "showbackground": true,
            "ticks": "",
            "zerolinecolor": "#EBF0F8"
           },
           "zaxis": {
            "backgroundcolor": "white",
            "gridcolor": "#DFE8F3",
            "gridwidth": 2,
            "linecolor": "#EBF0F8",
            "showbackground": true,
            "ticks": "",
            "zerolinecolor": "#EBF0F8"
           }
          },
          "shapedefaults": {
           "line": {
            "color": "#2a3f5f"
           }
          },
          "ternary": {
           "aaxis": {
            "gridcolor": "#DFE8F3",
            "linecolor": "#A2B1C6",
            "ticks": ""
           },
           "baxis": {
            "gridcolor": "#DFE8F3",
            "linecolor": "#A2B1C6",
            "ticks": ""
           },
           "bgcolor": "white",
           "caxis": {
            "gridcolor": "#DFE8F3",
            "linecolor": "#A2B1C6",
            "ticks": ""
           }
          },
          "title": {
           "x": 0.05
          },
          "xaxis": {
           "automargin": true,
           "gridcolor": "#EBF0F8",
           "linecolor": "#EBF0F8",
           "ticks": "",
           "title": {
            "standoff": 15
           },
           "zerolinecolor": "#EBF0F8",
           "zerolinewidth": 2
          },
          "yaxis": {
           "automargin": true,
           "gridcolor": "#EBF0F8",
           "linecolor": "#EBF0F8",
           "ticks": "",
           "title": {
            "standoff": 15
           },
           "zerolinecolor": "#EBF0F8",
           "zerolinewidth": 2
          }
         }
        },
        "title": {
         "font": {
          "color": "Black",
          "size": 22
         },
         "text": "<b>Term score decline per Topic</b>",
         "x": 0.5,
         "xanchor": "center",
         "y": 0.9,
         "yanchor": "top"
        },
        "width": 800,
        "xaxis": {
         "dtick": 2,
         "range": [
          0,
          10
         ],
         "tick0": 1,
         "title": {
          "text": "Term Rank"
         }
        },
        "yaxis": {
         "title": {
          "text": "c-TF-IDF score"
         }
        }
       }
      }
     },
     "metadata": {},
     "output_type": "display_data"
    }
   ],
   "source": [
    "topic_model.visualize_term_rank()"
   ]
  },
  {
   "cell_type": "code",
   "execution_count": 68,
   "id": "629b8eeb",
   "metadata": {},
   "outputs": [
    {
     "data": {
      "application/vnd.plotly.v1+json": {
       "config": {
        "plotlyServerURL": "https://plot.ly"
       },
       "data": [
        {
         "hoverinfo": "text",
         "marker": {
          "color": "rgb(61,153,112)"
         },
         "mode": "lines",
         "type": "scatter",
         "x": {
          "bdata": "AAAAAAAAAADE/ZVlq4TtP8T9lWWrhO0/AAAAAAAAAAA=",
          "dtype": "f8"
         },
         "xaxis": "x",
         "y": {
          "bdata": "AAAAAAAAFMAAAAAAAAAUwAAAAAAAAC7AAAAAAAAALsA=",
          "dtype": "f8"
         },
         "yaxis": "y"
        },
        {
         "hoverinfo": "text",
         "marker": {
          "color": "rgb(61,153,112)"
         },
         "mode": "lines",
         "type": "scatter",
         "x": {
          "bdata": "AAAAAAAAAADkCMWual/oP+QIxa5qX+g/AAAAAAAAAAA=",
          "dtype": "f8"
         },
         "xaxis": "x",
         "y": {
          "bdata": "AAAAAACARsAAAAAAAIBGwAAAAAAAgEvAAAAAAACAS8A=",
          "dtype": "f8"
         },
         "yaxis": "y"
        },
        {
         "hoverinfo": "text",
         "marker": {
          "color": "rgb(61,153,112)"
         },
         "mode": "lines",
         "type": "scatter",
         "x": {
          "bdata": "AAAAAAAAAADGYnfbVRnqP8Zid9tVGeo/5AjFrmpf6D8=",
          "dtype": "f8"
         },
         "xaxis": "x",
         "y": {
          "bdata": "AAAAAACAQcAAAAAAAIBBwAAAAAAAAEnAAAAAAAAAScA=",
          "dtype": "f8"
         },
         "yaxis": "y"
        },
        {
         "hoverinfo": "text",
         "marker": {
          "color": "rgb(61,153,112)"
         },
         "mode": "lines",
         "type": "scatter",
         "x": {
          "bdata": "xmJ321UZ6j9DW+3NwNPrP0Nb7c3A0+s/AAAAAAAAAAA=",
          "dtype": "f8"
         },
         "xaxis": "x",
         "y": {
          "bdata": "AAAAAABARcAAAAAAAEBFwAAAAAAAQFDAAAAAAABAUMA=",
          "dtype": "f8"
         },
         "yaxis": "y"
        },
        {
         "hoverinfo": "text",
         "marker": {
          "color": "rgb(61,153,112)"
         },
         "mode": "lines",
         "type": "scatter",
         "x": {
          "bdata": "AAAAAAAAAAAzD+bHV1jsPzMP5sdXWOw/Q1vtzcDT6z8=",
          "dtype": "f8"
         },
         "xaxis": "x",
         "y": {
          "bdata": "AAAAAAAAOcAAAAAAAAA5wAAAAAAA4ErAAAAAAADgSsA=",
          "dtype": "f8"
         },
         "yaxis": "y"
        },
        {
         "hoverinfo": "text",
         "marker": {
          "color": "rgb(61,153,112)"
         },
         "mode": "lines",
         "type": "scatter",
         "x": {
          "bdata": "Mw/mx1dY7D8cDGvlURHuPxwMa+VREe4/AAAAAAAAAAA=",
          "dtype": "f8"
         },
         "xaxis": "x",
         "y": {
          "bdata": "AAAAAACwQ8AAAAAAALBDwAAAAAAAwFLAAAAAAADAUsA=",
          "dtype": "f8"
         },
         "yaxis": "y"
        },
        {
         "hoverinfo": "text",
         "marker": {
          "color": "rgb(61,153,112)"
         },
         "mode": "lines",
         "type": "scatter",
         "x": {
          "bdata": "xP2VZauE7T9iGUH7vM7vP2IZQfu8zu8/HAxr5VER7j8=",
          "dtype": "f8"
         },
         "xaxis": "x",
         "y": {
          "bdata": "AAAAAAAAJMAAAAAAAAAkwAAAAAAAmEzAAAAAAACYTMA=",
          "dtype": "f8"
         },
         "yaxis": "y"
        }
       ],
       "layout": {
        "autosize": false,
        "height": 320,
        "hoverlabel": {
         "bgcolor": "white",
         "font": {
          "family": "Rockwell",
          "size": 16
         }
        },
        "hovermode": "closest",
        "plot_bgcolor": "#ECEFF1",
        "showlegend": false,
        "template": {
         "data": {
          "bar": [
           {
            "error_x": {
             "color": "#2a3f5f"
            },
            "error_y": {
             "color": "#2a3f5f"
            },
            "marker": {
             "line": {
              "color": "white",
              "width": 0.5
             },
             "pattern": {
              "fillmode": "overlay",
              "size": 10,
              "solidity": 0.2
             }
            },
            "type": "bar"
           }
          ],
          "barpolar": [
           {
            "marker": {
             "line": {
              "color": "white",
              "width": 0.5
             },
             "pattern": {
              "fillmode": "overlay",
              "size": 10,
              "solidity": 0.2
             }
            },
            "type": "barpolar"
           }
          ],
          "carpet": [
           {
            "aaxis": {
             "endlinecolor": "#2a3f5f",
             "gridcolor": "#C8D4E3",
             "linecolor": "#C8D4E3",
             "minorgridcolor": "#C8D4E3",
             "startlinecolor": "#2a3f5f"
            },
            "baxis": {
             "endlinecolor": "#2a3f5f",
             "gridcolor": "#C8D4E3",
             "linecolor": "#C8D4E3",
             "minorgridcolor": "#C8D4E3",
             "startlinecolor": "#2a3f5f"
            },
            "type": "carpet"
           }
          ],
          "choropleth": [
           {
            "colorbar": {
             "outlinewidth": 0,
             "ticks": ""
            },
            "type": "choropleth"
           }
          ],
          "contour": [
           {
            "colorbar": {
             "outlinewidth": 0,
             "ticks": ""
            },
            "colorscale": [
             [
              0,
              "#0d0887"
             ],
             [
              0.1111111111111111,
              "#46039f"
             ],
             [
              0.2222222222222222,
              "#7201a8"
             ],
             [
              0.3333333333333333,
              "#9c179e"
             ],
             [
              0.4444444444444444,
              "#bd3786"
             ],
             [
              0.5555555555555556,
              "#d8576b"
             ],
             [
              0.6666666666666666,
              "#ed7953"
             ],
             [
              0.7777777777777778,
              "#fb9f3a"
             ],
             [
              0.8888888888888888,
              "#fdca26"
             ],
             [
              1,
              "#f0f921"
             ]
            ],
            "type": "contour"
           }
          ],
          "contourcarpet": [
           {
            "colorbar": {
             "outlinewidth": 0,
             "ticks": ""
            },
            "type": "contourcarpet"
           }
          ],
          "heatmap": [
           {
            "colorbar": {
             "outlinewidth": 0,
             "ticks": ""
            },
            "colorscale": [
             [
              0,
              "#0d0887"
             ],
             [
              0.1111111111111111,
              "#46039f"
             ],
             [
              0.2222222222222222,
              "#7201a8"
             ],
             [
              0.3333333333333333,
              "#9c179e"
             ],
             [
              0.4444444444444444,
              "#bd3786"
             ],
             [
              0.5555555555555556,
              "#d8576b"
             ],
             [
              0.6666666666666666,
              "#ed7953"
             ],
             [
              0.7777777777777778,
              "#fb9f3a"
             ],
             [
              0.8888888888888888,
              "#fdca26"
             ],
             [
              1,
              "#f0f921"
             ]
            ],
            "type": "heatmap"
           }
          ],
          "histogram": [
           {
            "marker": {
             "pattern": {
              "fillmode": "overlay",
              "size": 10,
              "solidity": 0.2
             }
            },
            "type": "histogram"
           }
          ],
          "histogram2d": [
           {
            "colorbar": {
             "outlinewidth": 0,
             "ticks": ""
            },
            "colorscale": [
             [
              0,
              "#0d0887"
             ],
             [
              0.1111111111111111,
              "#46039f"
             ],
             [
              0.2222222222222222,
              "#7201a8"
             ],
             [
              0.3333333333333333,
              "#9c179e"
             ],
             [
              0.4444444444444444,
              "#bd3786"
             ],
             [
              0.5555555555555556,
              "#d8576b"
             ],
             [
              0.6666666666666666,
              "#ed7953"
             ],
             [
              0.7777777777777778,
              "#fb9f3a"
             ],
             [
              0.8888888888888888,
              "#fdca26"
             ],
             [
              1,
              "#f0f921"
             ]
            ],
            "type": "histogram2d"
           }
          ],
          "histogram2dcontour": [
           {
            "colorbar": {
             "outlinewidth": 0,
             "ticks": ""
            },
            "colorscale": [
             [
              0,
              "#0d0887"
             ],
             [
              0.1111111111111111,
              "#46039f"
             ],
             [
              0.2222222222222222,
              "#7201a8"
             ],
             [
              0.3333333333333333,
              "#9c179e"
             ],
             [
              0.4444444444444444,
              "#bd3786"
             ],
             [
              0.5555555555555556,
              "#d8576b"
             ],
             [
              0.6666666666666666,
              "#ed7953"
             ],
             [
              0.7777777777777778,
              "#fb9f3a"
             ],
             [
              0.8888888888888888,
              "#fdca26"
             ],
             [
              1,
              "#f0f921"
             ]
            ],
            "type": "histogram2dcontour"
           }
          ],
          "mesh3d": [
           {
            "colorbar": {
             "outlinewidth": 0,
             "ticks": ""
            },
            "type": "mesh3d"
           }
          ],
          "parcoords": [
           {
            "line": {
             "colorbar": {
              "outlinewidth": 0,
              "ticks": ""
             }
            },
            "type": "parcoords"
           }
          ],
          "pie": [
           {
            "automargin": true,
            "type": "pie"
           }
          ],
          "scatter": [
           {
            "fillpattern": {
             "fillmode": "overlay",
             "size": 10,
             "solidity": 0.2
            },
            "type": "scatter"
           }
          ],
          "scatter3d": [
           {
            "line": {
             "colorbar": {
              "outlinewidth": 0,
              "ticks": ""
             }
            },
            "marker": {
             "colorbar": {
              "outlinewidth": 0,
              "ticks": ""
             }
            },
            "type": "scatter3d"
           }
          ],
          "scattercarpet": [
           {
            "marker": {
             "colorbar": {
              "outlinewidth": 0,
              "ticks": ""
             }
            },
            "type": "scattercarpet"
           }
          ],
          "scattergeo": [
           {
            "marker": {
             "colorbar": {
              "outlinewidth": 0,
              "ticks": ""
             }
            },
            "type": "scattergeo"
           }
          ],
          "scattergl": [
           {
            "marker": {
             "colorbar": {
              "outlinewidth": 0,
              "ticks": ""
             }
            },
            "type": "scattergl"
           }
          ],
          "scattermap": [
           {
            "marker": {
             "colorbar": {
              "outlinewidth": 0,
              "ticks": ""
             }
            },
            "type": "scattermap"
           }
          ],
          "scattermapbox": [
           {
            "marker": {
             "colorbar": {
              "outlinewidth": 0,
              "ticks": ""
             }
            },
            "type": "scattermapbox"
           }
          ],
          "scatterpolar": [
           {
            "marker": {
             "colorbar": {
              "outlinewidth": 0,
              "ticks": ""
             }
            },
            "type": "scatterpolar"
           }
          ],
          "scatterpolargl": [
           {
            "marker": {
             "colorbar": {
              "outlinewidth": 0,
              "ticks": ""
             }
            },
            "type": "scatterpolargl"
           }
          ],
          "scatterternary": [
           {
            "marker": {
             "colorbar": {
              "outlinewidth": 0,
              "ticks": ""
             }
            },
            "type": "scatterternary"
           }
          ],
          "surface": [
           {
            "colorbar": {
             "outlinewidth": 0,
             "ticks": ""
            },
            "colorscale": [
             [
              0,
              "#0d0887"
             ],
             [
              0.1111111111111111,
              "#46039f"
             ],
             [
              0.2222222222222222,
              "#7201a8"
             ],
             [
              0.3333333333333333,
              "#9c179e"
             ],
             [
              0.4444444444444444,
              "#bd3786"
             ],
             [
              0.5555555555555556,
              "#d8576b"
             ],
             [
              0.6666666666666666,
              "#ed7953"
             ],
             [
              0.7777777777777778,
              "#fb9f3a"
             ],
             [
              0.8888888888888888,
              "#fdca26"
             ],
             [
              1,
              "#f0f921"
             ]
            ],
            "type": "surface"
           }
          ],
          "table": [
           {
            "cells": {
             "fill": {
              "color": "#EBF0F8"
             },
             "line": {
              "color": "white"
             }
            },
            "header": {
             "fill": {
              "color": "#C8D4E3"
             },
             "line": {
              "color": "white"
             }
            },
            "type": "table"
           }
          ]
         },
         "layout": {
          "annotationdefaults": {
           "arrowcolor": "#2a3f5f",
           "arrowhead": 0,
           "arrowwidth": 1
          },
          "autotypenumbers": "strict",
          "coloraxis": {
           "colorbar": {
            "outlinewidth": 0,
            "ticks": ""
           }
          },
          "colorscale": {
           "diverging": [
            [
             0,
             "#8e0152"
            ],
            [
             0.1,
             "#c51b7d"
            ],
            [
             0.2,
             "#de77ae"
            ],
            [
             0.3,
             "#f1b6da"
            ],
            [
             0.4,
             "#fde0ef"
            ],
            [
             0.5,
             "#f7f7f7"
            ],
            [
             0.6,
             "#e6f5d0"
            ],
            [
             0.7,
             "#b8e186"
            ],
            [
             0.8,
             "#7fbc41"
            ],
            [
             0.9,
             "#4d9221"
            ],
            [
             1,
             "#276419"
            ]
           ],
           "sequential": [
            [
             0,
             "#0d0887"
            ],
            [
             0.1111111111111111,
             "#46039f"
            ],
            [
             0.2222222222222222,
             "#7201a8"
            ],
            [
             0.3333333333333333,
             "#9c179e"
            ],
            [
             0.4444444444444444,
             "#bd3786"
            ],
            [
             0.5555555555555556,
             "#d8576b"
            ],
            [
             0.6666666666666666,
             "#ed7953"
            ],
            [
             0.7777777777777778,
             "#fb9f3a"
            ],
            [
             0.8888888888888888,
             "#fdca26"
            ],
            [
             1,
             "#f0f921"
            ]
           ],
           "sequentialminus": [
            [
             0,
             "#0d0887"
            ],
            [
             0.1111111111111111,
             "#46039f"
            ],
            [
             0.2222222222222222,
             "#7201a8"
            ],
            [
             0.3333333333333333,
             "#9c179e"
            ],
            [
             0.4444444444444444,
             "#bd3786"
            ],
            [
             0.5555555555555556,
             "#d8576b"
            ],
            [
             0.6666666666666666,
             "#ed7953"
            ],
            [
             0.7777777777777778,
             "#fb9f3a"
            ],
            [
             0.8888888888888888,
             "#fdca26"
            ],
            [
             1,
             "#f0f921"
            ]
           ]
          },
          "colorway": [
           "#636efa",
           "#EF553B",
           "#00cc96",
           "#ab63fa",
           "#FFA15A",
           "#19d3f3",
           "#FF6692",
           "#B6E880",
           "#FF97FF",
           "#FECB52"
          ],
          "font": {
           "color": "#2a3f5f"
          },
          "geo": {
           "bgcolor": "white",
           "lakecolor": "white",
           "landcolor": "white",
           "showlakes": true,
           "showland": true,
           "subunitcolor": "#C8D4E3"
          },
          "hoverlabel": {
           "align": "left"
          },
          "hovermode": "closest",
          "mapbox": {
           "style": "light"
          },
          "paper_bgcolor": "white",
          "plot_bgcolor": "white",
          "polar": {
           "angularaxis": {
            "gridcolor": "#EBF0F8",
            "linecolor": "#EBF0F8",
            "ticks": ""
           },
           "bgcolor": "white",
           "radialaxis": {
            "gridcolor": "#EBF0F8",
            "linecolor": "#EBF0F8",
            "ticks": ""
           }
          },
          "scene": {
           "xaxis": {
            "backgroundcolor": "white",
            "gridcolor": "#DFE8F3",
            "gridwidth": 2,
            "linecolor": "#EBF0F8",
            "showbackground": true,
            "ticks": "",
            "zerolinecolor": "#EBF0F8"
           },
           "yaxis": {
            "backgroundcolor": "white",
            "gridcolor": "#DFE8F3",
            "gridwidth": 2,
            "linecolor": "#EBF0F8",
            "showbackground": true,
            "ticks": "",
            "zerolinecolor": "#EBF0F8"
           },
           "zaxis": {
            "backgroundcolor": "white",
            "gridcolor": "#DFE8F3",
            "gridwidth": 2,
            "linecolor": "#EBF0F8",
            "showbackground": true,
            "ticks": "",
            "zerolinecolor": "#EBF0F8"
           }
          },
          "shapedefaults": {
           "line": {
            "color": "#2a3f5f"
           }
          },
          "ternary": {
           "aaxis": {
            "gridcolor": "#DFE8F3",
            "linecolor": "#A2B1C6",
            "ticks": ""
           },
           "baxis": {
            "gridcolor": "#DFE8F3",
            "linecolor": "#A2B1C6",
            "ticks": ""
           },
           "bgcolor": "white",
           "caxis": {
            "gridcolor": "#DFE8F3",
            "linecolor": "#A2B1C6",
            "ticks": ""
           }
          },
          "title": {
           "x": 0.05
          },
          "xaxis": {
           "automargin": true,
           "gridcolor": "#EBF0F8",
           "linecolor": "#EBF0F8",
           "ticks": "",
           "title": {
            "standoff": 15
           },
           "zerolinecolor": "#EBF0F8",
           "zerolinewidth": 2
          },
          "yaxis": {
           "automargin": true,
           "gridcolor": "#EBF0F8",
           "linecolor": "#EBF0F8",
           "ticks": "",
           "title": {
            "standoff": 15
           },
           "zerolinecolor": "#EBF0F8",
           "zerolinewidth": 2
          }
         }
        },
        "title": {
         "font": {
          "color": "Black",
          "size": 22
         },
         "text": "<b>Hierarchical Clustering</b>",
         "x": 0.5,
         "xanchor": "center",
         "yanchor": "top"
        },
        "width": 1000,
        "xaxis": {
         "mirror": "allticks",
         "rangemode": "tozero",
         "showgrid": false,
         "showline": true,
         "showticklabels": true,
         "ticks": "outside",
         "type": "linear",
         "zeroline": false
        },
        "yaxis": {
         "mirror": "allticks",
         "range": [
          -80,
          0
         ],
         "rangemode": "tozero",
         "showgrid": false,
         "showline": true,
         "showticklabels": true,
         "tickmode": "array",
         "ticks": "outside",
         "ticktext": [
          "7_welcome_thanks_following",
          "5_zoo_outfit_tyrannosaurus",
          "3_sick_nauseous_craving",
          "2_watched_concert_bgt",
          "0_morning_goodnight_bed",
          "1_twitter_tweet_tweets",
          "4_life_depressed_happy",
          "6_mothers_mother_mama"
         ],
         "tickvals": [
          -5,
          -15,
          -25,
          -35,
          -45,
          -55,
          -65,
          -75
         ],
         "type": "linear",
         "zeroline": false
        }
       }
      }
     },
     "metadata": {},
     "output_type": "display_data"
    }
   ],
   "source": [
    "topic_model.visualize_hierarchy()"
   ]
  },
  {
   "cell_type": "code",
   "execution_count": 70,
   "id": "7aebfd68",
   "metadata": {},
   "outputs": [
    {
     "name": "stderr",
     "output_type": "stream",
     "text": [
      "  0%|          | 0/7 [00:00<?, ?it/s]"
     ]
    },
    {
     "name": "stderr",
     "output_type": "stream",
     "text": [
      "100%|██████████| 7/7 [00:00<00:00,  8.42it/s]\n"
     ]
    },
    {
     "data": {
      "application/vnd.plotly.v1+json": {
       "config": {
        "plotlyServerURL": "https://plot.ly"
       },
       "data": [
        {
         "hoverinfo": "text",
         "marker": {
          "color": "rgb(61,153,112)"
         },
         "mode": "lines",
         "text": [
          "welcome_thanks_following_chtx7e_cool",
          "",
          "",
          "zoo_outfit_tyrannosaurus_photo_shirt"
         ],
         "type": "scatter",
         "x": {
          "bdata": "AAAAAAAAAADE/ZVlq4TtP8T9lWWrhO0/AAAAAAAAAAA=",
          "dtype": "f8"
         },
         "xaxis": "x",
         "y": {
          "bdata": "AAAAAAAAFMAAAAAAAAAUwAAAAAAAAC7AAAAAAAAALsA=",
          "dtype": "f8"
         },
         "yaxis": "y"
        },
        {
         "hoverinfo": "text",
         "marker": {
          "color": "rgb(61,153,112)"
         },
         "mode": "lines",
         "text": [
          "morning_goodnight_bed_night_awake",
          "",
          "",
          "twitter_tweet_tweets_twitterland_tweetdeck"
         ],
         "type": "scatter",
         "x": {
          "bdata": "AAAAAAAAAADkCMWual/oP+QIxa5qX+g/AAAAAAAAAAA=",
          "dtype": "f8"
         },
         "xaxis": "x",
         "y": {
          "bdata": "AAAAAACARsAAAAAAAIBGwAAAAAAAgEvAAAAAAACAS8A=",
          "dtype": "f8"
         },
         "yaxis": "y"
        },
        {
         "hoverinfo": "text",
         "marker": {
          "color": "rgb(61,153,112)"
         },
         "mode": "lines",
         "text": [
          "watched_concert_bgt_watch_movie",
          "",
          "",
          "twitter_tweet_tweets_morning_tweetdeck"
         ],
         "type": "scatter",
         "x": {
          "bdata": "AAAAAAAAAADGYnfbVRnqP8Zid9tVGeo/5AjFrmpf6D8=",
          "dtype": "f8"
         },
         "xaxis": "x",
         "y": {
          "bdata": "AAAAAACAQcAAAAAAAIBBwAAAAAAAAEnAAAAAAAAAScA=",
          "dtype": "f8"
         },
         "yaxis": "y"
        },
        {
         "hoverinfo": "text",
         "marker": {
          "color": "rgb(61,153,112)"
         },
         "mode": "lines",
         "text": [
          "tweet_twitter_tweets_tweetdeck_tonight",
          "",
          "",
          "life_depressed_happy_feel_miserable"
         ],
         "type": "scatter",
         "x": {
          "bdata": "xmJ321UZ6j9DW+3NwNPrP0Nb7c3A0+s/AAAAAAAAAAA=",
          "dtype": "f8"
         },
         "xaxis": "x",
         "y": {
          "bdata": "AAAAAABARcAAAAAAAEBFwAAAAAAAQFDAAAAAAABAUMA=",
          "dtype": "f8"
         },
         "yaxis": "y"
        },
        {
         "hoverinfo": "text",
         "marker": {
          "color": "rgb(61,153,112)"
         },
         "mode": "lines",
         "text": [
          "sick_nauseous_craving_hungry_flu",
          "",
          "",
          "morning_night_tonight_day_today"
         ],
         "type": "scatter",
         "x": {
          "bdata": "AAAAAAAAAAAzD+bHV1jsPzMP5sdXWOw/Q1vtzcDT6z8=",
          "dtype": "f8"
         },
         "xaxis": "x",
         "y": {
          "bdata": "AAAAAAAAOcAAAAAAAAA5wAAAAAAA4ErAAAAAAADgSsA=",
          "dtype": "f8"
         },
         "yaxis": "y"
        },
        {
         "hoverinfo": "text",
         "marker": {
          "color": "rgb(61,153,112)"
         },
         "mode": "lines",
         "text": [
          "morning_night_tonight_day_today",
          "",
          "",
          "mothers_mother_mama_mom_mum"
         ],
         "type": "scatter",
         "x": {
          "bdata": "Mw/mx1dY7D8cDGvlURHuPxwMa+VREe4/AAAAAAAAAAA=",
          "dtype": "f8"
         },
         "xaxis": "x",
         "y": {
          "bdata": "AAAAAACwQ8AAAAAAALBDwAAAAAAAwFLAAAAAAADAUsA=",
          "dtype": "f8"
         },
         "yaxis": "y"
        },
        {
         "hoverinfo": "text",
         "marker": {
          "color": "rgb(61,153,112)"
         },
         "mode": "lines",
         "text": [
          "zoo_outfit_photos_photo_shirt",
          "",
          "",
          "tweet_day_twitter_mothers_mom"
         ],
         "type": "scatter",
         "x": {
          "bdata": "xP2VZauE7T9iGUH7vM7vP2IZQfu8zu8/HAxr5VER7j8=",
          "dtype": "f8"
         },
         "xaxis": "x",
         "y": {
          "bdata": "AAAAAAAAJMAAAAAAAAAkwAAAAAAAmEzAAAAAAACYTMA=",
          "dtype": "f8"
         },
         "yaxis": "y"
        },
        {
         "hoverinfo": "text",
         "hovertext": [
          "tweet_twitter_tweets_tweetdeck_tonight",
          "morning_night_tonight_day_today",
          "zoo_outfit_photos_photo_shirt"
         ],
         "marker": {
          "color": "black"
         },
         "mode": "markers",
         "showlegend": false,
         "type": "scatter",
         "x": [
          0.8155926977588812,
          0.8857840446730506,
          0.9224450096225429
         ],
         "y": [
          -42.5,
          -39.375,
          -10
         ]
        },
        {
         "hoverinfo": "text",
         "hovertext": [
          "twitter_tweet_tweets_morning_tweetdeck",
          "morning_night_tonight_day_today",
          "tweet_day_twitter_mothers_mom"
         ],
         "marker": {
          "color": "black"
         },
         "mode": "markers",
         "showlegend": false,
         "type": "scatter",
         "x": [
          0.7616475499601418,
          0.8695987722411264,
          0.9396142464469253
         ],
         "y": [
          -50,
          -53.75,
          -57.1875
         ]
        }
       ],
       "layout": {
        "autosize": false,
        "height": 320,
        "hoverlabel": {
         "bgcolor": "white",
         "font": {
          "family": "Rockwell",
          "size": 16
         }
        },
        "hovermode": "closest",
        "plot_bgcolor": "#ECEFF1",
        "showlegend": false,
        "template": {
         "data": {
          "bar": [
           {
            "error_x": {
             "color": "#2a3f5f"
            },
            "error_y": {
             "color": "#2a3f5f"
            },
            "marker": {
             "line": {
              "color": "white",
              "width": 0.5
             },
             "pattern": {
              "fillmode": "overlay",
              "size": 10,
              "solidity": 0.2
             }
            },
            "type": "bar"
           }
          ],
          "barpolar": [
           {
            "marker": {
             "line": {
              "color": "white",
              "width": 0.5
             },
             "pattern": {
              "fillmode": "overlay",
              "size": 10,
              "solidity": 0.2
             }
            },
            "type": "barpolar"
           }
          ],
          "carpet": [
           {
            "aaxis": {
             "endlinecolor": "#2a3f5f",
             "gridcolor": "#C8D4E3",
             "linecolor": "#C8D4E3",
             "minorgridcolor": "#C8D4E3",
             "startlinecolor": "#2a3f5f"
            },
            "baxis": {
             "endlinecolor": "#2a3f5f",
             "gridcolor": "#C8D4E3",
             "linecolor": "#C8D4E3",
             "minorgridcolor": "#C8D4E3",
             "startlinecolor": "#2a3f5f"
            },
            "type": "carpet"
           }
          ],
          "choropleth": [
           {
            "colorbar": {
             "outlinewidth": 0,
             "ticks": ""
            },
            "type": "choropleth"
           }
          ],
          "contour": [
           {
            "colorbar": {
             "outlinewidth": 0,
             "ticks": ""
            },
            "colorscale": [
             [
              0,
              "#0d0887"
             ],
             [
              0.1111111111111111,
              "#46039f"
             ],
             [
              0.2222222222222222,
              "#7201a8"
             ],
             [
              0.3333333333333333,
              "#9c179e"
             ],
             [
              0.4444444444444444,
              "#bd3786"
             ],
             [
              0.5555555555555556,
              "#d8576b"
             ],
             [
              0.6666666666666666,
              "#ed7953"
             ],
             [
              0.7777777777777778,
              "#fb9f3a"
             ],
             [
              0.8888888888888888,
              "#fdca26"
             ],
             [
              1,
              "#f0f921"
             ]
            ],
            "type": "contour"
           }
          ],
          "contourcarpet": [
           {
            "colorbar": {
             "outlinewidth": 0,
             "ticks": ""
            },
            "type": "contourcarpet"
           }
          ],
          "heatmap": [
           {
            "colorbar": {
             "outlinewidth": 0,
             "ticks": ""
            },
            "colorscale": [
             [
              0,
              "#0d0887"
             ],
             [
              0.1111111111111111,
              "#46039f"
             ],
             [
              0.2222222222222222,
              "#7201a8"
             ],
             [
              0.3333333333333333,
              "#9c179e"
             ],
             [
              0.4444444444444444,
              "#bd3786"
             ],
             [
              0.5555555555555556,
              "#d8576b"
             ],
             [
              0.6666666666666666,
              "#ed7953"
             ],
             [
              0.7777777777777778,
              "#fb9f3a"
             ],
             [
              0.8888888888888888,
              "#fdca26"
             ],
             [
              1,
              "#f0f921"
             ]
            ],
            "type": "heatmap"
           }
          ],
          "histogram": [
           {
            "marker": {
             "pattern": {
              "fillmode": "overlay",
              "size": 10,
              "solidity": 0.2
             }
            },
            "type": "histogram"
           }
          ],
          "histogram2d": [
           {
            "colorbar": {
             "outlinewidth": 0,
             "ticks": ""
            },
            "colorscale": [
             [
              0,
              "#0d0887"
             ],
             [
              0.1111111111111111,
              "#46039f"
             ],
             [
              0.2222222222222222,
              "#7201a8"
             ],
             [
              0.3333333333333333,
              "#9c179e"
             ],
             [
              0.4444444444444444,
              "#bd3786"
             ],
             [
              0.5555555555555556,
              "#d8576b"
             ],
             [
              0.6666666666666666,
              "#ed7953"
             ],
             [
              0.7777777777777778,
              "#fb9f3a"
             ],
             [
              0.8888888888888888,
              "#fdca26"
             ],
             [
              1,
              "#f0f921"
             ]
            ],
            "type": "histogram2d"
           }
          ],
          "histogram2dcontour": [
           {
            "colorbar": {
             "outlinewidth": 0,
             "ticks": ""
            },
            "colorscale": [
             [
              0,
              "#0d0887"
             ],
             [
              0.1111111111111111,
              "#46039f"
             ],
             [
              0.2222222222222222,
              "#7201a8"
             ],
             [
              0.3333333333333333,
              "#9c179e"
             ],
             [
              0.4444444444444444,
              "#bd3786"
             ],
             [
              0.5555555555555556,
              "#d8576b"
             ],
             [
              0.6666666666666666,
              "#ed7953"
             ],
             [
              0.7777777777777778,
              "#fb9f3a"
             ],
             [
              0.8888888888888888,
              "#fdca26"
             ],
             [
              1,
              "#f0f921"
             ]
            ],
            "type": "histogram2dcontour"
           }
          ],
          "mesh3d": [
           {
            "colorbar": {
             "outlinewidth": 0,
             "ticks": ""
            },
            "type": "mesh3d"
           }
          ],
          "parcoords": [
           {
            "line": {
             "colorbar": {
              "outlinewidth": 0,
              "ticks": ""
             }
            },
            "type": "parcoords"
           }
          ],
          "pie": [
           {
            "automargin": true,
            "type": "pie"
           }
          ],
          "scatter": [
           {
            "fillpattern": {
             "fillmode": "overlay",
             "size": 10,
             "solidity": 0.2
            },
            "type": "scatter"
           }
          ],
          "scatter3d": [
           {
            "line": {
             "colorbar": {
              "outlinewidth": 0,
              "ticks": ""
             }
            },
            "marker": {
             "colorbar": {
              "outlinewidth": 0,
              "ticks": ""
             }
            },
            "type": "scatter3d"
           }
          ],
          "scattercarpet": [
           {
            "marker": {
             "colorbar": {
              "outlinewidth": 0,
              "ticks": ""
             }
            },
            "type": "scattercarpet"
           }
          ],
          "scattergeo": [
           {
            "marker": {
             "colorbar": {
              "outlinewidth": 0,
              "ticks": ""
             }
            },
            "type": "scattergeo"
           }
          ],
          "scattergl": [
           {
            "marker": {
             "colorbar": {
              "outlinewidth": 0,
              "ticks": ""
             }
            },
            "type": "scattergl"
           }
          ],
          "scattermap": [
           {
            "marker": {
             "colorbar": {
              "outlinewidth": 0,
              "ticks": ""
             }
            },
            "type": "scattermap"
           }
          ],
          "scattermapbox": [
           {
            "marker": {
             "colorbar": {
              "outlinewidth": 0,
              "ticks": ""
             }
            },
            "type": "scattermapbox"
           }
          ],
          "scatterpolar": [
           {
            "marker": {
             "colorbar": {
              "outlinewidth": 0,
              "ticks": ""
             }
            },
            "type": "scatterpolar"
           }
          ],
          "scatterpolargl": [
           {
            "marker": {
             "colorbar": {
              "outlinewidth": 0,
              "ticks": ""
             }
            },
            "type": "scatterpolargl"
           }
          ],
          "scatterternary": [
           {
            "marker": {
             "colorbar": {
              "outlinewidth": 0,
              "ticks": ""
             }
            },
            "type": "scatterternary"
           }
          ],
          "surface": [
           {
            "colorbar": {
             "outlinewidth": 0,
             "ticks": ""
            },
            "colorscale": [
             [
              0,
              "#0d0887"
             ],
             [
              0.1111111111111111,
              "#46039f"
             ],
             [
              0.2222222222222222,
              "#7201a8"
             ],
             [
              0.3333333333333333,
              "#9c179e"
             ],
             [
              0.4444444444444444,
              "#bd3786"
             ],
             [
              0.5555555555555556,
              "#d8576b"
             ],
             [
              0.6666666666666666,
              "#ed7953"
             ],
             [
              0.7777777777777778,
              "#fb9f3a"
             ],
             [
              0.8888888888888888,
              "#fdca26"
             ],
             [
              1,
              "#f0f921"
             ]
            ],
            "type": "surface"
           }
          ],
          "table": [
           {
            "cells": {
             "fill": {
              "color": "#EBF0F8"
             },
             "line": {
              "color": "white"
             }
            },
            "header": {
             "fill": {
              "color": "#C8D4E3"
             },
             "line": {
              "color": "white"
             }
            },
            "type": "table"
           }
          ]
         },
         "layout": {
          "annotationdefaults": {
           "arrowcolor": "#2a3f5f",
           "arrowhead": 0,
           "arrowwidth": 1
          },
          "autotypenumbers": "strict",
          "coloraxis": {
           "colorbar": {
            "outlinewidth": 0,
            "ticks": ""
           }
          },
          "colorscale": {
           "diverging": [
            [
             0,
             "#8e0152"
            ],
            [
             0.1,
             "#c51b7d"
            ],
            [
             0.2,
             "#de77ae"
            ],
            [
             0.3,
             "#f1b6da"
            ],
            [
             0.4,
             "#fde0ef"
            ],
            [
             0.5,
             "#f7f7f7"
            ],
            [
             0.6,
             "#e6f5d0"
            ],
            [
             0.7,
             "#b8e186"
            ],
            [
             0.8,
             "#7fbc41"
            ],
            [
             0.9,
             "#4d9221"
            ],
            [
             1,
             "#276419"
            ]
           ],
           "sequential": [
            [
             0,
             "#0d0887"
            ],
            [
             0.1111111111111111,
             "#46039f"
            ],
            [
             0.2222222222222222,
             "#7201a8"
            ],
            [
             0.3333333333333333,
             "#9c179e"
            ],
            [
             0.4444444444444444,
             "#bd3786"
            ],
            [
             0.5555555555555556,
             "#d8576b"
            ],
            [
             0.6666666666666666,
             "#ed7953"
            ],
            [
             0.7777777777777778,
             "#fb9f3a"
            ],
            [
             0.8888888888888888,
             "#fdca26"
            ],
            [
             1,
             "#f0f921"
            ]
           ],
           "sequentialminus": [
            [
             0,
             "#0d0887"
            ],
            [
             0.1111111111111111,
             "#46039f"
            ],
            [
             0.2222222222222222,
             "#7201a8"
            ],
            [
             0.3333333333333333,
             "#9c179e"
            ],
            [
             0.4444444444444444,
             "#bd3786"
            ],
            [
             0.5555555555555556,
             "#d8576b"
            ],
            [
             0.6666666666666666,
             "#ed7953"
            ],
            [
             0.7777777777777778,
             "#fb9f3a"
            ],
            [
             0.8888888888888888,
             "#fdca26"
            ],
            [
             1,
             "#f0f921"
            ]
           ]
          },
          "colorway": [
           "#636efa",
           "#EF553B",
           "#00cc96",
           "#ab63fa",
           "#FFA15A",
           "#19d3f3",
           "#FF6692",
           "#B6E880",
           "#FF97FF",
           "#FECB52"
          ],
          "font": {
           "color": "#2a3f5f"
          },
          "geo": {
           "bgcolor": "white",
           "lakecolor": "white",
           "landcolor": "white",
           "showlakes": true,
           "showland": true,
           "subunitcolor": "#C8D4E3"
          },
          "hoverlabel": {
           "align": "left"
          },
          "hovermode": "closest",
          "mapbox": {
           "style": "light"
          },
          "paper_bgcolor": "white",
          "plot_bgcolor": "white",
          "polar": {
           "angularaxis": {
            "gridcolor": "#EBF0F8",
            "linecolor": "#EBF0F8",
            "ticks": ""
           },
           "bgcolor": "white",
           "radialaxis": {
            "gridcolor": "#EBF0F8",
            "linecolor": "#EBF0F8",
            "ticks": ""
           }
          },
          "scene": {
           "xaxis": {
            "backgroundcolor": "white",
            "gridcolor": "#DFE8F3",
            "gridwidth": 2,
            "linecolor": "#EBF0F8",
            "showbackground": true,
            "ticks": "",
            "zerolinecolor": "#EBF0F8"
           },
           "yaxis": {
            "backgroundcolor": "white",
            "gridcolor": "#DFE8F3",
            "gridwidth": 2,
            "linecolor": "#EBF0F8",
            "showbackground": true,
            "ticks": "",
            "zerolinecolor": "#EBF0F8"
           },
           "zaxis": {
            "backgroundcolor": "white",
            "gridcolor": "#DFE8F3",
            "gridwidth": 2,
            "linecolor": "#EBF0F8",
            "showbackground": true,
            "ticks": "",
            "zerolinecolor": "#EBF0F8"
           }
          },
          "shapedefaults": {
           "line": {
            "color": "#2a3f5f"
           }
          },
          "ternary": {
           "aaxis": {
            "gridcolor": "#DFE8F3",
            "linecolor": "#A2B1C6",
            "ticks": ""
           },
           "baxis": {
            "gridcolor": "#DFE8F3",
            "linecolor": "#A2B1C6",
            "ticks": ""
           },
           "bgcolor": "white",
           "caxis": {
            "gridcolor": "#DFE8F3",
            "linecolor": "#A2B1C6",
            "ticks": ""
           }
          },
          "title": {
           "x": 0.05
          },
          "xaxis": {
           "automargin": true,
           "gridcolor": "#EBF0F8",
           "linecolor": "#EBF0F8",
           "ticks": "",
           "title": {
            "standoff": 15
           },
           "zerolinecolor": "#EBF0F8",
           "zerolinewidth": 2
          },
          "yaxis": {
           "automargin": true,
           "gridcolor": "#EBF0F8",
           "linecolor": "#EBF0F8",
           "ticks": "",
           "title": {
            "standoff": 15
           },
           "zerolinecolor": "#EBF0F8",
           "zerolinewidth": 2
          }
         }
        },
        "title": {
         "font": {
          "color": "Black",
          "size": 22
         },
         "text": "<b>Hierarchical Clustering</b>",
         "x": 0.5,
         "xanchor": "center",
         "yanchor": "top"
        },
        "width": 1000,
        "xaxis": {
         "mirror": "allticks",
         "rangemode": "tozero",
         "showgrid": false,
         "showline": true,
         "showticklabels": true,
         "ticks": "outside",
         "type": "linear",
         "zeroline": false
        },
        "yaxis": {
         "mirror": "allticks",
         "range": [
          -80,
          0
         ],
         "rangemode": "tozero",
         "showgrid": false,
         "showline": true,
         "showticklabels": true,
         "tickmode": "array",
         "ticks": "outside",
         "ticktext": [
          "7_welcome_thanks_following",
          "5_zoo_outfit_tyrannosaurus",
          "3_sick_nauseous_craving",
          "2_watched_concert_bgt",
          "0_morning_goodnight_bed",
          "1_twitter_tweet_tweets",
          "4_life_depressed_happy",
          "6_mothers_mother_mama"
         ],
         "tickvals": [
          -5,
          -15,
          -25,
          -35,
          -45,
          -55,
          -65,
          -75
         ],
         "type": "linear",
         "zeroline": false
        }
       }
      }
     },
     "metadata": {},
     "output_type": "display_data"
    }
   ],
   "source": [
    "hierarchical_topics = topic_model.hierarchical_topics(docs)\n",
    "topic_model.visualize_hierarchy(hierarchical_topics=hierarchical_topics)"
   ]
  }
 ],
 "metadata": {
  "kernelspec": {
   "display_name": "torch_gpu",
   "language": "python",
   "name": "python3"
  },
  "language_info": {
   "codemirror_mode": {
    "name": "ipython",
    "version": 3
   },
   "file_extension": ".py",
   "mimetype": "text/x-python",
   "name": "python",
   "nbconvert_exporter": "python",
   "pygments_lexer": "ipython3",
   "version": "3.10.16"
  }
 },
 "nbformat": 4,
 "nbformat_minor": 5
}
