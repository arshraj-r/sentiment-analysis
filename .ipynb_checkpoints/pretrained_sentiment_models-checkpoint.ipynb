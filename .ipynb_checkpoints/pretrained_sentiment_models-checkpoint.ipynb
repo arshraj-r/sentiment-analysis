{
 "cells": [
  {
   "cell_type": "markdown",
   "id": "d6d91e7a-6a5f-486d-aba9-94db29410688",
   "metadata": {},
   "source": [
    "### Setting up directory"
   ]
  },
  {
   "cell_type": "code",
   "execution_count": 48,
   "id": "87d6379f-4bbc-49ed-9a1d-d84627fcf89f",
   "metadata": {},
   "outputs": [
    {
     "name": "stdout",
     "output_type": "stream",
     "text": [
      "True\n",
      "device=0\n"
     ]
    }
   ],
   "source": [
    "import torch\n",
    "import pandas as pd\n",
    "from transformers import pipeline\n",
    "from sklearn.metrics import accuracy_score, precision_recall_fscore_support, classification_report\n",
    "\n",
    "\n",
    "print(torch.cuda.is_available())  \n",
    "device = 0 if torch.cuda.is_available() else -1\n",
    "print(f\"device={device}\")"
   ]
  },
  {
   "cell_type": "markdown",
   "id": "7ed0f1df-320b-4853-9612-12e67bd9667c",
   "metadata": {},
   "source": [
    "### loading the model"
   ]
  },
  {
   "cell_type": "code",
   "execution_count": 49,
   "id": "9558f4bd-1209-4983-9438-95ce3c832e3d",
   "metadata": {},
   "outputs": [
    {
     "name": "stderr",
     "output_type": "stream",
     "text": [
      "Device set to use cuda:0\n"
     ]
    }
   ],
   "source": [
    "model_name=\"cardiffnlp/twitter-roberta-base-sentiment\" #approx 500mb size\n",
    "sentiment_pipeline = pipeline(\"sentiment-analysis\", model=model_name, device=device)"
   ]
  },
  {
   "cell_type": "markdown",
   "id": "a40a5d3e-59f1-435d-9897-afb25d0bce3e",
   "metadata": {},
   "source": [
    "### predicting on data"
   ]
  },
  {
   "cell_type": "markdown",
   "id": "c8ec707a-0762-4e17-8807-f491b466239b",
   "metadata": {},
   "source": [
    "### checking model accuracy "
   ]
  },
  {
   "cell_type": "code",
   "execution_count": 50,
   "id": "0c207256-7038-4eb2-8aa6-c2a248c3b338",
   "metadata": {},
   "outputs": [],
   "source": [
    "df = pd.read_parquet(\"data/train.parquet\", engine=\"pyarrow\")\n",
    "# df=df[:100].copy()\n",
    "results=sentiment_pipeline(df[\"text\"].to_list())\n",
    "\n",
    "df['sentiment_label_code'] = [result['label'] for result in results]\n",
    "df['sentiment_score'] = [result['score'] for result in results]\n",
    "label_mapping = {\"LABEL_0\": \"negative\", \"LABEL_1\": \"neutral\", \"LABEL_2\": \"positive\"}\n",
    "df['sentiment_label'] = df['sentiment_label_code'].map(label_mapping)"
   ]
  },
  {
   "cell_type": "code",
   "execution_count": 51,
   "id": "ff456c37-51c5-4d8a-9504-5cc7e4cbb09d",
   "metadata": {},
   "outputs": [],
   "source": [
    "y_pred = df['sentiment_label']\n",
    "y_true = df['label_text']"
   ]
  },
  {
   "cell_type": "code",
   "execution_count": 52,
   "id": "67e2a197-3ba1-46cd-bca2-7d937cafbc41",
   "metadata": {},
   "outputs": [
    {
     "name": "stdout",
     "output_type": "stream",
     "text": [
      "Accuracy: 0.7209737223923908\n",
      "\n",
      "Classification Report:\n",
      "              precision    recall  f1-score   support\n",
      "\n",
      "    positive       0.70      0.87      0.78      9685\n",
      "     neutral       0.74      0.57      0.64     12548\n",
      "    negative       0.72      0.78      0.75      8782\n",
      "\n",
      "    accuracy                           0.72     31015\n",
      "   macro avg       0.72      0.74      0.72     31015\n",
      "weighted avg       0.72      0.72      0.71     31015\n",
      "\n"
     ]
    }
   ],
   "source": [
    "accuracy = accuracy_score(y_true, y_pred)\n",
    "precision, recall, f1, _ = precision_recall_fscore_support(y_true, y_pred, labels=[\"positive\", \"neutral\", \"negative\"], average='weighted', zero_division=0)\n",
    "\n",
    "print(\"Accuracy:\", accuracy)\n",
    "print(\"\\nClassification Report:\")\n",
    "print(classification_report(y_true, y_pred, labels=[\"positive\", \"neutral\", \"negative\"]))"
   ]
  }
 ],
 "metadata": {
  "kernelspec": {
   "display_name": "Python 3 (ipykernel)",
   "language": "python",
   "name": "python3"
  },
  "language_info": {
   "codemirror_mode": {
    "name": "ipython",
    "version": 3
   },
   "file_extension": ".py",
   "mimetype": "text/x-python",
   "name": "python",
   "nbconvert_exporter": "python",
   "pygments_lexer": "ipython3",
   "version": "3.10.16"
  }
 },
 "nbformat": 4,
 "nbformat_minor": 5
}
