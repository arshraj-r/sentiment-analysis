{
 "cells": [
  {
   "cell_type": "markdown",
   "id": "804c6907-3d71-46ff-84e9-d39d6c1bac06",
   "metadata": {},
   "source": [
    "### PII Removal using spacy"
   ]
  },
  {
   "cell_type": "code",
   "execution_count": null,
   "id": "39c11467-efe0-4b5b-97a1-5204d2c83d02",
   "metadata": {},
   "outputs": [],
   "source": [
    "import spacy\n",
    "import re\n",
    "import pandas as pd\n",
    "\n",
    "#download spacy models - note this is one time activity\n",
    "# !python -m spacy download en_core_web_sm\n",
    "# !python -m spacy download en_core_web_md\n",
    "# !python -m spacy download en_core_web_lg"
   ]
  },
  {
   "cell_type": "code",
   "execution_count": 39,
   "id": "a73bbce2-1cd6-402d-a6f6-72aaa800c756",
   "metadata": {},
   "outputs": [],
   "source": [
    "# Load spaCy English model once\n",
    "\n",
    "# nlp = spacy.load(\"en_core_web_sm\")\n",
    "# nlp = spacy.load(\"en_core_web_md\")\n",
    "nlp = spacy.load(\"en_core_web_lg\")\n",
    "\n",
    "# Define PII-related NER labels\n",
    "PII_ENTITY_LABELS = {\"PERSON\", \"GPE\", \"ORG\", \"DATE\", \"LOC\"}"
   ]
  },
  {
   "cell_type": "code",
   "execution_count": 40,
   "id": "da1158d8-163f-4907-9359-623948ed7ceb",
   "metadata": {},
   "outputs": [],
   "source": [
    "# any other keywords that need to be added will be added in regex\n",
    "REGEX_PATTERNS = {\n",
    "    \"PHONE_NUMBER\": r'\\b(?:\\+?1[-.\\s]?)?\\(?\\d{3}\\)?[-.\\s]?\\d{3}[-.\\s]?\\d{4}\\b',\n",
    "    \"SSN\": r'\\b\\d{3}-\\d{2}-\\d{4}\\b',\n",
    "    \"EMAIL\": r'\\b[\\w.-]+@[\\w.-]+\\.\\w{2,4}\\b',\n",
    "    \"DEPARTMENT\": r'\\b(?:Human Resources|HR|Finance(?: Department)?|Accounting|Legal(?: Team)?|Marketing|Sales(?: Team)?|Customer Support|IT|Information Technology|Engineering|Operations|R&D|Research and Development|Admin(?:istration)?)\\b'\n",
    "}"
   ]
  },
  {
   "cell_type": "code",
   "execution_count": 41,
   "id": "9dd86217-c164-4357-8a89-1f95a83f446f",
   "metadata": {},
   "outputs": [],
   "source": [
    "\n",
    "def remove_pii_from_text(text: str) -> str:\n",
    "    if not isinstance(text, str):\n",
    "        return text\n",
    "\n",
    "    doc = nlp(text)\n",
    "    spans = [ent for ent in doc.ents if ent.label_ in PII_ENTITY_LABELS]\n",
    "                \n",
    "    for label, pattern in REGEX_PATTERNS.items():\n",
    "        for match in re.finditer(pattern, text, flags=re.IGNORECASE):\n",
    "            span = doc.char_span(match.start(), match.end(), label=label.upper())\n",
    "            if span:\n",
    "                spans.append(span)\n",
    "\n",
    "    # Remove overlapping spans\n",
    "    spans = sorted(set(span for span in spans if span), key=lambda x: x.start_char)\n",
    "    \n",
    "    # Replace PII spans with \"[REDACTED]\"\n",
    "    redacted_text = text\n",
    "    offset = 0\n",
    "    for span in spans:\n",
    "        start = span.start_char + offset\n",
    "        end = span.end_char + offset\n",
    "        redacted_text = redacted_text[:start] + \"[REDACTED]\" + redacted_text[end:]\n",
    "        offset += len(\"[REDACTED]\") - (end - start)\n",
    "\n",
    "    return redacted_text"
   ]
  },
  {
   "cell_type": "code",
   "execution_count": 42,
   "id": "83dbdf8b-215d-46ff-9b40-4ee582010ff8",
   "metadata": {},
   "outputs": [],
   "source": [
    "\n",
    "# Sample data for testing\n",
    "df = pd.DataFrame({\n",
    "    \"message\": [\n",
    "        \"John Smith lives in New York and works at Google.\",\n",
    "        \"Contact me at jane.doe@example.com or call 123-456-7890.\",\n",
    "        \"His SSN is 987-65-4320 and birth date is Jan 5, 1985.\"\n",
    "    ]\n",
    "})"
   ]
  },
  {
   "cell_type": "code",
   "execution_count": 43,
   "id": "c432f5b8-2dbd-496b-94b2-9d981c68671c",
   "metadata": {},
   "outputs": [
    {
     "name": "stdout",
     "output_type": "stream",
     "text": [
      "                                             message  \\\n",
      "0  John Smith lives in New York and works at Google.   \n",
      "1  Contact me at jane.doe@example.com or call 123...   \n",
      "2  His SSN is 987-65-4320 and birth date is Jan 5...   \n",
      "\n",
      "                                       clean_message  \n",
      "0  [REDACTED] lives in [REDACTED] and works at [R...  \n",
      "1       Contact me at [REDACTED] or call [REDACTED].  \n",
      "2  His [REDACTED] is [REDACTED] and birth date is...  \n"
     ]
    }
   ],
   "source": [
    "\n",
    "# Apply the function\n",
    "df[\"clean_message\"] = df[\"message\"].apply(remove_pii_from_text)\n",
    "\n",
    "#printing the results\n",
    "print(df[[\"message\", \"clean_message\"]])"
   ]
  },
  {
   "cell_type": "code",
   "execution_count": 44,
   "id": "add1f3e2-c26c-4310-8271-b9575b3ec6ed",
   "metadata": {},
   "outputs": [
    {
     "data": {
      "text/html": [
       "<div>\n",
       "<style scoped>\n",
       "    .dataframe tbody tr th:only-of-type {\n",
       "        vertical-align: middle;\n",
       "    }\n",
       "\n",
       "    .dataframe tbody tr th {\n",
       "        vertical-align: top;\n",
       "    }\n",
       "\n",
       "    .dataframe thead th {\n",
       "        text-align: right;\n",
       "    }\n",
       "</style>\n",
       "<table border=\"1\" class=\"dataframe\">\n",
       "  <thead>\n",
       "    <tr style=\"text-align: right;\">\n",
       "      <th></th>\n",
       "      <th>message</th>\n",
       "      <th>clean_message</th>\n",
       "    </tr>\n",
       "  </thead>\n",
       "  <tbody>\n",
       "    <tr>\n",
       "      <th>0</th>\n",
       "      <td>John Smith lives in New York and works at Google.</td>\n",
       "      <td>[REDACTED] lives in [REDACTED] and works at [R...</td>\n",
       "    </tr>\n",
       "    <tr>\n",
       "      <th>1</th>\n",
       "      <td>Contact me at jane.doe@example.com or call 123...</td>\n",
       "      <td>Contact me at [REDACTED] or call [REDACTED].</td>\n",
       "    </tr>\n",
       "    <tr>\n",
       "      <th>2</th>\n",
       "      <td>His SSN is 987-65-4320 and birth date is Jan 5...</td>\n",
       "      <td>His [REDACTED] is [REDACTED] and birth date is...</td>\n",
       "    </tr>\n",
       "  </tbody>\n",
       "</table>\n",
       "</div>"
      ],
      "text/plain": [
       "                                             message  \\\n",
       "0  John Smith lives in New York and works at Google.   \n",
       "1  Contact me at jane.doe@example.com or call 123...   \n",
       "2  His SSN is 987-65-4320 and birth date is Jan 5...   \n",
       "\n",
       "                                       clean_message  \n",
       "0  [REDACTED] lives in [REDACTED] and works at [R...  \n",
       "1       Contact me at [REDACTED] or call [REDACTED].  \n",
       "2  His [REDACTED] is [REDACTED] and birth date is...  "
      ]
     },
     "execution_count": 44,
     "metadata": {},
     "output_type": "execute_result"
    }
   ],
   "source": [
    "df"
   ]
  },
  {
   "cell_type": "markdown",
   "id": "982f73b6-5213-44c6-9f7f-b376fefbd6cb",
   "metadata": {},
   "source": [
    "### PII removal using Huggingface"
   ]
  },
  {
   "cell_type": "code",
   "execution_count": 45,
   "id": "0a26009d-811f-4559-8258-546e8ac3f3c7",
   "metadata": {},
   "outputs": [
    {
     "name": "stderr",
     "output_type": "stream",
     "text": [
      "Some weights of the model checkpoint at dslim/bert-base-NER were not used when initializing BertForTokenClassification: ['bert.pooler.dense.bias', 'bert.pooler.dense.weight']\n",
      "- This IS expected if you are initializing BertForTokenClassification from the checkpoint of a model trained on another task or with another architecture (e.g. initializing a BertForSequenceClassification model from a BertForPreTraining model).\n",
      "- This IS NOT expected if you are initializing BertForTokenClassification from the checkpoint of a model that you expect to be exactly identical (initializing a BertForSequenceClassification model from a BertForSequenceClassification model).\n",
      "Device set to use cuda:0\n",
      "/home/deadshot/miniconda3/envs/torch_gpu/lib/python3.10/site-packages/transformers/pipelines/token_classification.py:170: UserWarning: `grouped_entities` is deprecated and will be removed in version v5.0.0, defaulted to `aggregation_strategy=\"simple\"` instead.\n",
      "  warnings.warn(\n"
     ]
    }
   ],
   "source": [
    "from transformers import pipeline\n",
    "\n",
    "# Load Hugging Face NER pipeline\n",
    "ner_pipeline = pipeline(\"ner\", model=\"dslim/bert-base-NER\", grouped_entities=True)\n",
    "\n",
    "# Define PII entity types (based on common NER schemes)\n",
    "PII_ENTITY_GROUPS = {\"PER\", \"ORG\", \"LOC\", \"MISC\"}"
   ]
  },
  {
   "cell_type": "code",
   "execution_count": 46,
   "id": "16f5278f-b12a-4ace-8f0e-39f56f0bc496",
   "metadata": {},
   "outputs": [],
   "source": [
    "\n",
    "def remove_pii_hf(text: str, pii_tags=PII_ENTITY_GROUPS, mask=\"[REDACTED]\") -> str:\n",
    "    if not isinstance(text, str):\n",
    "        return text\n",
    "\n",
    "    entities = ner_pipeline(text)\n",
    "\n",
    "    # Sort entities in reverse order to avoid messing up indices\n",
    "    entities = sorted(entities, key=lambda x: x['start'], reverse=True)\n",
    "\n",
    "    # Replace PII spans\n",
    "    for ent in entities:\n",
    "        if ent[\"entity_group\"] in pii_tags:\n",
    "            start, end = ent[\"start\"], ent[\"end\"]\n",
    "            text = text[:start] + mask + text[end:]\n",
    "\n",
    "    return text\n"
   ]
  },
  {
   "cell_type": "code",
   "execution_count": 47,
   "id": "8ec35abd-56de-461f-ac5c-5f365a589ab3",
   "metadata": {},
   "outputs": [
    {
     "name": "stdout",
     "output_type": "stream",
     "text": [
      "[REDACTED] lives in [REDACTED] and works at [REDACTED]. His birthday is on July 5th.\n"
     ]
    }
   ],
   "source": [
    "text = \"John Smith lives in New York and works at Microsoft. His birthday is on July 5th.\"\n",
    "\n",
    "clean_text = remove_pii_hf(text)\n",
    "print(clean_text)"
   ]
  },
  {
   "cell_type": "code",
   "execution_count": 48,
   "id": "fedf3ff5-ca61-4b2d-990c-15271a279ed0",
   "metadata": {},
   "outputs": [
    {
     "name": "stdout",
     "output_type": "stream",
     "text": [
      "                                                text  \\\n",
      "0  Elon Musk is the CEO of Tesla and lives in Texas.   \n",
      "1  Sundar Pichai was born in India and works at G...   \n",
      "\n",
      "                                          clean_text  \n",
      "0  [REDACTED][REDACTED] is the CEO of [REDACTED] ...  \n",
      "1  [REDACTED] was born in [REDACTED] and works at...  \n"
     ]
    }
   ],
   "source": [
    "#how to use on dataframe\n",
    "df = pd.DataFrame({\n",
    "    \"text\": [\n",
    "        \"Elon Musk is the CEO of Tesla and lives in Texas.\",\n",
    "        \"Sundar Pichai was born in India and works at Google.\"\n",
    "    ]\n",
    "})\n",
    "\n",
    "df[\"clean_text\"] = df[\"text\"].apply(remove_pii_hf)\n",
    "print(df)"
   ]
  },
  {
   "cell_type": "code",
   "execution_count": null,
   "id": "cfb9debe-306c-4b78-87e6-795ad2655115",
   "metadata": {},
   "outputs": [],
   "source": []
  },
  {
   "cell_type": "code",
   "execution_count": null,
   "id": "7c50bb5b-167d-48b4-8b4b-9f1357aa32ee",
   "metadata": {},
   "outputs": [],
   "source": []
  },
  {
   "cell_type": "code",
   "execution_count": null,
   "id": "9414a0d1-af7e-4e16-8dae-0ffc9a5ea8b7",
   "metadata": {},
   "outputs": [],
   "source": []
  }
 ],
 "metadata": {
  "kernelspec": {
   "display_name": "Python 3 (ipykernel)",
   "language": "python",
   "name": "python3"
  },
  "language_info": {
   "codemirror_mode": {
    "name": "ipython",
    "version": 3
   },
   "file_extension": ".py",
   "mimetype": "text/x-python",
   "name": "python",
   "nbconvert_exporter": "python",
   "pygments_lexer": "ipython3",
   "version": "3.10.16"
  }
 },
 "nbformat": 4,
 "nbformat_minor": 5
}
